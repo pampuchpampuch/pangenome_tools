{
 "cells": [
  {
   "cell_type": "code",
   "execution_count": 1,
   "id": "37b3ae97-1ffb-4ec2-a35b-82221d5ad79d",
   "metadata": {},
   "outputs": [],
   "source": [
    "from pgtools import maf_parser\n",
    "from pgtools.utils import intersection_len\n",
    "from itertools import combinations"
   ]
  },
  {
   "cell_type": "code",
   "execution_count": 2,
   "id": "93040502-407c-4083-9fa4-e052f057210e",
   "metadata": {},
   "outputs": [],
   "source": [
    "maf_dir = \"/home/pampuch/studia/magisterka/test_data/klebsiella_subset_old/panaroo_new.maf\""
   ]
  },
  {
   "cell_type": "code",
   "execution_count": 3,
   "id": "77e4b88f-d6a9-4a4c-9edc-28d225087e3c",
   "metadata": {},
   "outputs": [],
   "source": [
    "maf = maf_parser.parse_maf(maf_dir)"
   ]
  },
  {
   "cell_type": "code",
   "execution_count": 14,
   "id": "f45b5019-306d-48a7-868b-fd0dcfe84b41",
   "metadata": {},
   "outputs": [],
   "source": [
    "overlapping_blocks = []\n",
    "all_sequences = []\n",
    "for block in list(maf.seq_collections)[:500]:\n",
    "    # print(block.id)\n",
    "    for seq in block.sequences:\n",
    "        all_sequences.append(seq)\n",
    "        # print(seq.annotation_ids)\n",
    "        # print(seq.cluster_id)\n",
    "    # break"
   ]
  },
  {
   "cell_type": "markdown",
   "id": "b0b726b5-58a0-4618-9346-3ec9222de3d7",
   "metadata": {},
   "source": [
    "1. if sequences in one block overlap - delete the shorter one\n",
    "2. if sequences in different blocks overlap - check which overlaping sequence has max overlap\n",
    "3. PROBLEM: often one block overlaps with multiple other blocks\n",
    "\n",
    "-> Mabye try different approach: take care of overlaps for each pair of blocks separately, starting from ones with highest overlap\n",
    "\n",
    "1. Take care of overlaps within blocks: check overlaps only withing each block end delete shorter duplicate\n",
    "2. Check for overlaps between block. Sort from boggest overlap to shortest."
   ]
  },
  {
   "cell_type": "code",
   "execution_count": 23,
   "id": "aeb3331b-1883-49c4-9636-3a4bd28ebaf9",
   "metadata": {
    "scrolled": true
   },
   "outputs": [],
   "source": [
    "overlapping_pairs = {}\n",
    "for s1, s2 in combinations(all_sequences,2):\n",
    "    if s1.seq_name != s2.seq_name or s1.strand != s2.strand:\n",
    "        continue\n",
    "    inter_len = intersection_len((s1.start, s1.end), (s2.start, s2.end))\n",
    "    if inter_len > 0:\n",
    "            overlapping_pairs[tuple(sorted((s1.cluster_id, s2.cluster_id)))] = inter_len"
   ]
  },
  {
   "cell_type": "code",
   "execution_count": 6,
   "id": "181e533a-dc49-4355-80b3-b278b58d2850",
   "metadata": {},
   "outputs": [],
   "source": [
    "# len(list(combinations(all_sequences,2)))"
   ]
  },
  {
   "cell_type": "code",
   "execution_count": 24,
   "id": "fd598881-5337-4aeb-99d9-fe867962398a",
   "metadata": {},
   "outputs": [
    {
     "name": "stdout",
     "output_type": "stream",
     "text": [
      "{(3399, 7971): 9, (6578, 6578): 54, (3938, 3938): 39, (7977, 7977): 35, (657, 7978): 5, (8631, 8631): 5, (658, 842): 5, (667, 8756): 5, (1962, 1962): 5, (2490, 2490): 2, (840, 840): 8, (1968, 1968): 17, (126, 126): 26}\n"
     ]
    }
   ],
   "source": [
    "print(overlapping_pairs)"
   ]
  },
  {
   "cell_type": "code",
   "execution_count": 28,
   "id": "2b0cd811-415f-4098-b4a9-a950564b1d87",
   "metadata": {},
   "outputs": [],
   "source": [
    "sorted_blocks = list(overlapping_pairs.keys())\n",
    "sorted_blocks.sort(key = lambda x: overlapping_pairs[x], reverse=True)"
   ]
  },
  {
   "cell_type": "code",
   "execution_count": 29,
   "id": "8a67f10e-3886-47bb-88d5-02c498431e2a",
   "metadata": {},
   "outputs": [
    {
     "data": {
      "text/plain": [
       "[(6578, 6578),\n",
       " (3938, 3938),\n",
       " (7977, 7977),\n",
       " (126, 126),\n",
       " (1968, 1968),\n",
       " (3399, 7971),\n",
       " (840, 840),\n",
       " (657, 7978),\n",
       " (8631, 8631),\n",
       " (658, 842),\n",
       " (667, 8756),\n",
       " (1962, 1962),\n",
       " (2490, 2490)]"
      ]
     },
     "execution_count": 29,
     "metadata": {},
     "output_type": "execute_result"
    }
   ],
   "source": [
    "sorted_blocks"
   ]
  },
  {
   "cell_type": "code",
   "execution_count": 17,
   "id": "8c834261-a1be-4e17-935c-a4364c18c5be",
   "metadata": {},
   "outputs": [
    {
     "name": "stdout",
     "output_type": "stream",
     "text": [
      "cluster_ids: 3399 7971\n",
      "5193_2_6.contig00080: 6501 - 9615, -1\n",
      "5193_2_6.contig00080: 5189 - 6509, -1\n",
      "======\n",
      "cluster_ids: 6578 6578\n",
      "5235_6_6.contig00240: 790 - 2320, 1\n",
      "5235_6_6.contig00240: 2267 - 2531, 1\n",
      "======\n",
      "cluster_ids: 3938 3938\n",
      "5235_5_4.contig00237: 7559 - 8045, -1\n",
      "5235_5_4.contig00237: 6949 - 7597, -1\n",
      "======\n",
      "cluster_ids: 7977 7977\n",
      "5235_1_4.contig00099: 9390 - 9873, 1\n",
      "5235_1_4.contig00099: 9839 - 11531, 1\n",
      "======\n",
      "cluster_ids: 7978 657\n",
      "5150_3_5.contig00103: 3748 - 3865, 1\n",
      "5150_3_5.contig00103: 3861 - 4410, 1\n",
      "======\n",
      "cluster_ids: 7978 657\n",
      "5235_6_6.contig00398: 115 - 232, -1\n",
      "5235_6_6.contig00398: 228 - 777, -1\n",
      "======\n",
      "cluster_ids: 7978 657\n",
      "5193_8_2.contig00066: 1173 - 1290, 1\n",
      "5193_8_2.contig00066: 1286 - 1835, 1\n",
      "======\n",
      "cluster_ids: 8631 8631\n",
      "5193_1_5.contig00004: 185737 - 186862, -1\n",
      "5193_1_5.contig00004: 183755 - 185741, -1\n",
      "======\n",
      "cluster_ids: 658 842\n",
      "5150_1_3.contig00002: 293143 - 294340, -1\n",
      "5150_1_3.contig00002: 292220 - 293147, -1\n",
      "======\n",
      "cluster_ids: 658 842\n",
      "5235_5_12.contig00002: 44006 - 45203, 1\n",
      "5235_5_12.contig00002: 43083 - 44010, 1\n",
      "======\n"
     ]
    }
   ],
   "source": [
    "for s1, s2 in overlapping_pairs[:10]:\n",
    "    print(\"cluster_ids:\",s1.cluster_id, s2.cluster_id)\n",
    "    print(s1)\n",
    "    print(s2)\n",
    "    print(\"======\")"
   ]
  }
 ],
 "metadata": {
  "kernelspec": {
   "display_name": "Python 3 (ipykernel)",
   "language": "python",
   "name": "python3"
  },
  "language_info": {
   "codemirror_mode": {
    "name": "ipython",
    "version": 3
   },
   "file_extension": ".py",
   "mimetype": "text/x-python",
   "name": "python",
   "nbconvert_exporter": "python",
   "pygments_lexer": "ipython3",
   "version": "3.10.12"
  }
 },
 "nbformat": 4,
 "nbformat_minor": 5
}
