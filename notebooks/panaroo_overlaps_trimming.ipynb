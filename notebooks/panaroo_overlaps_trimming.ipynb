{
 "cells": [
  {
   "cell_type": "code",
   "execution_count": 102,
   "id": "37b3ae97-1ffb-4ec2-a35b-82221d5ad79d",
   "metadata": {},
   "outputs": [],
   "source": [
    "from pgtools import maf_parser\n",
    "from pgtools.gff_parser import parse_GFFs_dir, Gff, parse_gff\n",
    "from pgtools.utils import intersection_len\n",
    "from itertools import combinations\n",
    "from copy import deepcopy\n",
    "from pgtools.pangenome import Pangenome\n",
    "import os"
   ]
  },
  {
   "cell_type": "code",
   "execution_count": 103,
   "id": "93040502-407c-4083-9fa4-e052f057210e",
   "metadata": {},
   "outputs": [],
   "source": [
    "maf_dir = \"/home/pampuch/studia/magisterka/test_data/klebsiella_subset_old/panaroo_new.maf\""
   ]
  },
  {
   "cell_type": "code",
   "execution_count": 104,
   "id": "77e4b88f-d6a9-4a4c-9edc-28d225087e3c",
   "metadata": {},
   "outputs": [],
   "source": [
    "maf = maf_parser.parse_maf(maf_dir)\n",
    "maf = maf.convert_coords_system(\"gff\")"
   ]
  },
  {
   "cell_type": "code",
   "execution_count": 4,
   "id": "f45b5019-306d-48a7-868b-fd0dcfe84b41",
   "metadata": {},
   "outputs": [],
   "source": [
    "overlapping_blocks = []\n",
    "all_sequences = []\n",
    "for block in list(maf.seq_collections)[:500]:\n",
    "    # print(block.id)\n",
    "    for seq in block.sequences:\n",
    "        all_sequences.append(seq)\n",
    "        # print(seq.annotation_ids)\n",
    "        # print(seq.cluster_id)\n",
    "    # break"
   ]
  },
  {
   "cell_type": "code",
   "execution_count": 10,
   "id": "7d200d92-8066-493e-a839-96462bba1590",
   "metadata": {},
   "outputs": [
    {
     "name": "stdout",
     "output_type": "stream",
     "text": [
      "{<pgtools.maf_parser.MAFseq object at 0x7f3a94a000a0>, <pgtools.maf_parser.MAFseq object at 0x7f3a94a000d0>, <pgtools.maf_parser.MAFseq object at 0x7f3a94a00100>, <pgtools.maf_parser.MAFseq object at 0x7f3a94a01240>, <pgtools.maf_parser.MAFseq object at 0x7f3a94a01270>, <pgtools.maf_parser.MAFseq object at 0x7f3a94a00a90>, <pgtools.maf_parser.MAFseq object at 0x7f3a94a012a0>, <pgtools.maf_parser.MAFseq object at 0x7f3a94a00ac0>, <pgtools.maf_parser.MAFseq object at 0x7f3a94a012d0>, <pgtools.maf_parser.MAFseq object at 0x7f3a94a00af0>, <pgtools.maf_parser.MAFseq object at 0x7f3a94a01300>, <pgtools.maf_parser.MAFseq object at 0x7f3a94a01330>, <pgtools.maf_parser.MAFseq object at 0x7f3a94a01360>, <pgtools.maf_parser.MAFseq object at 0x7f3a94a00b80>, <pgtools.maf_parser.MAFseq object at 0x7f3a94a01390>, <pgtools.maf_parser.MAFseq object at 0x7f3a94a013c0>, <pgtools.maf_parser.MAFseq object at 0x7f3a94a013f0>, <pgtools.maf_parser.MAFseq object at 0x7f3a94a01420>, <pgtools.maf_parser.MAFseq object at 0x7f3a94a01450>, <pgtools.maf_parser.MAFseq object at 0x7f3a94a00670>}\n"
     ]
    }
   ],
   "source": [
    "block = list(maf.seq_collections)[0]\n",
    "print(block.sequences)"
   ]
  },
  {
   "cell_type": "markdown",
   "id": "28b0e540-b734-4470-b7f1-963c14a6c262",
   "metadata": {},
   "source": [
    "1. Take care of sequences overlapping within each block"
   ]
  },
  {
   "cell_type": "code",
   "execution_count": 82,
   "id": "0740b351-eccf-41a0-93e8-043776fa6089",
   "metadata": {},
   "outputs": [],
   "source": [
    "overlaping_seqs = []\n",
    "blocks_dict = maf.get_seq_collections_dict()\n",
    "for s1, s2 in combinations(blocks_dict[4541].sequences,2):\n",
    "    if s1.seq_name != s2.seq_name:\n",
    "        continue\n",
    "    inter_len = intersection_len((s1.start, s1.end), (s2.start, s2.end))\n",
    "    if inter_len > 0:\n",
    "        overlaping_seqs.append((s1,s2))"
   ]
  },
  {
   "cell_type": "code",
   "execution_count": 83,
   "id": "0b6ce5eb-94b6-41e8-a835-159c628b4de5",
   "metadata": {},
   "outputs": [
    {
     "data": {
      "text/plain": [
       "[(<pgtools.maf_parser.MAFseq at 0x7f3a97b83820>,\n",
       "  <pgtools.maf_parser.MAFseq at 0x7f3a97b83850>),\n",
       " (<pgtools.maf_parser.MAFseq at 0x7f3a97b83880>,\n",
       "  <pgtools.maf_parser.MAFseq at 0x7f3a97b838b0>),\n",
       " (<pgtools.maf_parser.MAFseq at 0x7f3a97b829e0>,\n",
       "  <pgtools.maf_parser.MAFseq at 0x7f3a97b82da0>),\n",
       " (<pgtools.maf_parser.MAFseq at 0x7f3a97b83580>,\n",
       "  <pgtools.maf_parser.MAFseq at 0x7f3a97b835e0>),\n",
       " (<pgtools.maf_parser.MAFseq at 0x7f3a97b835b0>,\n",
       "  <pgtools.maf_parser.MAFseq at 0x7f3a97b83610>),\n",
       " (<pgtools.maf_parser.MAFseq at 0x7f3a97b82dd0>,\n",
       "  <pgtools.maf_parser.MAFseq at 0x7f3a97b82e00>),\n",
       " (<pgtools.maf_parser.MAFseq at 0x7f3a97b82e30>,\n",
       "  <pgtools.maf_parser.MAFseq at 0x7f3a97b82e60>),\n",
       " (<pgtools.maf_parser.MAFseq at 0x7f3a97b83640>,\n",
       "  <pgtools.maf_parser.MAFseq at 0x7f3a97b83670>),\n",
       " (<pgtools.maf_parser.MAFseq at 0x7f3a97b836a0>,\n",
       "  <pgtools.maf_parser.MAFseq at 0x7f3a97b836d0>),\n",
       " (<pgtools.maf_parser.MAFseq at 0x7f3a97b83700>,\n",
       "  <pgtools.maf_parser.MAFseq at 0x7f3a97b83730>),\n",
       " (<pgtools.maf_parser.MAFseq at 0x7f3a97b83760>,\n",
       "  <pgtools.maf_parser.MAFseq at 0x7f3a97b83790>),\n",
       " (<pgtools.maf_parser.MAFseq at 0x7f3a97b837c0>,\n",
       "  <pgtools.maf_parser.MAFseq at 0x7f3a97b837f0>)]"
      ]
     },
     "execution_count": 83,
     "metadata": {},
     "output_type": "execute_result"
    }
   ],
   "source": [
    "overlaping_seqs"
   ]
  },
  {
   "cell_type": "code",
   "execution_count": 88,
   "id": "6742313d-faca-47b0-ab35-e45427a1e33e",
   "metadata": {},
   "outputs": [],
   "source": [
    "overlapping_block_copy = deepcopy(blocks_dict[4541])"
   ]
  },
  {
   "cell_type": "code",
   "execution_count": 160,
   "id": "13850949-39ee-49a9-8263-b045b69b7d41",
   "metadata": {},
   "outputs": [],
   "source": [
    "def trim_overlap(s1, s2):\n",
    "    if intersection_len((s1.start, s1.end), (s2.start, s2.end)) == 0:\n",
    "        # return s1, s2\n",
    "        return\n",
    "    else:\n",
    "        inter_len = intersection_len((s1.start, s1.end), (s2.start, s2.end))\n",
    "    # print(inter_len)\n",
    "    shorter_seq, longer_seq = sorted([s1, s2], key = lambda x: len(x))\n",
    "    # shorter_seq = deepcopy(shorter_seq)\n",
    "    # longer_seq = deepcopy(longer_seq)\n",
    "    \n",
    "    # print(shorter_seq)\n",
    "    # print(longer_seq)\n",
    "    # there is overlap and we want to trim the shorter sequence: \n",
    "    if shorter_seq.start < longer_seq.start:\n",
    "        # longer seq is begind shorter seq - we want to trimm the end of shorter seq\n",
    "        shorter_seq.end -= inter_len\n",
    "    else:\n",
    "        shorter_seq.start += inter_len\n",
    "\n",
    "    # return (shorter_seq, longer_seq)\n",
    "    \n",
    "def clean_block(block):\n",
    "    # print(block.id)\n",
    "    # seqs_to_remove = set()\n",
    "    # new_seqs = {}\n",
    "    # overlapping_pairs = {}\n",
    "    for s1, s2 in combinations(block.sequences,2):\n",
    "        # print(\"i\")\n",
    "        if s1.seq_name != s2.seq_name:\n",
    "            continue\n",
    "        inter_len = intersection_len((s1.start, s1.end), (s2.start, s2.end))\n",
    "        if inter_len > 0:\n",
    "            # print(s1, s2)\n",
    "            trim_overlap(s1,s2)\n",
    "\n",
    "            # overlapping_pairs[tuple(sorted((s1.cluster_id, s2.cluster_id)))] = inter_len\n",
    "            \n",
    "    # return seqs_to_remove\n",
    "\n",
    "clean_block(block)"
   ]
  },
  {
   "cell_type": "code",
   "execution_count": 122,
   "id": "33dfbbc6-974a-4112-9e19-84c72ddf7db3",
   "metadata": {},
   "outputs": [],
   "source": [
    "overlapping_block_copy = deepcopy(blocks_dict[4541])\n",
    "overlapping_block_copy.sequences = list(overlapping_block_copy.sequences)[:7]"
   ]
  },
  {
   "cell_type": "code",
   "execution_count": 123,
   "id": "53531966-1a3b-4249-8602-57e518d0757d",
   "metadata": {},
   "outputs": [
    {
     "name": "stdout",
     "output_type": "stream",
     "text": [
      "4541\n",
      "5197_7_4.contig00042: 20451 - 20705, -1 5197_7_4.contig00042: 20702 - 21469, -1\n",
      "4\n"
     ]
    }
   ],
   "source": [
    "clean_block(overlapping_block_copy)"
   ]
  },
  {
   "cell_type": "code",
   "execution_count": 99,
   "id": "e2df37fa-be53-477e-a4fb-a10915ad971b",
   "metadata": {},
   "outputs": [],
   "source": [
    "for s1, s2 in combinations(overlapping_block_copy.sequences,2):\n",
    "    if s1.seq_name != s2.seq_name:\n",
    "        continue\n",
    "    inter_len = intersection_len((s1.start, s1.end), (s2.start, s2.end))\n",
    "    if inter_len > 0:\n",
    "        # overlaping_seqs.append((s1,s2))\n",
    "        print(s1,s2)"
   ]
  },
  {
   "cell_type": "code",
   "execution_count": 129,
   "id": "b7f5b372-da31-409c-8446-8773605087c4",
   "metadata": {},
   "outputs": [
    {
     "name": "stdout",
     "output_type": "stream",
     "text": [
      "0\n",
      "[2, 2, 3]\n",
      "3\n",
      "1\n",
      "[2, 3, 3]\n",
      "2\n",
      "2\n",
      "[2, 3, 4]\n",
      "3\n"
     ]
    }
   ],
   "source": [
    "a=1\n",
    "b=2\n",
    "c=3\n",
    "list_ = [a,b,c]\n",
    "\n",
    "for n, i in enumerate(list_):\n",
    "    print(n)\n",
    "    list_[n] +=1\n",
    "    print(list_)\n",
    "    try:\n",
    "        print(list_[n-1])\n",
    "    except:\n",
    "        continue"
   ]
  },
  {
   "cell_type": "code",
   "execution_count": 96,
   "id": "dd1f935e-dc25-4036-8722-87c093c7bd1a",
   "metadata": {},
   "outputs": [
    {
     "data": {
      "text/plain": [
       "1"
      ]
     },
     "execution_count": 96,
     "metadata": {},
     "output_type": "execute_result"
    }
   ],
   "source": [
    "a"
   ]
  },
  {
   "cell_type": "code",
   "execution_count": 69,
   "id": "d9ea7dbe-8e81-4db0-8dfe-49bf3ca79940",
   "metadata": {},
   "outputs": [],
   "source": [
    "# def trim_overlap(s1, s2):\n",
    "#     if intersection_len((s1.start, s1.end), (s2.start, s2.end)) == 0:\n",
    "#         return s1, s2\n",
    "#     else:\n",
    "#         inter_len = intersection_len((s1.start, s1.end), (s2.start, s2.end))\n",
    "#     print(inter_len)\n",
    "#     shorter_seq, longer_seq = sorted([s1, s2], key = lambda x: len(x))\n",
    "#     shorter_seq = deepcopy(shorter_seq)\n",
    "#     longer_seq = deepcopy(longer_seq)\n",
    "    \n",
    "#     # print(shorter_seq)\n",
    "#     # print(longer_seq)\n",
    "#     # there is overlap and we want to trim the shorter sequence: \n",
    "#     if shorter_seq.start < longer_seq.start:\n",
    "#         # longer seq is begind shorter seq - we want to trimm the end of shorter seq\n",
    "#         shorter_seq.end -= inter_len\n",
    "#     else:\n",
    "#         shorter_seq.start += inter_len\n",
    "\n",
    "#     return (shorter_seq, longer_seq)"
   ]
  },
  {
   "cell_type": "code",
   "execution_count": 68,
   "id": "8db62981-c97f-4ef5-9093-47e4c0451a5e",
   "metadata": {},
   "outputs": [
    {
     "name": "stdout",
     "output_type": "stream",
     "text": [
      "5197_2_1.contig00026: 64732 - 65499, 1\n",
      "5197_2_1.contig00026: 65492 - 65734, 1\n"
     ]
    }
   ],
   "source": [
    "for i in overlaping_seqs[0]: print(i)"
   ]
  },
  {
   "cell_type": "code",
   "execution_count": 70,
   "id": "e37e4bf5-ddb0-431f-a99f-16398e75634b",
   "metadata": {},
   "outputs": [
    {
     "name": "stdout",
     "output_type": "stream",
     "text": [
      "8\n"
     ]
    }
   ],
   "source": [
    "trimmed = trim_overlap(overlaping_seqs[0][0], overlaping_seqs[0][1])"
   ]
  },
  {
   "cell_type": "code",
   "execution_count": 71,
   "id": "d6a76d33-3f81-4351-94ab-b76fee8a4f3c",
   "metadata": {},
   "outputs": [
    {
     "name": "stdout",
     "output_type": "stream",
     "text": [
      "5197_2_1.contig00026: 65500 - 65734, 1\n",
      "5197_2_1.contig00026: 64732 - 65499, 1\n"
     ]
    }
   ],
   "source": [
    "for i in trimmed: print(i)"
   ]
  },
  {
   "cell_type": "markdown",
   "id": "3181db66-3e2a-41d0-9cc8-6a8f5e72ac67",
   "metadata": {},
   "source": [
    "## Uproszczenie\n",
    "!!! Pamiętaj, że sekwencje w bloku muszą mieć tę samą długość (ale to uliniowienie, nie istotne dopóki nie ma w bloku sekwencji. Poprzycięciu sekwencji bloki trzeba by ponownie uliniowić :((( !!!!!!))))\n",
    "\n",
    "Skoro możesz po prostu zakładać, że przycinasz krótszą sekwencję, to czemu by nie przyciąć po prostu wszystkich występujących overlapów w pliku po parach. Problem - sekwencje mogą rpzestawać na siebie nachodzić w trakcie przycinania z innymi sekwencjami\n",
    "\n",
    "Dla każdej sekwencji trzeba by wybrac taką co maksymalnie na nią nachodzi na początku i na jej końcu - i co?\n",
    "\n",
    "### Prosto:\n",
    "Może zrób tak, że robisz pętle po blokach podwójną i jak znajdziesz overlapy to je przycinasz. Tu jest taki problem, że możesz niepotrzebnie tracić dane - może lepiej porobić pary bloków, policzyć maksymalny overlap i posortować w niego, potem zoribć tą pętlę wg tej kolejności - chyba najlepsza opcja, tylko czy będzie się updatować.\n",
    "\n",
    "### Finalne:\n",
    "\n",
    "pary objektów sekwencji posortowane po overlapie. Potem w pętli stosowane trim overlap\n",
    "\n",
    "#### Pamiętaj\n",
    "\n",
    "1. Na koniec przywróć do coords z mafa\n",
    "2. Pozbieraj sekwencje z contigów. !!! Przy - strand trzeba je odpowiednio odwrócić! Ale to masz już gdzieś w kodzie. Czy robisz to ok - możesz porównać z sekwencją sprzed przycięcia\n",
    "3. jak już masz sekwencje to uliniawianie ich mafftem\n",
    "\n"
   ]
  },
  {
   "cell_type": "code",
   "execution_count": 161,
   "id": "75cfa242-ed6c-4722-99a3-0ac69e240156",
   "metadata": {},
   "outputs": [],
   "source": [
    "all_sequences = []\n",
    "blocks_subset = deepcopy(list(maf.seq_collections)[:500])\n",
    "for block in blocks_subset:\n",
    "    # print(block.id)\n",
    "    for seq in block.sequences:\n",
    "        all_sequences.append(seq)\n",
    "        \n",
    "overlapping_pairs = {}\n",
    "for s1, s2 in combinations(all_sequences,2):\n",
    "    if s1.seq_name != s2.seq_name or s1.strand != s2.strand:\n",
    "        continue\n",
    "    inter_len = intersection_len((s1.start, s1.end), (s2.start, s2.end))\n",
    "    if inter_len > 0:\n",
    "        # print(s1, s2)\n",
    "        overlapping_pairs[(s1, s2)] = inter_len"
   ]
  },
  {
   "cell_type": "code",
   "execution_count": 162,
   "id": "4bfbdc5c-31fe-4ca3-8836-36f61ed0750d",
   "metadata": {},
   "outputs": [],
   "source": [
    "sorted_pairs = sorted(list(overlapping_pairs), key=lambda x: overlapping_pairs[x], reverse=True)"
   ]
  },
  {
   "cell_type": "code",
   "execution_count": 163,
   "id": "023677e7-576a-44ee-a63c-c3eba14e5935",
   "metadata": {},
   "outputs": [
    {
     "name": "stdout",
     "output_type": "stream",
     "text": [
      "69\n"
     ]
    }
   ],
   "source": [
    "print(len(sorted_pairs))"
   ]
  },
  {
   "cell_type": "code",
   "execution_count": 164,
   "id": "df2b4f39-df51-4d48-850b-3e050ca0def9",
   "metadata": {},
   "outputs": [],
   "source": [
    "for block in blocks_subset:\n",
    "    clean_block(block)"
   ]
  },
  {
   "cell_type": "code",
   "execution_count": 165,
   "id": "48231634-8f4f-4921-bff2-0cbb8f5217ed",
   "metadata": {},
   "outputs": [],
   "source": [
    "overlapping_pairs = {}\n",
    "for s1, s2 in combinations(all_sequences,2):\n",
    "    if s1.seq_name != s2.seq_name or s1.strand != s2.strand:\n",
    "        continue\n",
    "    inter_len = intersection_len((s1.start, s1.end), (s2.start, s2.end))\n",
    "    if inter_len > 0:\n",
    "        # print(s1, s2)\n",
    "        overlapping_pairs[(s1, s2)] = inter_len"
   ]
  },
  {
   "cell_type": "code",
   "execution_count": 166,
   "id": "26c59427-2542-4c3c-90fb-a22ab6564fc6",
   "metadata": {},
   "outputs": [
    {
     "data": {
      "text/plain": [
       "44"
      ]
     },
     "execution_count": 166,
     "metadata": {},
     "output_type": "execute_result"
    }
   ],
   "source": [
    "len(overlapping_pairs)"
   ]
  },
  {
   "cell_type": "markdown",
   "id": "f2e73a36-0950-4fe8-88d3-7da880f6440f",
   "metadata": {},
   "source": [
    "## Now take care of overlaps in between blocks"
   ]
  },
  {
   "cell_type": "code",
   "execution_count": 167,
   "id": "6071c4e7-38ba-441c-af19-351f37c20f0c",
   "metadata": {},
   "outputs": [],
   "source": [
    "#check if in fact there are no within block overlaps\n",
    "\n",
    "for s1, s2 in overlapping_pairs:\n",
    "    if s1.cluster_id == s2.cluster_id:\n",
    "        print(s1.cluster_id)"
   ]
  },
  {
   "cell_type": "code",
   "execution_count": 169,
   "id": "3355c17d-62ab-44bc-a694-517d7a263d92",
   "metadata": {},
   "outputs": [],
   "source": [
    "sorted_pairs = sorted(list(overlapping_pairs), key=lambda x: overlapping_pairs[x], reverse=True)"
   ]
  },
  {
   "cell_type": "code",
   "execution_count": 171,
   "id": "3d5009de-c37a-499b-914a-9876185468e8",
   "metadata": {},
   "outputs": [],
   "source": [
    "for s1, s2 in sorted_pairs:\n",
    "    trim_overlap(s1, s2)"
   ]
  },
  {
   "cell_type": "code",
   "execution_count": 172,
   "id": "8305de0c-67ee-4485-b4b0-43cd8cfd42cb",
   "metadata": {},
   "outputs": [],
   "source": [
    "overlapping_pairs = {}\n",
    "for s1, s2 in combinations(all_sequences,2):\n",
    "    if s1.seq_name != s2.seq_name or s1.strand != s2.strand:\n",
    "        continue\n",
    "    inter_len = intersection_len((s1.start, s1.end), (s2.start, s2.end))\n",
    "    if inter_len > 0:\n",
    "        # print(s1, s2)\n",
    "        overlapping_pairs[(s1, s2)] = inter_len"
   ]
  },
  {
   "cell_type": "code",
   "execution_count": 173,
   "id": "433d9951-0069-4601-aa35-dc73609e7dc6",
   "metadata": {},
   "outputs": [
    {
     "data": {
      "text/plain": [
       "{}"
      ]
     },
     "execution_count": 173,
     "metadata": {},
     "output_type": "execute_result"
    }
   ],
   "source": [
    "overlapping_pairs"
   ]
  },
  {
   "cell_type": "code",
   "execution_count": 137,
   "id": "d0a2426a-fc4f-4c66-bf66-dd015f2cea23",
   "metadata": {},
   "outputs": [
    {
     "data": {
      "text/plain": [
       "'kotec'"
      ]
     },
     "execution_count": 137,
     "metadata": {},
     "output_type": "execute_result"
    }
   ],
   "source": [
    "\"koteczek\"[:-3]"
   ]
  },
  {
   "cell_type": "code",
   "execution_count": 138,
   "id": "1cac9b9e-3711-4f76-8001-7658475d4275",
   "metadata": {},
   "outputs": [
    {
     "data": {
      "text/plain": [
       "'eczek'"
      ]
     },
     "execution_count": 138,
     "metadata": {},
     "output_type": "execute_result"
    }
   ],
   "source": [
    "\"koteczek\"[3:]"
   ]
  },
  {
   "cell_type": "code",
   "execution_count": 105,
   "id": "a30b4eef-92a1-4017-b0ae-dc7055c3950d",
   "metadata": {},
   "outputs": [],
   "source": [
    "def trim_overlap(s1, s2):\n",
    "    if intersection_len((s1.start, s1.end), (s2.start, s2.end)) == 0:\n",
    "        # return s1, s2\n",
    "        return\n",
    "    else:\n",
    "        inter_len = intersection_len((s1.start, s1.end), (s2.start, s2.end))\n",
    "    # print(inter_len)\n",
    "    shorter_seq, longer_seq = sorted([s1, s2], key = lambda x: len(x))\n",
    "    # there is overlap and we want to trim the shorter sequence: \n",
    "    if shorter_seq.start < longer_seq.start:\n",
    "        # longer seq is behind shorter seq - we want to trimm the end of shorter seq\n",
    "        shorter_seq.end -= inter_len\n",
    "        if shorter_seq.strand > 0:\n",
    "            shorter_seq.seq = shorter_seq.replace(\"-\",\"\")[:-inter_len]\n",
    "        else:\n",
    "            shorter_seq.seq = shorter_seq.replace(\"-\",\"\")[:inter_len]\n",
    "    else:\n",
    "        shorter_seq.start += inter_len\n",
    "        if shorter_seq.strand > 0:\n",
    "            shorter_seq.seq = shorter_seq.seq.replace(\"-\",\"\")[inter_len:]\n",
    "        else:\n",
    "            shorter_seq.seq = shorter_seq.replace(\"-\",\"\")[:inter_len]\n",
    "    # return (shorter_seq, longer_seq)\n",
    "    \n",
    "def clean_block(block):\n",
    "    for s1, s2 in combinations(block.sequences,2):\n",
    "        # print(\"i\")\n",
    "        if s1.seq_name != s2.seq_name:\n",
    "            continue\n",
    "        inter_len = intersection_len((s1.start, s1.end), (s2.start, s2.end))\n",
    "        if inter_len > 0:\n",
    "            # print(s1, s2)\n",
    "            trim_overlap(s1,s2)\n",
    "\n",
    "def trimm_overlaps_maf(pangenome_obj: Pangenome):\n",
    "    old_coord_sys = pangenome_obj.coord_system\n",
    "    pangenome_obj = pangenome_obj.convert_coords_system(\"gff\")\n",
    "\n",
    "    # all_sequences = []\n",
    "    # for block in pangenome_obj.seq_collections:\n",
    "    #     # print(block.id)\n",
    "    #     for seq in block.sequences:\n",
    "    #         all_sequences.append(seq)\n",
    "    # overlapping_pairs = {}\n",
    "    # for s1, s2 in combinations(all_sequences,2):\n",
    "    #     if s1.seq_name != s2.seq_name or s1.strand != s2.strand:\n",
    "    #         continue\n",
    "    #     inter_len = intersection_len((s1.start, s1.end), (s2.start, s2.end))\n",
    "    #     if inter_len > 0:\n",
    "    #         # print(s1, s2)\n",
    "    #         overlapping_pairs[(s1, s2)] = inter_len\n",
    "\n",
    "    # print(len(overlapping_pairs))\n",
    "    # clean within block overlaps\n",
    "    for block in pangenome_obj.seq_collections:\n",
    "        clean_block(block)\n",
    "        \n",
    "        \n",
    "    all_sequences = []\n",
    "    # blocks_subset = deepcopy(list(maf.seq_collections)[:500])\n",
    "    for block in pangenome_obj.seq_collections:\n",
    "        # print(block.id)\n",
    "        for seq in block.sequences:\n",
    "            all_sequences.append(seq)\n",
    "            \n",
    "    overlapping_pairs = {}\n",
    "    for s1, s2 in combinations(all_sequences,2):\n",
    "        if s1.seq_name != s2.seq_name or s1.strand != s2.strand:\n",
    "            continue\n",
    "        inter_len = intersection_len((s1.start, s1.end), (s2.start, s2.end))\n",
    "        if inter_len > 0:\n",
    "            # print(s1, s2)\n",
    "            overlapping_pairs[(s1, s2)] = inter_len\n",
    "            \n",
    "    sorted_pairs = sorted(list(overlapping_pairs), key=lambda x: overlapping_pairs[x], reverse=True)\n",
    "    print(len(sorted_pairs))\n",
    "    for s1, s2 in sorted_pairs:\n",
    "        trim_overlap(s1, s2)\n",
    "        \n",
    "    overlapping_pairs = {}\n",
    "    for s1, s2 in combinations(all_sequences,2):\n",
    "        if s1.seq_name != s2.seq_name or s1.strand != s2.strand:\n",
    "            continue\n",
    "        inter_len = intersection_len((s1.start, s1.end), (s2.start, s2.end))\n",
    "        if inter_len > 0:\n",
    "            # print(s1, s2)\n",
    "            overlapping_pairs[(s1, s2)] = inter_len\n",
    "\n",
    "    print(overlapping_pairs)\n",
    "    new_blocks_dict = {}\n",
    "    for seq in all_sequences:\n",
    "        if seq.cluster_id in new_blocks_dict:\n",
    "            new_blocks_dict[seq.cluster_id].add(seq)\n",
    "        else:\n",
    "            new_blocks_dict[seq.cluster_id] = {seq}\n",
    "\n",
    "    new_blocks = []\n",
    "    for block in pangenome_obj.seq_collections:\n",
    "        if block.id in new_blocks_dict:\n",
    "            print(block.id)\n",
    "            block.sequences = new_blocks_dict[block.id]\n",
    "        new_blocks.append(block)\n",
    "    pangenome_obj_new = deepcopy(pangenome_obj)\n",
    "    pangenome_obj_new.seq_collections = new_blocks\n",
    "    pangenome_obj = pangenome_obj.convert_coords_system(old_coord_sys)\n",
    "    pangenome_obj_new = pangenome_obj_new.convert_coords_system(old_coord_sys)\n",
    "    return pangenome_obj_new\n",
    "\n",
    "\n",
    "        \n",
    "    \n",
    "    "
   ]
  },
  {
   "cell_type": "code",
   "execution_count": 106,
   "id": "ddb987cf-e5b4-46d6-bcee-3b4543e91796",
   "metadata": {},
   "outputs": [],
   "source": [
    "maf = maf_parser.parse_maf(maf_dir)\n",
    "small_maf_0 = maf_parser.MAF(list(maf.seq_collections)[:500])"
   ]
  },
  {
   "cell_type": "code",
   "execution_count": 107,
   "id": "4a43305e-f387-4cfb-8cf2-504ed475435a",
   "metadata": {},
   "outputs": [],
   "source": [
    "small_maf = deepcopy(small_maf_0)\n",
    "small_maf = small_maf.convert_coords_system(\"gff\")\n",
    "\n",
    "all_sequences = []\n",
    "# blocks_subset = deepcopy(list(maf.seq_collections)[:500])\n",
    "for block in small_maf.seq_collections:\n",
    "    # print(block.id)\n",
    "    for seq in block.sequences:\n",
    "        all_sequences.append(seq)\n",
    "        \n",
    "overlapping_pairs = {}\n",
    "for s1, s2 in combinations(all_sequences,2):\n",
    "    if s1.seq_name != s2.seq_name or s1.strand != s2.strand:\n",
    "        continue\n",
    "    inter_len = intersection_len((s1.start, s1.end), (s2.start, s2.end))\n",
    "    if inter_len > 0:\n",
    "        # print(s1, s2)\n",
    "        overlapping_pairs[(s1, s2)] = inter_len\n",
    "\n",
    "small_maf = small_maf.convert_coords_system(\"maf\")"
   ]
  },
  {
   "cell_type": "code",
   "execution_count": 108,
   "id": "439040b6-6dde-4cb9-baed-936670634ed1",
   "metadata": {},
   "outputs": [
    {
     "data": {
      "text/plain": [
       "77"
      ]
     },
     "execution_count": 108,
     "metadata": {},
     "output_type": "execute_result"
    }
   ],
   "source": [
    "len(overlapping_pairs)"
   ]
  },
  {
   "cell_type": "code",
   "execution_count": 109,
   "id": "9a6f185e-caff-47ce-ba14-05d11cc18be6",
   "metadata": {
    "scrolled": true
   },
   "outputs": [
    {
     "name": "stdout",
     "output_type": "stream",
     "text": [
      "47\n",
      "{}\n",
      "7672\n",
      "7405\n",
      "7961\n",
      "7752\n",
      "7321\n",
      "8077\n",
      "7685\n",
      "7670\n",
      "7475\n",
      "8080\n",
      "7860\n",
      "7593\n",
      "8561\n",
      "7748\n",
      "7626\n",
      "7730\n",
      "8053\n",
      "7907\n",
      "8157\n",
      "7993\n",
      "8158\n",
      "7912\n",
      "7725\n",
      "8085\n",
      "7902\n",
      "8560\n",
      "7870\n",
      "7876\n",
      "7581\n",
      "7135\n",
      "8094\n",
      "7724\n",
      "7596\n",
      "7884\n",
      "8206\n",
      "7679\n",
      "8088\n",
      "7941\n",
      "7611\n",
      "8558\n",
      "8166\n",
      "5643\n",
      "7606\n",
      "7944\n",
      "7647\n",
      "7888\n",
      "7591\n",
      "7915\n",
      "7916\n",
      "7673\n",
      "7926\n",
      "8086\n",
      "7812\n",
      "7160\n",
      "7570\n",
      "7723\n",
      "7636\n",
      "7729\n",
      "7816\n",
      "7480\n",
      "7597\n",
      "7766\n",
      "7923\n",
      "8165\n",
      "8078\n",
      "7898\n",
      "7822\n",
      "7616\n",
      "7609\n",
      "8052\n",
      "7861\n",
      "8100\n",
      "7755\n",
      "7698\n",
      "7754\n",
      "7726\n",
      "7834\n",
      "7671\n",
      "7899\n",
      "7607\n",
      "7862\n",
      "7801\n",
      "8162\n",
      "8551\n",
      "8547\n",
      "7934\n",
      "7584\n",
      "7736\n",
      "7760\n",
      "7330\n",
      "7811\n",
      "8204\n",
      "7680\n",
      "7765\n",
      "7516\n",
      "7995\n",
      "7983\n",
      "7392\n",
      "8057\n",
      "7678\n",
      "8559\n",
      "8201\n",
      "8081\n",
      "7817\n",
      "7699\n",
      "8098\n",
      "7987\n",
      "7608\n",
      "7751\n",
      "7771\n",
      "7868\n",
      "7819\n",
      "7631\n",
      "7633\n",
      "7813\n",
      "7930\n",
      "7676\n",
      "7481\n",
      "7804\n",
      "7946\n",
      "7931\n",
      "7806\n",
      "7992\n",
      "7621\n",
      "7687\n",
      "7945\n",
      "7828\n",
      "8051\n",
      "7675\n",
      "7990\n",
      "7947\n",
      "7302\n",
      "7610\n",
      "7972\n",
      "8163\n",
      "8058\n",
      "7826\n",
      "7829\n",
      "7809\n",
      "7913\n",
      "7614\n",
      "7872\n",
      "8199\n",
      "8160\n",
      "7446\n",
      "7904\n",
      "7966\n",
      "7739\n",
      "7629\n",
      "7595\n",
      "7986\n",
      "8549\n",
      "7438\n",
      "7921\n",
      "7594\n",
      "8068\n",
      "8203\n",
      "7991\n",
      "7734\n",
      "7885\n",
      "7737\n",
      "7882\n",
      "7759\n",
      "7959\n",
      "7936\n",
      "7909\n",
      "7770\n",
      "8557\n",
      "7695\n",
      "7954\n",
      "7602\n",
      "8092\n",
      "7625\n",
      "8048\n",
      "8564\n",
      "7521\n",
      "8082\n",
      "8065\n",
      "7722\n",
      "7572\n",
      "7605\n",
      "7835\n",
      "7879\n",
      "7758\n",
      "7937\n",
      "8027\n",
      "7883\n",
      "8550\n",
      "7159\n",
      "8171\n",
      "7284\n",
      "7877\n",
      "7585\n",
      "8070\n",
      "7643\n",
      "7637\n",
      "7775\n",
      "7691\n",
      "8056\n",
      "8090\n",
      "7700\n",
      "7874\n",
      "7960\n",
      "7919\n",
      "7690\n",
      "7711\n",
      "7971\n",
      "7624\n",
      "7978\n",
      "8054\n",
      "7974\n",
      "7719\n",
      "8161\n",
      "7808\n",
      "7600\n",
      "7747\n",
      "7642\n",
      "7692\n",
      "7583\n",
      "7744\n",
      "7727\n",
      "7998\n",
      "8198\n",
      "7924\n",
      "7568\n",
      "7390\n",
      "7894\n",
      "7756\n",
      "7772\n",
      "7718\n",
      "7762\n",
      "7949\n",
      "7728\n",
      "8097\n",
      "7708\n",
      "7836\n",
      "7641\n",
      "8172\n",
      "7917\n",
      "7965\n",
      "7969\n",
      "7953\n",
      "7900\n",
      "7933\n",
      "7871\n",
      "8202\n",
      "7704\n",
      "7646\n",
      "7703\n",
      "7976\n",
      "8170\n",
      "7709\n",
      "7638\n",
      "7805\n",
      "7764\n",
      "7932\n",
      "7686\n",
      "7896\n",
      "8703\n",
      "8565\n",
      "7630\n",
      "7943\n",
      "7863\n",
      "7938\n",
      "8059\n",
      "7935\n",
      "8079\n",
      "8548\n",
      "7468\n",
      "7881\n",
      "7587\n",
      "7996\n",
      "8084\n",
      "7928\n",
      "7920\n",
      "8063\n",
      "7830\n",
      "7878\n",
      "7588\n",
      "7738\n",
      "7939\n",
      "7598\n",
      "7721\n",
      "7212\n",
      "8167\n",
      "8101\n",
      "7702\n",
      "7807\n",
      "7613\n",
      "7622\n",
      "8050\n",
      "7753\n",
      "7985\n",
      "7329\n",
      "7713\n",
      "7682\n",
      "8099\n",
      "7731\n",
      "8066\n",
      "7320\n",
      "8049\n",
      "7158\n",
      "8555\n",
      "7464\n",
      "7619\n",
      "7325\n",
      "7774\n",
      "3569\n",
      "7891\n",
      "7307\n",
      "8205\n",
      "8091\n",
      "8083\n",
      "7763\n",
      "8702\n",
      "7554\n",
      "7697\n",
      "7590\n",
      "7716\n",
      "8562\n",
      "7683\n",
      "7901\n",
      "7740\n",
      "7445\n",
      "7963\n",
      "7864\n",
      "7906\n",
      "7964\n",
      "7681\n",
      "7988\n",
      "7769\n",
      "8155\n",
      "7951\n",
      "7707\n",
      "7922\n",
      "7892\n",
      "7925\n",
      "8174\n",
      "7705\n",
      "7958\n",
      "7984\n",
      "7940\n",
      "8096\n",
      "7761\n",
      "7688\n",
      "7799\n",
      "7632\n",
      "7994\n",
      "7648\n",
      "7586\n",
      "8563\n",
      "7714\n",
      "8061\n",
      "8173\n",
      "8062\n",
      "7973\n",
      "7875\n",
      "7815\n",
      "7833\n",
      "7865\n",
      "7644\n",
      "273\n",
      "8002\n",
      "7696\n",
      "7443\n",
      "7910\n",
      "7979\n",
      "7717\n",
      "7617\n",
      "7640\n",
      "7592\n",
      "7746\n",
      "7869\n",
      "7800\n",
      "7989\n",
      "8704\n",
      "8087\n",
      "7956\n",
      "7582\n",
      "7589\n",
      "7810\n",
      "7612\n",
      "7689\n",
      "7623\n",
      "7880\n",
      "7701\n",
      "7820\n",
      "7818\n",
      "7975\n",
      "7890\n",
      "7832\n",
      "8200\n",
      "7997\n",
      "7952\n",
      "7889\n",
      "8175\n",
      "7279\n",
      "7955\n",
      "7802\n",
      "7895\n",
      "7706\n",
      "7627\n",
      "7684\n",
      "7767\n",
      "8159\n",
      "7970\n",
      "8093\n",
      "7742\n",
      "7873\n",
      "7712\n",
      "7768\n",
      "7674\n",
      "7927\n",
      "7968\n",
      "8554\n",
      "7967\n",
      "7942\n",
      "7911\n",
      "7867\n",
      "7950\n",
      "7694\n",
      "7982\n",
      "8060\n",
      "7628\n",
      "7715\n",
      "7903\n",
      "7620\n",
      "7406\n",
      "7635\n",
      "7980\n",
      "7733\n",
      "7750\n",
      "8169\n",
      "7604\n",
      "7634\n",
      "7645\n",
      "7693\n",
      "7599\n",
      "7741\n",
      "7615\n",
      "8064\n",
      "8067\n",
      "8069\n",
      "8095\n",
      "7803\n",
      "7999\n",
      "7743\n",
      "7157\n",
      "7618\n",
      "7866\n",
      "7639\n",
      "7981\n",
      "7551\n",
      "7749\n",
      "7897\n",
      "7271\n",
      "8553\n",
      "7603\n",
      "7823\n",
      "7914\n",
      "7827\n",
      "7745\n",
      "8552\n",
      "7814\n",
      "7732\n",
      "7908\n",
      "7677\n",
      "8164\n",
      "7511\n",
      "7825\n",
      "7757\n",
      "7977\n",
      "7442\n",
      "7331\n",
      "7893\n",
      "7821\n",
      "7887\n",
      "7710\n",
      "7957\n",
      "7948\n",
      "7831\n",
      "7773\n",
      "7553\n",
      "7735\n",
      "7859\n",
      "8076\n",
      "7720\n",
      "7962\n",
      "8168\n",
      "7886\n",
      "7905\n",
      "8089\n",
      "7824\n",
      "8055\n",
      "7918\n",
      "8556\n",
      "7929\n",
      "7601\n",
      "5644\n",
      "8156\n"
     ]
    }
   ],
   "source": [
    "maf_trimmed = trimm_overlaps_maf(small_maf)"
   ]
  },
  {
   "cell_type": "code",
   "execution_count": 110,
   "id": "590be0a5-ca86-43d9-89df-c4470bbc44e9",
   "metadata": {},
   "outputs": [],
   "source": [
    "small_maf = maf_trimmed.convert_coords_system(\"gff\")\n",
    "\n",
    "all_sequences = []\n",
    "# blocks_subset = deepcopy(list(maf.seq_collections)[:500])\n",
    "for block in small_maf.seq_collections:\n",
    "    # print(block.id)\n",
    "    for seq in block.sequences:\n",
    "        all_sequences.append(seq)\n",
    "        \n",
    "overlapping_pairs = {}\n",
    "for s1, s2 in combinations(all_sequences,2):\n",
    "    if s1.seq_name != s2.seq_name or s1.strand != s2.strand:\n",
    "        continue\n",
    "    inter_len = intersection_len((s1.start, s1.end), (s2.start, s2.end))\n",
    "    if inter_len > 0:\n",
    "        # print(s1, s2)\n",
    "        overlapping_pairs[(s1, s2)] = inter_len"
   ]
  },
  {
   "cell_type": "code",
   "execution_count": 111,
   "id": "19beceb4-ec96-4ae5-8803-adc5ea75b929",
   "metadata": {},
   "outputs": [
    {
     "data": {
      "text/plain": [
       "0"
      ]
     },
     "execution_count": 111,
     "metadata": {},
     "output_type": "execute_result"
    }
   ],
   "source": [
    "len(overlapping_pairs)"
   ]
  },
  {
   "cell_type": "markdown",
   "id": "8efb6082-2ba7-4526-9ada-a045a02ea581",
   "metadata": {},
   "source": [
    "## Now retrieve sequences using gff files"
   ]
  },
  {
   "cell_type": "code",
   "execution_count": null,
   "id": "e5b1205f-70bf-4e9b-a86c-db50431a9f12",
   "metadata": {},
   "outputs": [],
   "source": [
    "# def clean_block_by_trimming(block):\n",
    "#     print(block.id)\n",
    "#     seqs_to_remove = set()\n",
    "#     # overlapping_pairs = {}\n",
    "#     for s1, s2 in combinations(block.sequences,2):\n",
    "#         if s1.seq_name != s2.seq_name:\n",
    "#             continue\n",
    "#         inter_len = intersection_len((s1.start, s1.end), (s2.start, s2.end))\n",
    "#         if inter_len > 0:\n",
    "#             # print(s1, s2)\n",
    "#             # overlapping_pairs[tuple(sorted((s1.cluster_id, s2.cluster_id)))] = inter_len\n",
    "#             if len(s1) < len(s2):\n",
    "                \n",
    "#     return seqs_to_remove\n"
   ]
  },
  {
   "cell_type": "code",
   "execution_count": 112,
   "id": "da0bd7a0-4f2b-4c39-a588-2c91ed1b6afd",
   "metadata": {},
   "outputs": [],
   "source": [
    "gffs_dir = \"/home/pampuch/studia/magisterka/test_data/gffs/klebsiella_subset/gff\""
   ]
  },
  {
   "cell_type": "code",
   "execution_count": 113,
   "id": "91f5ce66-a5b2-48ae-b8a6-883b910019b2",
   "metadata": {},
   "outputs": [],
   "source": [
    "gff_dict = {}\n",
    "for gff_file in os.listdir(gffs_dir):\n",
    "    gff_dict[gff_file.split(\".\")[0]] = parse_gff(os.path.join(gffs_dir,gff_file), store_sequences=True)"
   ]
  },
  {
   "cell_type": "code",
   "execution_count": 117,
   "id": "340db175-4444-41a3-880b-f4197bb4cdfa",
   "metadata": {},
   "outputs": [],
   "source": [
    "scaff_seqs = {}\n",
    "for genome, gff_obj in gff_dict.items():\n",
    "    for scaff in gff_obj.scaffolds:\n",
    "        scaff_seqs[genome + \".\" + scaff.name] = scaff.seq\n",
    "        # print(scaff.seq[:30])"
   ]
  },
  {
   "cell_type": "code",
   "execution_count": 119,
   "id": "4155a95c-5165-40ed-b9f5-1c605ec205eb",
   "metadata": {
    "scrolled": true
   },
   "outputs": [],
   "source": [
    "blocks_trimmed = maf_trimmed.get_seq_collections_dict()\n",
    "blocks_0 = small_maf_0.get_seq_collections_dict()"
   ]
  },
  {
   "cell_type": "code",
   "execution_count": 125,
   "id": "6ab7da5c-dca4-4d53-b2a2-3e0edd205f62",
   "metadata": {},
   "outputs": [
    {
     "name": "stdout",
     "output_type": "stream",
     "text": [
      "2\n",
      "---------------------------------------ATGCCTGCAACATCAGGGCGCTGGGCATCTGTTTATCTTGAACCAATGATCGGCTCAGGAGAGCGGCTCACGGTAGCAGTTGCCACGATAACATCATCTGGTGAAATTTTAGTTAAGCCGGCAATCAGAAAAGAAGTTATAGAAGCTATGTATGGCTTCAAAGCACCAGCATTTATCAATGTGGTTGATCTGATTTTGTCGAGTTTGAAGTTGCATCTGGCTGCTAAGGGGGATTTCGTATCATGGCATCCTCCAGTTACAGGCGTCACTATAAGCGCCGTAAGGAATGCTGCGTCATCAAGCCCTGTTGGCATACTCCGCCAAGCGGTATCATTGTCATCGAGTTTGTCATCACTCCTTGAGGCTGAAGAAGATTCCGATGGGTTGCCAGCTAAGCAATCAAGAACTAAAGACAGGTGGCCAATTCAAATCTTTGATGCGGTTATCAGCGCTGACGGACGCAGGGATATTTTTTTCAATAGAAGCTTCACCTTTAGTGATGGACACAGACCGGCTAAAATTTTCTATCTAAGCGATCATGCAGCTATCAACACCGGAAAACTGTTACCCCACAACTTGAATGAGCAGGTTAAGGATGGAAAAGCAAAAATATCTGACTTATCAATGATAAAAAGGCAAGGCGATATTTTTCCAAGAGAAACTCATCAAATGATTATCTACAAACCGGAAGATGATAGCCCTGCATACAATGATAGGCACATAGCATCAATAAATAGTGCGTACCTTTCTTTACAGGACTTGGCTAACACCTACGATGTATCAATCACTTCTGTAAGCACTGCCGAGCATGCAGCAAGGTTAATATTGCAAACTGCAGCATAA\n",
      "ATGCTAAATCTTGATCAGCTTCTTAAGTCAGCTCCTGCTATGCCTGCAACATCAGGGCGCTGGGCATCTGTTTATCTTGAACCAATGATCGGCTCAGGAGAGCGGCTCACGGTAGCAGTTGCCACGATAACATCATCTGGTGAAATTTTAGTTAAGCCGGCAATCAGAAAAGAAGTTATAGAAGCTATGTATGGCTTCAAAGCACCAGCATTTATCAATGTGGTTGATCTGATTTTGTCGAGTTTGAAGTTGCATCTGGCTGCTAAGGGGGATTTCGTATCATGGCATCCTCCAGTTACAGGCGTCACTATAAGCGCCGTAAGGAATGCTGCGTCATCAAGCCCTGTTGGCATACTCCGCCAAGCGGTATCATTGTCATCGAGTTTGTCATCACTCCTTGAGGCTGAAGAAGATTCCGATGGGTTGCCAGCTAAGCAATCAAGAACTAAAGACAGGTGGCCAATTCAAATCTTTGATGCGGTTATCAGCGCTGACGGACGCAGGGATATTTTTTTCAATAGAAGCTTCACCTTTAGTGATGGACACAGACCGGCTAAAATTTTCTATCTAAGCGATCATGCAGCTATCAACACCGGAAAACTGTTACCCCACAACTTGAATGAGCAGGTTAAGGATGGAAAAGCAAAAATATCTGACTTATCAATGATAAAAAGGCAAGGCGATATTTTTCCAAGAGAAACTCATCAAATGATTATCTACAAACCGGAAGATGATAGCCCTGCATACAATGATAGGCACATAGCATCAATAAATAGTGCGTACCTTTCTTTACAGGACTTGGCTAACACCTACGATGTATCAATCACTTCTGTAAGCACTGCCGAGCATGCAGCAAGGTTAATATTGCAAACTGCAGCATAA\n"
     ]
    }
   ],
   "source": [
    "for clust_id in blocks_0.keys():\n",
    "    # print(blocks_trimmed[clust_id])\n",
    "    print(len(blocks_0[clust_id]))\n",
    "    for seq in blocks_0[clust_id].sequences:\n",
    "        print(seq.seq)\n",
    "    break"
   ]
  },
  {
   "cell_type": "code",
   "execution_count": 132,
   "id": "c1e35232-e702-4982-94ac-92df67d924e6",
   "metadata": {},
   "outputs": [],
   "source": [
    "all_sequences = [seq for block in list(small_maf_0.seq_collections)[:500] for seq in block.sequences]\n",
    "overlapping_pairs = {}\n",
    "for s1, s2 in combinations(all_sequences,2):\n",
    "    if s1.seq_name != s2.seq_name or s1.strand != s2.strand:\n",
    "        continue\n",
    "    inter_len = intersection_len((s1.start, s1.end), (s2.start, s2.end))\n",
    "    if inter_len > 0:\n",
    "        # print(s1, s2)\n",
    "        overlapping_pairs[(s1, s2)] = inter_len"
   ]
  },
  {
   "cell_type": "code",
   "execution_count": 133,
   "id": "195efb3d-aa67-4f41-a203-63df70b503f8",
   "metadata": {
    "scrolled": true
   },
   "outputs": [
    {
     "data": {
      "text/plain": [
       "{(<pgtools.maf_parser.MAFseq at 0x7f7ea8789000>,\n",
       "  <pgtools.maf_parser.MAFseq at 0x7f7ed4505300>): 5,\n",
       " (<pgtools.maf_parser.MAFseq at 0x7f7ea8789870>,\n",
       "  <pgtools.maf_parser.MAFseq at 0x7f7ed4505330>): 5,\n",
       " (<pgtools.maf_parser.MAFseq at 0x7f7ea878a0b0>,\n",
       "  <pgtools.maf_parser.MAFseq at 0x7f7ed4505360>): 5,\n",
       " (<pgtools.maf_parser.MAFseq at 0x7f7ea87890c0>,\n",
       "  <pgtools.maf_parser.MAFseq at 0x7f7ed45053c0>): 5,\n",
       " (<pgtools.maf_parser.MAFseq at 0x7f7ea87888b0>,\n",
       "  <pgtools.maf_parser.MAFseq at 0x7f7ed4505390>): 5,\n",
       " (<pgtools.maf_parser.MAFseq at 0x7f7ea8789930>,\n",
       "  <pgtools.maf_parser.MAFseq at 0x7f7ed4505420>): 5,\n",
       " (<pgtools.maf_parser.MAFseq at 0x7f7ea878a170>,\n",
       "  <pgtools.maf_parser.MAFseq at 0x7f7ed45057e0>): 5,\n",
       " (<pgtools.maf_parser.MAFseq at 0x7f7ea878a230>,\n",
       "  <pgtools.maf_parser.MAFseq at 0x7f7ed4505180>): 5,\n",
       " (<pgtools.maf_parser.MAFseq at 0x7f7ea8789360>,\n",
       "  <pgtools.maf_parser.MAFseq at 0x7f7ed45050f0>): 5,\n",
       " (<pgtools.maf_parser.MAFseq at 0x7f7ea878a3b0>,\n",
       "  <pgtools.maf_parser.MAFseq at 0x7f7ed4505750>): 5,\n",
       " (<pgtools.maf_parser.MAFseq at 0x7f7ea878abf0>,\n",
       "  <pgtools.maf_parser.MAFseq at 0x7f7ed4505780>): 5,\n",
       " (<pgtools.maf_parser.MAFseq at 0x7f7ea878a470>,\n",
       "  <pgtools.maf_parser.MAFseq at 0x7f7ed45057b0>): 5,\n",
       " (<pgtools.maf_parser.MAFseq at 0x7f7ea878a500>,\n",
       "  <pgtools.maf_parser.MAFseq at 0x7f7ed45052d0>): 5,\n",
       " (<pgtools.maf_parser.MAFseq at 0x7f7ea878a6b0>,\n",
       "  <pgtools.maf_parser.MAFseq at 0x7f7ed45051b0>): 5,\n",
       " (<pgtools.maf_parser.MAFseq at 0x7f7ea878aec0>,\n",
       "  <pgtools.maf_parser.MAFseq at 0x7f7ed45051e0>): 5,\n",
       " (<pgtools.maf_parser.MAFseq at 0x7f7ea878b6d0>,\n",
       "  <pgtools.maf_parser.MAFseq at 0x7f7ed4505210>): 5,\n",
       " (<pgtools.maf_parser.MAFseq at 0x7f7ea878af20>,\n",
       "  <pgtools.maf_parser.MAFseq at 0x7f7ed4505240>): 5,\n",
       " (<pgtools.maf_parser.MAFseq at 0x7f7ea8789f30>,\n",
       "  <pgtools.maf_parser.MAFseq at 0x7f7ed4505270>): 5,\n",
       " (<pgtools.maf_parser.MAFseq at 0x7f7ea8788f70>,\n",
       "  <pgtools.maf_parser.MAFseq at 0x7f7ed4505150>): 5,\n",
       " (<pgtools.maf_parser.MAFseq at 0x7f7ea8788790>,\n",
       "  <pgtools.maf_parser.MAFseq at 0x7f7ed45052a0>): 5,\n",
       " (<pgtools.maf_parser.MAFseq at 0x7f7ea5f7b130>,\n",
       "  <pgtools.maf_parser.MAFseq at 0x7f7ea5f78a90>): 5,\n",
       " (<pgtools.maf_parser.MAFseq at 0x7f7ea5f795a0>,\n",
       "  <pgtools.maf_parser.MAFseq at 0x7f7ea5f79600>): 5,\n",
       " (<pgtools.maf_parser.MAFseq at 0x7f7ea878a080>,\n",
       "  <pgtools.maf_parser.MAFseq at 0x7f7eac701990>): 5,\n",
       " (<pgtools.maf_parser.MAFseq at 0x7f7ea8788c70>,\n",
       "  <pgtools.maf_parser.MAFseq at 0x7f7eac701960>): 5,\n",
       " (<pgtools.maf_parser.MAFseq at 0x7f7ea878bc70>,\n",
       "  <pgtools.maf_parser.MAFseq at 0x7f7eac7019f0>): 5,\n",
       " (<pgtools.maf_parser.MAFseq at 0x7f7eaab08460>,\n",
       "  <pgtools.maf_parser.MAFseq at 0x7f7eaab084c0>): 5,\n",
       " (<pgtools.maf_parser.MAFseq at 0x7f7eac701ba0>,\n",
       "  <pgtools.maf_parser.MAFseq at 0x7f7ea6f868c0>): 26,\n",
       " (<pgtools.maf_parser.MAFseq at 0x7f7eac701bd0>,\n",
       "  <pgtools.maf_parser.MAFseq at 0x7f7ea6f868f0>): 26,\n",
       " (<pgtools.maf_parser.MAFseq at 0x7f7eac701c00>,\n",
       "  <pgtools.maf_parser.MAFseq at 0x7f7ea6f87100>): 26,\n",
       " (<pgtools.maf_parser.MAFseq at 0x7f7eac701c30>,\n",
       "  <pgtools.maf_parser.MAFseq at 0x7f7ea6f86950>): 26,\n",
       " (<pgtools.maf_parser.MAFseq at 0x7f7eac701c60>,\n",
       "  <pgtools.maf_parser.MAFseq at 0x7f7ea6f86980>): 26,\n",
       " (<pgtools.maf_parser.MAFseq at 0x7f7eac701c90>,\n",
       "  <pgtools.maf_parser.MAFseq at 0x7f7ea6f869b0>): 26,\n",
       " (<pgtools.maf_parser.MAFseq at 0x7f7eac701cc0>,\n",
       "  <pgtools.maf_parser.MAFseq at 0x7f7ea6f869e0>): 26,\n",
       " (<pgtools.maf_parser.MAFseq at 0x7f7eac701cf0>,\n",
       "  <pgtools.maf_parser.MAFseq at 0x7f7ea6f85ab0>): 26,\n",
       " (<pgtools.maf_parser.MAFseq at 0x7f7eac701d20>,\n",
       "  <pgtools.maf_parser.MAFseq at 0x7f7ea6f87d60>): 26,\n",
       " (<pgtools.maf_parser.MAFseq at 0x7f7eac701d50>,\n",
       "  <pgtools.maf_parser.MAFseq at 0x7f7ea6f87d90>): 26,\n",
       " (<pgtools.maf_parser.MAFseq at 0x7f7eac701db0>,\n",
       "  <pgtools.maf_parser.MAFseq at 0x7f7ea6f865f0>): 26,\n",
       " (<pgtools.maf_parser.MAFseq at 0x7f7eac700eb0>,\n",
       "  <pgtools.maf_parser.MAFseq at 0x7f7ea6f87760>): 26,\n",
       " (<pgtools.maf_parser.MAFseq at 0x7f7eac700ee0>,\n",
       "  <pgtools.maf_parser.MAFseq at 0x7f7ea6f877f0>): 26,\n",
       " (<pgtools.maf_parser.MAFseq at 0x7f7eac702830>,\n",
       "  <pgtools.maf_parser.MAFseq at 0x7f7eac702860>): 11,\n",
       " (<pgtools.maf_parser.MAFseq at 0x7f7e9a681840>,\n",
       "  <pgtools.maf_parser.MAFseq at 0x7f7e9a681060>): 2,\n",
       " (<pgtools.maf_parser.MAFseq at 0x7f7eac702ec0>,\n",
       "  <pgtools.maf_parser.MAFseq at 0x7f7eac702ef0>): 56,\n",
       " (<pgtools.maf_parser.MAFseq at 0x7f7eaa8830d0>,\n",
       "  <pgtools.maf_parser.MAFseq at 0x7f7ea8f85ea0>): 9,\n",
       " (<pgtools.maf_parser.MAFseq at 0x7f7eaad06e00>,\n",
       "  <pgtools.maf_parser.MAFseq at 0x7f7ea6207f40>): 14,\n",
       " (<pgtools.maf_parser.MAFseq at 0x7f7eaad04bb0>,\n",
       "  <pgtools.maf_parser.MAFseq at 0x7f7ea6206500>): 14,\n",
       " (<pgtools.maf_parser.MAFseq at 0x7f7ea7b84370>,\n",
       "  <pgtools.maf_parser.MAFseq at 0x7f7ea7b87b80>): 63,\n",
       " (<pgtools.maf_parser.MAFseq at 0x7f7ea2f05cf0>,\n",
       "  <pgtools.maf_parser.MAFseq at 0x7f7ea2f05d20>): 5,\n",
       " (<pgtools.maf_parser.MAFseq at 0x7f7eac685d20>,\n",
       "  <pgtools.maf_parser.MAFseq at 0x7f7eac685e40>): 56,\n",
       " (<pgtools.maf_parser.MAFseq at 0x7f7ea6286cb0>,\n",
       "  <pgtools.maf_parser.MAFseq at 0x7f7ea62874c0>): 2,\n",
       " (<pgtools.maf_parser.MAFseq at 0x7f7ea7107e50>,\n",
       "  <pgtools.maf_parser.MAFseq at 0x7f7ea7106fb0>): 2,\n",
       " (<pgtools.maf_parser.MAFseq at 0x7f7ea7b87190>,\n",
       "  <pgtools.maf_parser.MAFseq at 0x7f7ea7b871f0>): 51,\n",
       " (<pgtools.maf_parser.MAFseq at 0x7f7eaad06b30>,\n",
       "  <pgtools.maf_parser.MAFseq at 0x7f7eaad07580>): 63,\n",
       " (<pgtools.maf_parser.MAFseq at 0x7f7ea6c86770>,\n",
       "  <pgtools.maf_parser.MAFseq at 0x7f7ea6c867a0>): 8,\n",
       " (<pgtools.maf_parser.MAFseq at 0x7f7ea2b069e0>,\n",
       "  <pgtools.maf_parser.MAFseq at 0x7f7ea2b07ac0>): 29,\n",
       " (<pgtools.maf_parser.MAFseq at 0x7f7eaad04f40>,\n",
       "  <pgtools.maf_parser.MAFseq at 0x7f7eaad06fe0>): 50,\n",
       " (<pgtools.maf_parser.MAFseq at 0x7f7ea73858a0>,\n",
       "  <pgtools.maf_parser.MAFseq at 0x7f7ea7385900>): 35,\n",
       " (<pgtools.maf_parser.MAFseq at 0x7f7ea7587760>,\n",
       "  <pgtools.maf_parser.MAFseq at 0x7f7ea75877f0>): 14,\n",
       " (<pgtools.maf_parser.MAFseq at 0x7f7ea6f87220>,\n",
       "  <pgtools.maf_parser.MAFseq at 0x7f7ea6305fc0>): 5,\n",
       " (<pgtools.maf_parser.MAFseq at 0x7f7ea6f87250>,\n",
       "  <pgtools.maf_parser.MAFseq at 0x7f7ea6306020>): 5,\n",
       " (<pgtools.maf_parser.MAFseq at 0x7f7ea6f86650>,\n",
       "  <pgtools.maf_parser.MAFseq at 0x7f7ea6304e50>): 5,\n",
       " (<pgtools.maf_parser.MAFseq at 0x7f7ea6f85690>,\n",
       "  <pgtools.maf_parser.MAFseq at 0x7f7ea63067a0>): 5,\n",
       " (<pgtools.maf_parser.MAFseq at 0x7f7ea6f86290>,\n",
       "  <pgtools.maf_parser.MAFseq at 0x7f7ea6305d80>): 5,\n",
       " (<pgtools.maf_parser.MAFseq at 0x7f7ea6f850c0>,\n",
       "  <pgtools.maf_parser.MAFseq at 0x7f7ea6307e50>): 5,\n",
       " (<pgtools.maf_parser.MAFseq at 0x7f7ea6f864d0>,\n",
       "  <pgtools.maf_parser.MAFseq at 0x7f7ea6304e80>): 5,\n",
       " (<pgtools.maf_parser.MAFseq at 0x7f7ea6f87910>,\n",
       "  <pgtools.maf_parser.MAFseq at 0x7f7ea6307eb0>): 5,\n",
       " (<pgtools.maf_parser.MAFseq at 0x7f7ea5485d80>,\n",
       "  <pgtools.maf_parser.MAFseq at 0x7f7ea5485f60>): 29,\n",
       " (<pgtools.maf_parser.MAFseq at 0x7f7ea5104940>,\n",
       "  <pgtools.maf_parser.MAFseq at 0x7f7ea5105a20>): 5,\n",
       " (<pgtools.maf_parser.MAFseq at 0x7f7ea5106950>,\n",
       "  <pgtools.maf_parser.MAFseq at 0x7f7ea5107160>): 5,\n",
       " (<pgtools.maf_parser.MAFseq at 0x7f7ea51041f0>,\n",
       "  <pgtools.maf_parser.MAFseq at 0x7f7ea5107a30>): 5,\n",
       " (<pgtools.maf_parser.MAFseq at 0x7f7ea5105a50>,\n",
       "  <pgtools.maf_parser.MAFseq at 0x7f7ea5104250>): 5,\n",
       " (<pgtools.maf_parser.MAFseq at 0x7f7ea5106a70>,\n",
       "  <pgtools.maf_parser.MAFseq at 0x7f7ea5107ac0>): 5,\n",
       " (<pgtools.maf_parser.MAFseq at 0x7f7ea5107a60>,\n",
       "  <pgtools.maf_parser.MAFseq at 0x7f7ea5105ae0>): 5,\n",
       " (<pgtools.maf_parser.MAFseq at 0x7f7ea5104b80>,\n",
       "  <pgtools.maf_parser.MAFseq at 0x7f7ea5104be0>): 5,\n",
       " (<pgtools.maf_parser.MAFseq at 0x7f7ea5106440>,\n",
       "  <pgtools.maf_parser.MAFseq at 0x7f7ea51074f0>): 5,\n",
       " (<pgtools.maf_parser.MAFseq at 0x7f7ea5106d10>,\n",
       "  <pgtools.maf_parser.MAFseq at 0x7f7ea5104520>): 5,\n",
       " (<pgtools.maf_parser.MAFseq at 0x7f7ea5107610>,\n",
       "  <pgtools.maf_parser.MAFseq at 0x7f7ea5107e20>): 5,\n",
       " (<pgtools.maf_parser.MAFseq at 0x7f7ea7d06f80>,\n",
       "  <pgtools.maf_parser.MAFseq at 0x7f7ea7d06fe0>): 5}"
      ]
     },
     "execution_count": 133,
     "metadata": {},
     "output_type": "execute_result"
    }
   ],
   "source": [
    "overlapping_pairs"
   ]
  },
  {
   "cell_type": "code",
   "execution_count": 136,
   "id": "40019bfd-38d1-4775-8a8c-a29f4226e269",
   "metadata": {},
   "outputs": [
    {
     "name": "stdout",
     "output_type": "stream",
     "text": [
      "5193_1_5.contig00097: 7304 - 8102, 1\n",
      "5193_1_5.contig00097: 7309 - 8102, 1\n"
     ]
    }
   ],
   "source": [
    "for s1, s2 in overlapping_pairs:\n",
    "    s1_ = deepcopy(s1)\n",
    "    s2_ = deepcopy(s2)\n",
    "    trim_overlap(s1_, s2_)\n",
    "    print(s1)\n",
    "    print(s1_)\n",
    "    break"
   ]
  },
  {
   "cell_type": "markdown",
   "id": "b0b726b5-58a0-4618-9346-3ec9222de3d7",
   "metadata": {},
   "source": [
    "1. FIRST YOU HAVE TO CONVERT TO GFF - HAVE TO CONSIDER BOTH + AND - STRAND\n",
    "2. if sequences in one block overlap - delete the shorter one\n",
    "3. if sequences in different blocks overlap - check which overlaping sequence has max overlap\n",
    "4. PROBLEM: often one block overlaps with multiple other blocks\n",
    "\n",
    "-> Mabye try different approach: take care of overlaps for each pair of blocks separately, starting from ones with highest overlap\n",
    "\n",
    "1. Take care of overlaps within blocks: check overlaps only withing each block end delete shorter duplicate\n",
    "2. Check for overlaps between block. Sort from boggest overlap to shortest."
   ]
  },
  {
   "cell_type": "code",
   "execution_count": 74,
   "id": "aeb3331b-1883-49c4-9636-3a4bd28ebaf9",
   "metadata": {
    "scrolled": true
   },
   "outputs": [
    {
     "name": "stdout",
     "output_type": "stream",
     "text": [
      "5150_3_5.contig00039: 28844 - 29492, 1 5150_3_5.contig00039: 29472 - 30300, 1\n",
      "5151_2_6.contig00024: 45495 - 46143, 1 5151_2_6.contig00024: 46123 - 46951, 1\n",
      "5151_6_6.contig00006: 179406 - 180054, -1 5151_6_6.contig00006: 180034 - 180862, -1\n",
      "5193_1_5.contig00089: 2724 - 3372, 1 5193_1_5.contig00089: 3352 - 4180, 1\n",
      "5193_2_6.contig00053: 2738 - 3386, -1 5193_2_6.contig00053: 3366 - 4194, -1\n",
      "5193_8_2.contig00058: 2737 - 3385, 1 5193_8_2.contig00058: 3365 - 4193, 1\n",
      "5197_2_1.contig00010: 143392 - 144040, 1 5197_2_1.contig00010: 144020 - 144848, 1\n",
      "5197_7_4.contig00010: 110851 - 111499, -1 5197_7_4.contig00010: 111479 - 112307, -1\n",
      "5197_7_5.contig00032: 126 - 546, 1 5197_7_5.contig00032: 526 - 1354, 1\n",
      "5235_5_12.contig00161: 2728 - 3427, 1 5235_5_12.contig00161: 3407 - 4235, 1\n",
      "5235_6_11.contig00368: 2732 - 3380, 1 5235_6_11.contig00368: 3360 - 4263, 1\n",
      "5299_1_3.contig00187: 65 - 575, -1 5299_1_3.contig00187: 555 - 1383, -1\n",
      "5299_7_4.contig00151: 2702 - 3350, -1 5299_7_4.contig00151: 3330 - 4158, -1\n",
      "5150_1_3.contig00007: 176754 - 177402, -1 5150_1_3.contig00007: 177382 - 178210, -1\n",
      "5150_2_2.contig00021: 71220 - 71868, -1 5150_2_2.contig00021: 71848 - 72676, -1\n",
      "5299_7_4.contig00007: 59232 - 59598, -1 5299_7_4.contig00007: 58720 - 59236, -1\n",
      "5150_2_2.contig00005: 69813 - 70179, -1 5150_2_2.contig00005: 69301 - 69817, -1\n",
      "5150_3_5.contig00029: 37318 - 37834, 1 5150_3_5.contig00029: 37830 - 38196, 1\n",
      "5151_2_6.contig00015: 69767 - 70133, -1 5151_2_6.contig00015: 69255 - 69771, -1\n",
      "5193_1_5.contig00002: 58988 - 59504, 1 5193_1_5.contig00002: 59500 - 59866, 1\n",
      "5193_8_2.contig00017: 69760 - 70126, -1 5193_8_2.contig00017: 69248 - 69764, -1\n",
      "5197_2_1.contig00027: 59504 - 59870, -1 5197_2_1.contig00027: 58992 - 59508, -1\n",
      "5197_7_4.contig00018: 69258 - 69774, 1 5197_7_4.contig00018: 69770 - 70136, 1\n",
      "5197_7_5.contig00008: 69255 - 69771, 1 5197_7_5.contig00008: 69767 - 70133, 1\n",
      "5235_1_4.contig00363: 1557 - 2073, 1 5235_1_4.contig00363: 2069 - 2435, 1\n",
      "5235_5_12.contig00031: 20732 - 21248, 1 5235_5_12.contig00031: 21244 - 21610, 1\n",
      "5235_1_4.contig00445: 4160 - 4322, -1 5235_1_4.contig00445: 3028 - 4213, -1\n",
      "5150_1_3.contig00010: 69076 - 71401, 1 5150_1_3.contig00010: 64126 - 69076, 1\n",
      "5150_2_2.contig00014: 63499 - 65824, -1 5150_2_2.contig00014: 58549 - 63499, -1\n",
      "5150_3_5.contig00013: 69037 - 71362, 1 5150_3_5.contig00013: 64087 - 69037, 1\n",
      "5151_2_6.contig00010: 69015 - 71340, -1 5151_2_6.contig00010: 64065 - 69015, -1\n",
      "5151_6_6.contig00008: 68956 - 71281, 1 5151_6_6.contig00008: 64006 - 68956, 1\n",
      "5193_1_5.contig00006: 76963 - 79288, 1 5193_1_5.contig00006: 72013 - 76963, 1\n",
      "5193_2_6.contig00011: 69008 - 71333, -1 5193_2_6.contig00011: 64058 - 69008, -1\n",
      "5193_8_2.contig00001: 69250 - 71575, 1 5193_8_2.contig00001: 64300 - 69250, 1\n",
      "5197_2_1.contig00003: 69012 - 71337, -1 5197_2_1.contig00003: 64062 - 69012, -1\n",
      "5197_7_4.contig00021: 69187 - 71512, 1 5197_7_4.contig00021: 64237 - 69187, 1\n",
      "5197_7_5.contig00002: 62485 - 64810, 1 5197_7_5.contig00002: 57535 - 62485, 1\n",
      "5235_6_12.contig00035: 3829 - 6001, 1 5235_6_12.contig00035: 3454 - 3829, 1\n",
      "5299_7_4.contig00017: 58802 - 61127, -1 5299_7_4.contig00017: 53852 - 58802, -1\n",
      "5197_2_1.contig00016: 11563 - 12103, -1 5197_2_1.contig00016: 11255 - 11567, -1\n",
      "5197_7_5.contig00050: 1046 - 1586, -1 5197_7_5.contig00050: 738 - 1050, -1\n",
      "5235_5_4.contig00004: 21937 - 22477, 1 5235_5_4.contig00004: 21629 - 21941, 1\n",
      "5235_6_12.contig00005: 36990 - 37530, -1 5235_6_12.contig00005: 36682 - 36994, -1\n",
      "5151_2_6.contig00174: 702 - 1242, -1 5151_2_6.contig00174: 394 - 706, -1\n",
      "5193_1_5.contig00068: 2019 - 2559, 1 5193_1_5.contig00068: 1711 - 2023, 1\n",
      "5193_8_2.contig00043: 11564 - 12104, 1 5193_8_2.contig00043: 11256 - 11568, 1\n",
      "5235_5_12.contig00120: 4609 - 5521, -1 5235_5_12.contig00120: 4314 - 4656, -1\n",
      "5193_8_2.contig00066: 1286 - 1835, 1 5193_8_2.contig00066: 1173 - 1290, 1\n",
      "5150_3_5.contig00103: 3861 - 4410, 1 5150_3_5.contig00103: 3748 - 3865, 1\n",
      "5235_6_6.contig00398: 228 - 777, -1 5235_6_6.contig00398: 115 - 232, -1\n",
      "5235_6_12.contig00146: 5498 - 6059, -1 5235_6_12.contig00146: 4695 - 5499, -1\n",
      "5235_6_6.contig00039: 5119 - 5941, 1 5235_6_6.contig00039: 5940 - 6501, 1\n",
      "5299_1_3.contig00132: 585 - 1140, 1 5299_1_3.contig00132: 1133 - 1442, 1\n",
      "5193_2_6.contig00080: 6501 - 9615, -1 5193_2_6.contig00080: 5189 - 6509, -1\n",
      "5150_2_2.contig00043: 1870 - 2491, -1 5150_2_2.contig00043: 953 - 1928, -1\n",
      "5235_6_6.contig00240: 790 - 2320, 1 5235_6_6.contig00240: 2267 - 2531, 1\n",
      "5235_6_12.contig00028: 8417 - 8669, 1 5235_6_12.contig00028: 8668 - 8779, 1\n",
      "5150_3_5.contig00030: 27455 - 28094, 1 5150_3_5.contig00030: 27297 - 27459, 1\n",
      "5151_2_6.contig00029: 19741 - 20380, 1 5151_2_6.contig00029: 19583 - 19745, 1\n",
      "5151_6_6.contig00020: 59886 - 60525, 1 5151_6_6.contig00020: 59728 - 59890, 1\n",
      "5235_6_12.contig00001: 27970 - 28609, -1 5235_6_12.contig00001: 27812 - 27974, -1\n",
      "5299_1_3.contig00003: 59886 - 60525, 1 5299_1_3.contig00003: 59728 - 59890, 1\n",
      "5150_1_3.contig00025: 27450 - 28089, 1 5150_1_3.contig00025: 27292 - 27454, 1\n",
      "5235_5_4.contig00237: 7559 - 8045, -1 5235_5_4.contig00237: 6949 - 7597, -1\n",
      "5235_1_4.contig00099: 9390 - 9873, 1 5235_1_4.contig00099: 9839 - 11531, 1\n"
     ]
    }
   ],
   "source": [
    "overlapping_pairs = {}\n",
    "\n",
    "        \n",
    "for s1, s2 in combinations(all_sequences,2):\n",
    "    if s1.seq_name != s2.seq_name or s1.strand != s2.strand:\n",
    "        continue\n",
    "    inter_len = intersection_len((s1.start, s1.end), (s2.start, s2.end))\n",
    "    if inter_len > 0:\n",
    "        print(s1, s2)\n",
    "        overlapping_pairs[tuple(sorted((s1.cluster_id, s2.cluster_id)))] = inter_len"
   ]
  },
  {
   "cell_type": "code",
   "execution_count": 6,
   "id": "181e533a-dc49-4355-80b3-b278b58d2850",
   "metadata": {},
   "outputs": [],
   "source": [
    "# len(list(combinations(all_sequences,2)))"
   ]
  },
  {
   "cell_type": "code",
   "execution_count": 80,
   "id": "fd598881-5337-4aeb-99d9-fe867962398a",
   "metadata": {},
   "outputs": [
    {
     "name": "stdout",
     "output_type": "stream",
     "text": [
      "{(2599, 7261): 21, (7728, 7728): 5, (6932, 6932): 54, (660, 7426): 1, (7427, 7428): 5, (6939, 6939): 48, (657, 7978): 5, (2613, 2613): 2, (7747, 7747): 8, (3399, 7971): 9, (473, 473): 59, (6578, 6578): 54, (2490, 2490): 2, (7540, 8024): 5, (3938, 3938): 39, (7977, 7977): 35}\n"
     ]
    }
   ],
   "source": [
    "print(overlapping_pairs)"
   ]
  },
  {
   "cell_type": "code",
   "execution_count": 76,
   "id": "2b0cd811-415f-4098-b4a9-a950564b1d87",
   "metadata": {},
   "outputs": [],
   "source": [
    "sorted_blocks = list(overlapping_pairs.keys())\n",
    "sorted_blocks.sort(key = lambda x: overlapping_pairs[x], reverse=True)"
   ]
  },
  {
   "cell_type": "code",
   "execution_count": 77,
   "id": "8a67f10e-3886-47bb-88d5-02c498431e2a",
   "metadata": {},
   "outputs": [
    {
     "data": {
      "text/plain": [
       "[(473, 473),\n",
       " (6932, 6932),\n",
       " (6578, 6578),\n",
       " (6939, 6939),\n",
       " (3938, 3938),\n",
       " (7977, 7977),\n",
       " (2599, 7261),\n",
       " (3399, 7971),\n",
       " (7747, 7747),\n",
       " (7728, 7728),\n",
       " (7427, 7428),\n",
       " (657, 7978),\n",
       " (7540, 8024),\n",
       " (2613, 2613),\n",
       " (2490, 2490),\n",
       " (660, 7426)]"
      ]
     },
     "execution_count": 77,
     "metadata": {},
     "output_type": "execute_result"
    }
   ],
   "source": [
    "sorted_blocks"
   ]
  },
  {
   "cell_type": "code",
   "execution_count": 81,
   "id": "8c834261-a1be-4e17-935c-a4364c18c5be",
   "metadata": {},
   "outputs": [
    {
     "ename": "TypeError",
     "evalue": "unhashable type: 'slice'",
     "output_type": "error",
     "traceback": [
      "\u001b[0;31m---------------------------------------------------------------------------\u001b[0m",
      "\u001b[0;31mTypeError\u001b[0m                                 Traceback (most recent call last)",
      "Cell \u001b[0;32mIn[81], line 1\u001b[0m\n\u001b[0;32m----> 1\u001b[0m \u001b[38;5;28;01mfor\u001b[39;00m s1, s2 \u001b[38;5;129;01min\u001b[39;00m \u001b[43moverlapping_pairs\u001b[49m\u001b[43m[\u001b[49m\u001b[43m:\u001b[49m\u001b[38;5;241;43m10\u001b[39;49m\u001b[43m]\u001b[49m:\n\u001b[1;32m      2\u001b[0m     \u001b[38;5;28mprint\u001b[39m(\u001b[38;5;124m\"\u001b[39m\u001b[38;5;124mcluster_ids:\u001b[39m\u001b[38;5;124m\"\u001b[39m,s1\u001b[38;5;241m.\u001b[39mcluster_id, s2\u001b[38;5;241m.\u001b[39mcluster_id)\n\u001b[1;32m      3\u001b[0m     \u001b[38;5;28mprint\u001b[39m(s1)\n",
      "\u001b[0;31mTypeError\u001b[0m: unhashable type: 'slice'"
     ]
    }
   ],
   "source": [
    "for s1, s2 in overlapping_pairs[:10]:\n",
    "    print(\"cluster_ids:\",s1.cluster_id, s2.cluster_id)\n",
    "    print(s1)\n",
    "    print(s2)\n",
    "    print(\"======\")"
   ]
  }
 ],
 "metadata": {
  "kernelspec": {
   "display_name": "Python 3 (ipykernel)",
   "language": "python",
   "name": "python3"
  },
  "language_info": {
   "codemirror_mode": {
    "name": "ipython",
    "version": 3
   },
   "file_extension": ".py",
   "mimetype": "text/x-python",
   "name": "python",
   "nbconvert_exporter": "python",
   "pygments_lexer": "ipython3",
   "version": "3.10.12"
  }
 },
 "nbformat": 4,
 "nbformat_minor": 5
}
