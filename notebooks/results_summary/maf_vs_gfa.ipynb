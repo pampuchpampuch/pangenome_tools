{
 "cells": [
  {
   "cell_type": "code",
   "execution_count": 3,
   "id": "006dc368-4ee8-447d-8ede-c7c94f4f5e5a",
   "metadata": {},
   "outputs": [],
   "source": [
    "import pandas as pd\n",
    "import os"
   ]
  },
  {
   "cell_type": "code",
   "execution_count": 73,
   "id": "d69eb593-6ba7-4a00-93b8-a03cbac034a8",
   "metadata": {},
   "outputs": [],
   "source": [
    "res_dir = \"/home/pampuch/studia/magisterka/final_summaries/gfa_vs_maf_res_new/\""
   ]
  },
  {
   "cell_type": "code",
   "execution_count": 4,
   "id": "018c55a8-eaa5-4dd8-b5be-6d6f5db10e2f",
   "metadata": {},
   "outputs": [
    {
     "name": "stdout",
     "output_type": "stream",
     "text": [
      "sim_gr_1e-11_lr_1e-12_mu_1e-15_rep1_fragmented\n",
      "sim_gr_1e-11_lr_1e-12_mu_1e-15_rep1_contaminated\n",
      "klebsiella_subset\n",
      "sim_gr_1e-11_lr_1e-12_mu_1e-15_rep1\n",
      "GPSC_subset\n"
     ]
    }
   ],
   "source": [
    "for dir in os.listdir(res_dir):\n",
    "    print(dir)"
   ]
  },
  {
   "cell_type": "code",
   "execution_count": 74,
   "id": "7ae09686-f9e2-4cb1-bee9-9e7ec0c2ae76",
   "metadata": {},
   "outputs": [],
   "source": [
    "csv_name = \"gfa_vs_maf_new.csv\""
   ]
  },
  {
   "cell_type": "code",
   "execution_count": 8,
   "id": "0f3beee1-268b-45e8-99ac-ec81eee31b0b",
   "metadata": {},
   "outputs": [],
   "source": [
    "## klebsiella\n",
    "\n",
    "df = pd.read_csv(os.path.join(res_dir, \"klebsiella_subset\", csv_name))"
   ]
  },
  {
   "cell_type": "code",
   "execution_count": 9,
   "id": "34a2747c-27d6-4935-ab65-5c21ef1ce1c1",
   "metadata": {},
   "outputs": [
    {
     "data": {
      "text/html": [
       "<div>\n",
       "<style scoped>\n",
       "    .dataframe tbody tr th:only-of-type {\n",
       "        vertical-align: middle;\n",
       "    }\n",
       "\n",
       "    .dataframe tbody tr th {\n",
       "        vertical-align: top;\n",
       "    }\n",
       "\n",
       "    .dataframe thead th {\n",
       "        text-align: right;\n",
       "    }\n",
       "</style>\n",
       "<table border=\"1\" class=\"dataframe\">\n",
       "  <thead>\n",
       "    <tr style=\"text-align: right;\">\n",
       "      <th></th>\n",
       "      <th>contig_1</th>\n",
       "      <th>contig_2</th>\n",
       "      <th>frequency_1</th>\n",
       "      <th>frequency_2</th>\n",
       "    </tr>\n",
       "  </thead>\n",
       "  <tbody>\n",
       "    <tr>\n",
       "      <th>0</th>\n",
       "      <td>5150_1_3.contig00001</td>\n",
       "      <td>5151_6_6.contig00002</td>\n",
       "      <td>0.000000</td>\n",
       "      <td>0.000000</td>\n",
       "    </tr>\n",
       "    <tr>\n",
       "      <th>1</th>\n",
       "      <td>5150_1_3.contig00001</td>\n",
       "      <td>5197_7_5.contig00004</td>\n",
       "      <td>0.850289</td>\n",
       "      <td>0.811998</td>\n",
       "    </tr>\n",
       "    <tr>\n",
       "      <th>2</th>\n",
       "      <td>5150_1_3.contig00001</td>\n",
       "      <td>5150_3_5.contig00001</td>\n",
       "      <td>0.480278</td>\n",
       "      <td>0.821527</td>\n",
       "    </tr>\n",
       "    <tr>\n",
       "      <th>3</th>\n",
       "      <td>5150_1_3.contig00001</td>\n",
       "      <td>5151_2_6.contig00002</td>\n",
       "      <td>0.548110</td>\n",
       "      <td>0.874504</td>\n",
       "    </tr>\n",
       "    <tr>\n",
       "      <th>4</th>\n",
       "      <td>5150_1_3.contig00001</td>\n",
       "      <td>5197_7_5.contig00009</td>\n",
       "      <td>0.000000</td>\n",
       "      <td>0.000000</td>\n",
       "    </tr>\n",
       "    <tr>\n",
       "      <th>...</th>\n",
       "      <td>...</td>\n",
       "      <td>...</td>\n",
       "      <td>...</td>\n",
       "      <td>...</td>\n",
       "    </tr>\n",
       "    <tr>\n",
       "      <th>1069</th>\n",
       "      <td>5150_2_2.contig00001</td>\n",
       "      <td>5235_6_6.contig00822</td>\n",
       "      <td>0.000000</td>\n",
       "      <td>0.888013</td>\n",
       "    </tr>\n",
       "    <tr>\n",
       "      <th>1070</th>\n",
       "      <td>5150_2_2.contig00001</td>\n",
       "      <td>5235_6_6.contig00830</td>\n",
       "      <td>0.000000</td>\n",
       "      <td>0.808429</td>\n",
       "    </tr>\n",
       "    <tr>\n",
       "      <th>1071</th>\n",
       "      <td>5150_2_2.contig00001</td>\n",
       "      <td>5235_6_6.contig00835</td>\n",
       "      <td>0.244792</td>\n",
       "      <td>0.244792</td>\n",
       "    </tr>\n",
       "    <tr>\n",
       "      <th>1072</th>\n",
       "      <td>5150_2_2.contig00001</td>\n",
       "      <td>5235_1_4.contig01214</td>\n",
       "      <td>0.000000</td>\n",
       "      <td>0.822581</td>\n",
       "    </tr>\n",
       "    <tr>\n",
       "      <th>1073</th>\n",
       "      <td>5197_2_1.contig00001</td>\n",
       "      <td>5197_7_5.contig00001</td>\n",
       "      <td>0.721227</td>\n",
       "      <td>0.905879</td>\n",
       "    </tr>\n",
       "  </tbody>\n",
       "</table>\n",
       "<p>1074 rows × 4 columns</p>\n",
       "</div>"
      ],
      "text/plain": [
       "                  contig_1              contig_2  frequency_1  frequency_2\n",
       "0     5150_1_3.contig00001  5151_6_6.contig00002     0.000000     0.000000\n",
       "1     5150_1_3.contig00001  5197_7_5.contig00004     0.850289     0.811998\n",
       "2     5150_1_3.contig00001  5150_3_5.contig00001     0.480278     0.821527\n",
       "3     5150_1_3.contig00001  5151_2_6.contig00002     0.548110     0.874504\n",
       "4     5150_1_3.contig00001  5197_7_5.contig00009     0.000000     0.000000\n",
       "...                    ...                   ...          ...          ...\n",
       "1069  5150_2_2.contig00001  5235_6_6.contig00822     0.000000     0.888013\n",
       "1070  5150_2_2.contig00001  5235_6_6.contig00830     0.000000     0.808429\n",
       "1071  5150_2_2.contig00001  5235_6_6.contig00835     0.244792     0.244792\n",
       "1072  5150_2_2.contig00001  5235_1_4.contig01214     0.000000     0.822581\n",
       "1073  5197_2_1.contig00001  5197_7_5.contig00001     0.721227     0.905879\n",
       "\n",
       "[1074 rows x 4 columns]"
      ]
     },
     "execution_count": 9,
     "metadata": {},
     "output_type": "execute_result"
    }
   ],
   "source": []
  },
  {
   "cell_type": "code",
   "execution_count": 9,
   "id": "5c4a7e8f-701b-43f6-bb20-05602abefc1a",
   "metadata": {},
   "outputs": [],
   "source": [
    "df[\"mean\"] = (df[\"frequency_1\"] + df[\"frequency_2\"])/2\n",
    "df[\"mean round\"] = df[\"mean\"].round(decimals=1)"
   ]
  },
  {
   "cell_type": "code",
   "execution_count": 10,
   "id": "e9543a9a-b595-41ec-96f5-1ba18956ff61",
   "metadata": {},
   "outputs": [
    {
     "data": {
      "text/html": [
       "<div>\n",
       "<style scoped>\n",
       "    .dataframe tbody tr th:only-of-type {\n",
       "        vertical-align: middle;\n",
       "    }\n",
       "\n",
       "    .dataframe tbody tr th {\n",
       "        vertical-align: top;\n",
       "    }\n",
       "\n",
       "    .dataframe thead th {\n",
       "        text-align: right;\n",
       "    }\n",
       "</style>\n",
       "<table border=\"1\" class=\"dataframe\">\n",
       "  <thead>\n",
       "    <tr style=\"text-align: right;\">\n",
       "      <th></th>\n",
       "      <th>contig_1</th>\n",
       "      <th>contig_2</th>\n",
       "      <th>frequency_1</th>\n",
       "      <th>frequency_2</th>\n",
       "      <th>mean</th>\n",
       "      <th>mean round</th>\n",
       "    </tr>\n",
       "  </thead>\n",
       "  <tbody>\n",
       "    <tr>\n",
       "      <th>0</th>\n",
       "      <td>5150_1_3.contig00001</td>\n",
       "      <td>5151_6_6.contig00002</td>\n",
       "      <td>0.000000</td>\n",
       "      <td>0.000000</td>\n",
       "      <td>0.000000</td>\n",
       "      <td>0.0</td>\n",
       "    </tr>\n",
       "    <tr>\n",
       "      <th>1</th>\n",
       "      <td>5150_1_3.contig00001</td>\n",
       "      <td>5197_7_5.contig00004</td>\n",
       "      <td>0.855802</td>\n",
       "      <td>0.805651</td>\n",
       "      <td>0.830726</td>\n",
       "      <td>0.8</td>\n",
       "    </tr>\n",
       "    <tr>\n",
       "      <th>2</th>\n",
       "      <td>5150_1_3.contig00001</td>\n",
       "      <td>5150_3_5.contig00001</td>\n",
       "      <td>0.477419</td>\n",
       "      <td>0.811862</td>\n",
       "      <td>0.644640</td>\n",
       "      <td>0.6</td>\n",
       "    </tr>\n",
       "    <tr>\n",
       "      <th>3</th>\n",
       "      <td>5150_1_3.contig00001</td>\n",
       "      <td>5151_2_6.contig00002</td>\n",
       "      <td>0.542921</td>\n",
       "      <td>0.869652</td>\n",
       "      <td>0.706286</td>\n",
       "      <td>0.7</td>\n",
       "    </tr>\n",
       "    <tr>\n",
       "      <th>4</th>\n",
       "      <td>5150_1_3.contig00001</td>\n",
       "      <td>5197_7_5.contig00009</td>\n",
       "      <td>0.000000</td>\n",
       "      <td>0.000000</td>\n",
       "      <td>0.000000</td>\n",
       "      <td>0.0</td>\n",
       "    </tr>\n",
       "    <tr>\n",
       "      <th>...</th>\n",
       "      <td>...</td>\n",
       "      <td>...</td>\n",
       "      <td>...</td>\n",
       "      <td>...</td>\n",
       "      <td>...</td>\n",
       "      <td>...</td>\n",
       "    </tr>\n",
       "    <tr>\n",
       "      <th>15437</th>\n",
       "      <td>5151_6_6.contig00008</td>\n",
       "      <td>5235_5_4.contig00229</td>\n",
       "      <td>0.835102</td>\n",
       "      <td>0.835102</td>\n",
       "      <td>0.835102</td>\n",
       "      <td>0.8</td>\n",
       "    </tr>\n",
       "    <tr>\n",
       "      <th>15438</th>\n",
       "      <td>5151_6_6.contig00008</td>\n",
       "      <td>5235_2_1.contig00226</td>\n",
       "      <td>0.000000</td>\n",
       "      <td>0.647628</td>\n",
       "      <td>0.323814</td>\n",
       "      <td>0.3</td>\n",
       "    </tr>\n",
       "    <tr>\n",
       "      <th>15439</th>\n",
       "      <td>5151_6_6.contig00008</td>\n",
       "      <td>5235_2_1.contig00227</td>\n",
       "      <td>0.944547</td>\n",
       "      <td>0.000000</td>\n",
       "      <td>0.472273</td>\n",
       "      <td>0.5</td>\n",
       "    </tr>\n",
       "    <tr>\n",
       "      <th>15440</th>\n",
       "      <td>5151_6_6.contig00008</td>\n",
       "      <td>5235_6_6.contig00223</td>\n",
       "      <td>0.000000</td>\n",
       "      <td>0.797664</td>\n",
       "      <td>0.398832</td>\n",
       "      <td>0.4</td>\n",
       "    </tr>\n",
       "    <tr>\n",
       "      <th>15441</th>\n",
       "      <td>5151_6_6.contig00008</td>\n",
       "      <td>5235_2_1.contig00232</td>\n",
       "      <td>0.000000</td>\n",
       "      <td>0.908084</td>\n",
       "      <td>0.454042</td>\n",
       "      <td>0.5</td>\n",
       "    </tr>\n",
       "  </tbody>\n",
       "</table>\n",
       "<p>15442 rows × 6 columns</p>\n",
       "</div>"
      ],
      "text/plain": [
       "                   contig_1              contig_2  frequency_1  frequency_2  \\\n",
       "0      5150_1_3.contig00001  5151_6_6.contig00002     0.000000     0.000000   \n",
       "1      5150_1_3.contig00001  5197_7_5.contig00004     0.855802     0.805651   \n",
       "2      5150_1_3.contig00001  5150_3_5.contig00001     0.477419     0.811862   \n",
       "3      5150_1_3.contig00001  5151_2_6.contig00002     0.542921     0.869652   \n",
       "4      5150_1_3.contig00001  5197_7_5.contig00009     0.000000     0.000000   \n",
       "...                     ...                   ...          ...          ...   \n",
       "15437  5151_6_6.contig00008  5235_5_4.contig00229     0.835102     0.835102   \n",
       "15438  5151_6_6.contig00008  5235_2_1.contig00226     0.000000     0.647628   \n",
       "15439  5151_6_6.contig00008  5235_2_1.contig00227     0.944547     0.000000   \n",
       "15440  5151_6_6.contig00008  5235_6_6.contig00223     0.000000     0.797664   \n",
       "15441  5151_6_6.contig00008  5235_2_1.contig00232     0.000000     0.908084   \n",
       "\n",
       "           mean  mean round  \n",
       "0      0.000000         0.0  \n",
       "1      0.830726         0.8  \n",
       "2      0.644640         0.6  \n",
       "3      0.706286         0.7  \n",
       "4      0.000000         0.0  \n",
       "...         ...         ...  \n",
       "15437  0.835102         0.8  \n",
       "15438  0.323814         0.3  \n",
       "15439  0.472273         0.5  \n",
       "15440  0.398832         0.4  \n",
       "15441  0.454042         0.5  \n",
       "\n",
       "[15442 rows x 6 columns]"
      ]
     },
     "execution_count": 10,
     "metadata": {},
     "output_type": "execute_result"
    }
   ],
   "source": [
    "df"
   ]
  },
  {
   "cell_type": "code",
   "execution_count": 11,
   "id": "19f779f4-90bc-43cc-a433-93ef6e8a9605",
   "metadata": {},
   "outputs": [
    {
     "data": {
      "text/plain": [
       "0.5663020082330678"
      ]
     },
     "execution_count": 11,
     "metadata": {},
     "output_type": "execute_result"
    }
   ],
   "source": [
    "df[\"mean\"].mean()"
   ]
  },
  {
   "cell_type": "code",
   "execution_count": 12,
   "id": "0da15d15-fc52-4fb8-b349-564f4ac066bf",
   "metadata": {},
   "outputs": [
    {
     "data": {
      "text/plain": [
       "1.0188461970565106"
      ]
     },
     "execution_count": 12,
     "metadata": {},
     "output_type": "execute_result"
    }
   ],
   "source": [
    "df[\"mean\"].max()"
   ]
  },
  {
   "cell_type": "code",
   "execution_count": 13,
   "id": "b9299dde-1698-4bbc-be7c-1592d6721c66",
   "metadata": {},
   "outputs": [
    {
     "data": {
      "text/plain": [
       "0.0"
      ]
     },
     "execution_count": 13,
     "metadata": {},
     "output_type": "execute_result"
    }
   ],
   "source": [
    "df[\"mean\"].min()"
   ]
  },
  {
   "cell_type": "code",
   "execution_count": 14,
   "id": "8e6907af-67c4-4d95-840d-6ce994476953",
   "metadata": {},
   "outputs": [
    {
     "data": {
      "text/plain": [
       "0.5"
      ]
     },
     "execution_count": 14,
     "metadata": {},
     "output_type": "execute_result"
    }
   ],
   "source": [
    "df[\"mean round\"].median()"
   ]
  },
  {
   "cell_type": "code",
   "execution_count": 84,
   "id": "e13d9ff3-6511-4778-b9c4-42f3f14e1550",
   "metadata": {},
   "outputs": [],
   "source": [
    "def df_get_summary(dataset, res_dir, csv_name):\n",
    "    df = pd.read_csv(os.path.join(res_dir, dataset, csv_name))\n",
    "    df[\"mean\"] = (df[\"frequency_1\"] + df[\"frequency_2\"])/2\n",
    "    df[\"mean round\"] = df[\"mean\"].round(decimals=1)\n",
    "    return [df[\"mean round\"].min(), df[\"mean round\"].max(),df[\"mean\"].mean().round(1),df[\"mean round\"].median()]"
   ]
  },
  {
   "cell_type": "code",
   "execution_count": 70,
   "id": "1c3b9a28-851b-4fea-955a-077ef6c3fe9b",
   "metadata": {},
   "outputs": [
    {
     "data": {
      "text/plain": [
       "[0.0, 1.0, 0.6, 0.5]"
      ]
     },
     "execution_count": 70,
     "metadata": {},
     "output_type": "execute_result"
    }
   ],
   "source": [
    "df_summary(\"klebsiella_subset\", res_dir, csv_name)"
   ]
  },
  {
   "cell_type": "code",
   "execution_count": null,
   "id": "9ab83c29-5f00-4362-adca-4c07e7562dd0",
   "metadata": {},
   "outputs": [],
   "source": []
  },
  {
   "cell_type": "code",
   "execution_count": 72,
   "id": "26624504-d734-4574-b3e4-fd541b7087db",
   "metadata": {},
   "outputs": [],
   "source": [
    "res_dir_old = \"/home/pampuch/studia/magisterka/gfa_vs_maf_csv_res_old\"\n",
    "csv_name_old = \"gfa_vs_maf.csv\""
   ]
  },
  {
   "cell_type": "code",
   "execution_count": 40,
   "id": "12e0eea6-c21b-4720-9107-16501234d6d1",
   "metadata": {},
   "outputs": [
    {
     "data": {
      "text/plain": [
       "[0.0, 1.0, 0.4]"
      ]
     },
     "execution_count": 40,
     "metadata": {},
     "output_type": "execute_result"
    }
   ],
   "source": [
    "df_summary(\"klebsiella_subset\", res_dir_old, csv_name_old)"
   ]
  },
  {
   "cell_type": "code",
   "execution_count": 76,
   "id": "c215b846-6076-44ec-9477-cf197b2abd3e",
   "metadata": {},
   "outputs": [],
   "source": [
    "df_col_names = [\"Dataset\", \"Minimalne średnie pokrycie\", \"Maksymalne średnie pokrycie\", \"Średnia średniego  pokrycia\", \"Mediana średniego pokrycia\"]\n",
    "df_cols = []\n",
    "for dataset in os.listdir(res_dir):\n",
    "    df_cols.append([dataset] + df_get_summary(dataset, res_dir, csv_name))"
   ]
  },
  {
   "cell_type": "code",
   "execution_count": 77,
   "id": "623b032c-501b-40fb-a73b-ca8237f42d3c",
   "metadata": {},
   "outputs": [],
   "source": [
    "df_summary = pd.DataFrame(columns = df_col_names, data=df_cols)"
   ]
  },
  {
   "cell_type": "code",
   "execution_count": 78,
   "id": "2001c61c-651b-4a1f-8f62-6253ba75fbd9",
   "metadata": {},
   "outputs": [
    {
     "data": {
      "text/html": [
       "<div>\n",
       "<style scoped>\n",
       "    .dataframe tbody tr th:only-of-type {\n",
       "        vertical-align: middle;\n",
       "    }\n",
       "\n",
       "    .dataframe tbody tr th {\n",
       "        vertical-align: top;\n",
       "    }\n",
       "\n",
       "    .dataframe thead th {\n",
       "        text-align: right;\n",
       "    }\n",
       "</style>\n",
       "<table border=\"1\" class=\"dataframe\">\n",
       "  <thead>\n",
       "    <tr style=\"text-align: right;\">\n",
       "      <th></th>\n",
       "      <th>Dataset</th>\n",
       "      <th>Minimalne średnie pokrycie</th>\n",
       "      <th>Maksymalne średnie pokrycie</th>\n",
       "      <th>Średnia średniego  pokrycia</th>\n",
       "      <th>Mediana średniego pokrycia</th>\n",
       "    </tr>\n",
       "  </thead>\n",
       "  <tbody>\n",
       "    <tr>\n",
       "      <th>0</th>\n",
       "      <td>sim_gr_1e-11_lr_1e-12_mu_1e-15_rep1_fragmented</td>\n",
       "      <td>0.0</td>\n",
       "      <td>1.0</td>\n",
       "      <td>0.5</td>\n",
       "      <td>0.5</td>\n",
       "    </tr>\n",
       "    <tr>\n",
       "      <th>1</th>\n",
       "      <td>sim_gr_1e-11_lr_1e-12_mu_1e-15_rep1_contaminated</td>\n",
       "      <td>0.0</td>\n",
       "      <td>1.0</td>\n",
       "      <td>0.5</td>\n",
       "      <td>0.6</td>\n",
       "    </tr>\n",
       "    <tr>\n",
       "      <th>2</th>\n",
       "      <td>klebsiella_subset</td>\n",
       "      <td>0.0</td>\n",
       "      <td>1.0</td>\n",
       "      <td>0.6</td>\n",
       "      <td>0.5</td>\n",
       "    </tr>\n",
       "    <tr>\n",
       "      <th>3</th>\n",
       "      <td>sim_gr_1e-11_lr_1e-12_mu_1e-15_rep1</td>\n",
       "      <td>0.0</td>\n",
       "      <td>1.0</td>\n",
       "      <td>0.6</td>\n",
       "      <td>0.7</td>\n",
       "    </tr>\n",
       "    <tr>\n",
       "      <th>4</th>\n",
       "      <td>GPSC_subset</td>\n",
       "      <td>0.0</td>\n",
       "      <td>1.0</td>\n",
       "      <td>0.5</td>\n",
       "      <td>0.4</td>\n",
       "    </tr>\n",
       "  </tbody>\n",
       "</table>\n",
       "</div>"
      ],
      "text/plain": [
       "                                            Dataset  \\\n",
       "0    sim_gr_1e-11_lr_1e-12_mu_1e-15_rep1_fragmented   \n",
       "1  sim_gr_1e-11_lr_1e-12_mu_1e-15_rep1_contaminated   \n",
       "2                                 klebsiella_subset   \n",
       "3               sim_gr_1e-11_lr_1e-12_mu_1e-15_rep1   \n",
       "4                                       GPSC_subset   \n",
       "\n",
       "   Minimalne średnie pokrycie  Maksymalne średnie pokrycie  \\\n",
       "0                         0.0                          1.0   \n",
       "1                         0.0                          1.0   \n",
       "2                         0.0                          1.0   \n",
       "3                         0.0                          1.0   \n",
       "4                         0.0                          1.0   \n",
       "\n",
       "   Średnia średniego  pokrycia  Mediana średniego pokrycia  \n",
       "0                          0.5                         0.5  \n",
       "1                          0.5                         0.6  \n",
       "2                          0.6                         0.5  \n",
       "3                          0.6                         0.7  \n",
       "4                          0.5                         0.4  "
      ]
     },
     "execution_count": 78,
     "metadata": {},
     "output_type": "execute_result"
    }
   ],
   "source": [
    "df_summary"
   ]
  },
  {
   "cell_type": "code",
   "execution_count": 85,
   "id": "540beeed-25dd-4361-a758-07f3484b92c8",
   "metadata": {},
   "outputs": [
    {
     "ename": "TypeError",
     "evalue": "'function' object is not subscriptable",
     "output_type": "error",
     "traceback": [
      "\u001b[0;31m---------------------------------------------------------------------------\u001b[0m",
      "\u001b[0;31mTypeError\u001b[0m                                 Traceback (most recent call last)",
      "Cell \u001b[0;32mIn[85], line 9\u001b[0m\n\u001b[1;32m      6\u001b[0m         x\u001b[38;5;241m=\u001b[39m x\u001b[38;5;241m.\u001b[39mreplace(\u001b[38;5;124m\"\u001b[39m\u001b[38;5;124mGPSC\u001b[39m\u001b[38;5;124m\"\u001b[39m, \u001b[38;5;124m\"\u001b[39m\u001b[38;5;124mpneumococcus\u001b[39m\u001b[38;5;124m\"\u001b[39m)\n\u001b[1;32m      7\u001b[0m     \u001b[38;5;28;01mreturn\u001b[39;00m x\u001b[38;5;241m.\u001b[39mstrip()\n\u001b[0;32m----> 9\u001b[0m df_summary[\u001b[38;5;124m\"\u001b[39m\u001b[38;5;124mDataset\u001b[39m\u001b[38;5;124m\"\u001b[39m] \u001b[38;5;241m=\u001b[39m \u001b[43mdf_get_summary\u001b[49m\u001b[43m[\u001b[49m\u001b[38;5;124;43m\"\u001b[39;49m\u001b[38;5;124;43mDataset\u001b[39;49m\u001b[38;5;124;43m\"\u001b[39;49m\u001b[43m]\u001b[49m\u001b[38;5;241m.\u001b[39mapply(\u001b[38;5;28;01mlambda\u001b[39;00m x: datasets_mapping(x))\n",
      "\u001b[0;31mTypeError\u001b[0m: 'function' object is not subscriptable"
     ]
    }
   ],
   "source": [
    "def datasets_mapping(x):\n",
    "    if x.startswith(\"sim\"):\n",
    "        x= x.replace(\"sim_gr_1e-11_lr_1e-12_mu_1e-15_rep1\", \"E. coli \")\n",
    "    else:\n",
    "        x= x.replace(\"_subset\", \"\")\n",
    "        x= x.replace(\"GPSC\", \"pneumococcus\")\n",
    "    return x.strip()\n",
    "    \n",
    "df_summary[\"Dataset\"] = df_summary[\"Dataset\"].apply(lambda x: datasets_mapping(x))"
   ]
  },
  {
   "cell_type": "code",
   "execution_count": 86,
   "id": "94ac1ee4-ab8d-4f8e-97e1-45a2fcc5a500",
   "metadata": {},
   "outputs": [],
   "source": [
    "df_col_names = [\"Dataset\", \"Minimalne średnie pokrycie\", \"Maksymalne średnie pokrycie\", \"Średnia średniego  pokrycia\", \"Mediana średniego pokrycia\"]\n",
    "df_cols = []\n",
    "for dataset in os.listdir(res_dir):\n",
    "    df_cols.append([dataset] + df_get_summary(dataset, res_dir_old, csv_name_old))"
   ]
  },
  {
   "cell_type": "code",
   "execution_count": 87,
   "id": "90424c5b-7009-412e-bec5-9e3f544de6f4",
   "metadata": {},
   "outputs": [],
   "source": [
    "df_old = pd.DataFrame(columns = df_col_names, data = df_cols)"
   ]
  },
  {
   "cell_type": "code",
   "execution_count": 88,
   "id": "389fdd2b-6497-4d87-b4dc-84b930da406b",
   "metadata": {},
   "outputs": [
    {
     "data": {
      "text/html": [
       "<div>\n",
       "<style scoped>\n",
       "    .dataframe tbody tr th:only-of-type {\n",
       "        vertical-align: middle;\n",
       "    }\n",
       "\n",
       "    .dataframe tbody tr th {\n",
       "        vertical-align: top;\n",
       "    }\n",
       "\n",
       "    .dataframe thead th {\n",
       "        text-align: right;\n",
       "    }\n",
       "</style>\n",
       "<table border=\"1\" class=\"dataframe\">\n",
       "  <thead>\n",
       "    <tr style=\"text-align: right;\">\n",
       "      <th></th>\n",
       "      <th>Dataset</th>\n",
       "      <th>Minimalne średnie pokrycie</th>\n",
       "      <th>Maksymalne średnie pokrycie</th>\n",
       "      <th>Średnia średniego  pokrycia</th>\n",
       "      <th>Mediana średniego pokrycia</th>\n",
       "    </tr>\n",
       "  </thead>\n",
       "  <tbody>\n",
       "    <tr>\n",
       "      <th>0</th>\n",
       "      <td>sim_gr_1e-11_lr_1e-12_mu_1e-15_rep1_fragmented</td>\n",
       "      <td>0.0</td>\n",
       "      <td>0.9</td>\n",
       "      <td>0.5</td>\n",
       "      <td>0.5</td>\n",
       "    </tr>\n",
       "    <tr>\n",
       "      <th>1</th>\n",
       "      <td>sim_gr_1e-11_lr_1e-12_mu_1e-15_rep1_contaminated</td>\n",
       "      <td>0.0</td>\n",
       "      <td>0.9</td>\n",
       "      <td>0.8</td>\n",
       "      <td>0.8</td>\n",
       "    </tr>\n",
       "    <tr>\n",
       "      <th>2</th>\n",
       "      <td>klebsiella_subset</td>\n",
       "      <td>0.0</td>\n",
       "      <td>1.0</td>\n",
       "      <td>0.5</td>\n",
       "      <td>0.4</td>\n",
       "    </tr>\n",
       "    <tr>\n",
       "      <th>3</th>\n",
       "      <td>sim_gr_1e-11_lr_1e-12_mu_1e-15_rep1</td>\n",
       "      <td>0.3</td>\n",
       "      <td>0.9</td>\n",
       "      <td>0.8</td>\n",
       "      <td>0.8</td>\n",
       "    </tr>\n",
       "    <tr>\n",
       "      <th>4</th>\n",
       "      <td>GPSC_subset</td>\n",
       "      <td>0.0</td>\n",
       "      <td>1.1</td>\n",
       "      <td>0.5</td>\n",
       "      <td>0.5</td>\n",
       "    </tr>\n",
       "  </tbody>\n",
       "</table>\n",
       "</div>"
      ],
      "text/plain": [
       "                                            Dataset  \\\n",
       "0    sim_gr_1e-11_lr_1e-12_mu_1e-15_rep1_fragmented   \n",
       "1  sim_gr_1e-11_lr_1e-12_mu_1e-15_rep1_contaminated   \n",
       "2                                 klebsiella_subset   \n",
       "3               sim_gr_1e-11_lr_1e-12_mu_1e-15_rep1   \n",
       "4                                       GPSC_subset   \n",
       "\n",
       "   Minimalne średnie pokrycie  Maksymalne średnie pokrycie  \\\n",
       "0                         0.0                          0.9   \n",
       "1                         0.0                          0.9   \n",
       "2                         0.0                          1.0   \n",
       "3                         0.3                          0.9   \n",
       "4                         0.0                          1.1   \n",
       "\n",
       "   Średnia średniego  pokrycia  Mediana średniego pokrycia  \n",
       "0                          0.5                         0.5  \n",
       "1                          0.8                         0.8  \n",
       "2                          0.5                         0.4  \n",
       "3                          0.8                         0.8  \n",
       "4                          0.5                         0.5  "
      ]
     },
     "execution_count": 88,
     "metadata": {},
     "output_type": "execute_result"
    }
   ],
   "source": [
    "df_old"
   ]
  },
  {
   "cell_type": "code",
   "execution_count": 82,
   "id": "f27a8e91-5b11-4293-b313-7335eb5a453b",
   "metadata": {},
   "outputs": [],
   "source": [
    "df_summary.to_csv(os.path.join(\"~/studia/magisterka/final_summaries/\",\"gfa_vs_maf_summary.csv\"), index=False)"
   ]
  }
 ],
 "metadata": {
  "kernelspec": {
   "display_name": "Python 3 (ipykernel)",
   "language": "python",
   "name": "python3"
  },
  "language_info": {
   "codemirror_mode": {
    "name": "ipython",
    "version": 3
   },
   "file_extension": ".py",
   "mimetype": "text/x-python",
   "name": "python",
   "nbconvert_exporter": "python",
   "pygments_lexer": "ipython3",
   "version": "3.10.12"
  }
 },
 "nbformat": 4,
 "nbformat_minor": 5
}
