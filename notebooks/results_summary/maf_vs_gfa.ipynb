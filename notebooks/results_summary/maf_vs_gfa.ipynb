{
 "cells": [
  {
   "cell_type": "code",
   "execution_count": 1,
   "id": "006dc368-4ee8-447d-8ede-c7c94f4f5e5a",
   "metadata": {},
   "outputs": [],
   "source": [
    "import pandas as pd\n",
    "import os"
   ]
  },
  {
   "cell_type": "code",
   "execution_count": 3,
   "id": "d69eb593-6ba7-4a00-93b8-a03cbac034a8",
   "metadata": {},
   "outputs": [],
   "source": [
    "res_dir = \"/home/pampuch/studia/magisterka/gfa_vs_maf_csv_res\""
   ]
  },
  {
   "cell_type": "code",
   "execution_count": 6,
   "id": "018c55a8-eaa5-4dd8-b5be-6d6f5db10e2f",
   "metadata": {},
   "outputs": [
    {
     "name": "stdout",
     "output_type": "stream",
     "text": [
      "sim_gr_1e-11_lr_1e-12_mu_1e-15_rep1_fragmented\n",
      "sim_gr_1e-11_lr_1e-12_mu_1e-15_rep1_contaminated\n",
      "klebsiella_subset\n",
      "sim_gr_1e-11_lr_1e-12_mu_1e-15_rep1\n",
      "GPSC_subset\n"
     ]
    }
   ],
   "source": [
    "for dir in os.listdir(res_dir):\n",
    "    print(dir)"
   ]
  },
  {
   "cell_type": "code",
   "execution_count": 5,
   "id": "7ae09686-f9e2-4cb1-bee9-9e7ec0c2ae76",
   "metadata": {},
   "outputs": [],
   "source": [
    "csv_name = \"gfa_vs_maf.csv\""
   ]
  },
  {
   "cell_type": "code",
   "execution_count": 8,
   "id": "0f3beee1-268b-45e8-99ac-ec81eee31b0b",
   "metadata": {},
   "outputs": [],
   "source": [
    "## klebsiella\n",
    "\n",
    "df = pd.read_csv(os.path.join(res_dir, \"klebsiella_subset\", csv_name))"
   ]
  },
  {
   "cell_type": "code",
   "execution_count": 9,
   "id": "34a2747c-27d6-4935-ab65-5c21ef1ce1c1",
   "metadata": {},
   "outputs": [
    {
     "data": {
      "text/html": [
       "<div>\n",
       "<style scoped>\n",
       "    .dataframe tbody tr th:only-of-type {\n",
       "        vertical-align: middle;\n",
       "    }\n",
       "\n",
       "    .dataframe tbody tr th {\n",
       "        vertical-align: top;\n",
       "    }\n",
       "\n",
       "    .dataframe thead th {\n",
       "        text-align: right;\n",
       "    }\n",
       "</style>\n",
       "<table border=\"1\" class=\"dataframe\">\n",
       "  <thead>\n",
       "    <tr style=\"text-align: right;\">\n",
       "      <th></th>\n",
       "      <th>contig_1</th>\n",
       "      <th>contig_2</th>\n",
       "      <th>frequency_1</th>\n",
       "      <th>frequency_2</th>\n",
       "    </tr>\n",
       "  </thead>\n",
       "  <tbody>\n",
       "    <tr>\n",
       "      <th>0</th>\n",
       "      <td>5150_1_3.contig00001</td>\n",
       "      <td>5151_6_6.contig00002</td>\n",
       "      <td>0.000000</td>\n",
       "      <td>0.000000</td>\n",
       "    </tr>\n",
       "    <tr>\n",
       "      <th>1</th>\n",
       "      <td>5150_1_3.contig00001</td>\n",
       "      <td>5197_7_5.contig00004</td>\n",
       "      <td>0.850289</td>\n",
       "      <td>0.811998</td>\n",
       "    </tr>\n",
       "    <tr>\n",
       "      <th>2</th>\n",
       "      <td>5150_1_3.contig00001</td>\n",
       "      <td>5150_3_5.contig00001</td>\n",
       "      <td>0.480278</td>\n",
       "      <td>0.821527</td>\n",
       "    </tr>\n",
       "    <tr>\n",
       "      <th>3</th>\n",
       "      <td>5150_1_3.contig00001</td>\n",
       "      <td>5151_2_6.contig00002</td>\n",
       "      <td>0.548110</td>\n",
       "      <td>0.874504</td>\n",
       "    </tr>\n",
       "    <tr>\n",
       "      <th>4</th>\n",
       "      <td>5150_1_3.contig00001</td>\n",
       "      <td>5197_7_5.contig00009</td>\n",
       "      <td>0.000000</td>\n",
       "      <td>0.000000</td>\n",
       "    </tr>\n",
       "    <tr>\n",
       "      <th>...</th>\n",
       "      <td>...</td>\n",
       "      <td>...</td>\n",
       "      <td>...</td>\n",
       "      <td>...</td>\n",
       "    </tr>\n",
       "    <tr>\n",
       "      <th>1069</th>\n",
       "      <td>5150_2_2.contig00001</td>\n",
       "      <td>5235_6_6.contig00822</td>\n",
       "      <td>0.000000</td>\n",
       "      <td>0.888013</td>\n",
       "    </tr>\n",
       "    <tr>\n",
       "      <th>1070</th>\n",
       "      <td>5150_2_2.contig00001</td>\n",
       "      <td>5235_6_6.contig00830</td>\n",
       "      <td>0.000000</td>\n",
       "      <td>0.808429</td>\n",
       "    </tr>\n",
       "    <tr>\n",
       "      <th>1071</th>\n",
       "      <td>5150_2_2.contig00001</td>\n",
       "      <td>5235_6_6.contig00835</td>\n",
       "      <td>0.244792</td>\n",
       "      <td>0.244792</td>\n",
       "    </tr>\n",
       "    <tr>\n",
       "      <th>1072</th>\n",
       "      <td>5150_2_2.contig00001</td>\n",
       "      <td>5235_1_4.contig01214</td>\n",
       "      <td>0.000000</td>\n",
       "      <td>0.822581</td>\n",
       "    </tr>\n",
       "    <tr>\n",
       "      <th>1073</th>\n",
       "      <td>5197_2_1.contig00001</td>\n",
       "      <td>5197_7_5.contig00001</td>\n",
       "      <td>0.721227</td>\n",
       "      <td>0.905879</td>\n",
       "    </tr>\n",
       "  </tbody>\n",
       "</table>\n",
       "<p>1074 rows × 4 columns</p>\n",
       "</div>"
      ],
      "text/plain": [
       "                  contig_1              contig_2  frequency_1  frequency_2\n",
       "0     5150_1_3.contig00001  5151_6_6.contig00002     0.000000     0.000000\n",
       "1     5150_1_3.contig00001  5197_7_5.contig00004     0.850289     0.811998\n",
       "2     5150_1_3.contig00001  5150_3_5.contig00001     0.480278     0.821527\n",
       "3     5150_1_3.contig00001  5151_2_6.contig00002     0.548110     0.874504\n",
       "4     5150_1_3.contig00001  5197_7_5.contig00009     0.000000     0.000000\n",
       "...                    ...                   ...          ...          ...\n",
       "1069  5150_2_2.contig00001  5235_6_6.contig00822     0.000000     0.888013\n",
       "1070  5150_2_2.contig00001  5235_6_6.contig00830     0.000000     0.808429\n",
       "1071  5150_2_2.contig00001  5235_6_6.contig00835     0.244792     0.244792\n",
       "1072  5150_2_2.contig00001  5235_1_4.contig01214     0.000000     0.822581\n",
       "1073  5197_2_1.contig00001  5197_7_5.contig00001     0.721227     0.905879\n",
       "\n",
       "[1074 rows x 4 columns]"
      ]
     },
     "execution_count": 9,
     "metadata": {},
     "output_type": "execute_result"
    }
   ],
   "source": [
    "df"
   ]
  },
  {
   "cell_type": "code",
   "execution_count": 16,
   "id": "5c4a7e8f-701b-43f6-bb20-05602abefc1a",
   "metadata": {},
   "outputs": [],
   "source": [
    "df[\"mean\"] = (df[\"frequency_1\"] + df[\"frequency_2\"])/2\n",
    "df[\"mean round\"] = df[\"mean\"].round(decimals=1)"
   ]
  },
  {
   "cell_type": "code",
   "execution_count": 17,
   "id": "e9543a9a-b595-41ec-96f5-1ba18956ff61",
   "metadata": {},
   "outputs": [
    {
     "data": {
      "text/html": [
       "<div>\n",
       "<style scoped>\n",
       "    .dataframe tbody tr th:only-of-type {\n",
       "        vertical-align: middle;\n",
       "    }\n",
       "\n",
       "    .dataframe tbody tr th {\n",
       "        vertical-align: top;\n",
       "    }\n",
       "\n",
       "    .dataframe thead th {\n",
       "        text-align: right;\n",
       "    }\n",
       "</style>\n",
       "<table border=\"1\" class=\"dataframe\">\n",
       "  <thead>\n",
       "    <tr style=\"text-align: right;\">\n",
       "      <th></th>\n",
       "      <th>contig_1</th>\n",
       "      <th>contig_2</th>\n",
       "      <th>frequency_1</th>\n",
       "      <th>frequency_2</th>\n",
       "      <th>mean</th>\n",
       "      <th>mean round</th>\n",
       "    </tr>\n",
       "  </thead>\n",
       "  <tbody>\n",
       "    <tr>\n",
       "      <th>0</th>\n",
       "      <td>5150_1_3.contig00001</td>\n",
       "      <td>5151_6_6.contig00002</td>\n",
       "      <td>0.000000</td>\n",
       "      <td>0.000000</td>\n",
       "      <td>0.000000</td>\n",
       "      <td>0.0</td>\n",
       "    </tr>\n",
       "    <tr>\n",
       "      <th>1</th>\n",
       "      <td>5150_1_3.contig00001</td>\n",
       "      <td>5197_7_5.contig00004</td>\n",
       "      <td>0.850289</td>\n",
       "      <td>0.811998</td>\n",
       "      <td>0.831143</td>\n",
       "      <td>0.8</td>\n",
       "    </tr>\n",
       "    <tr>\n",
       "      <th>2</th>\n",
       "      <td>5150_1_3.contig00001</td>\n",
       "      <td>5150_3_5.contig00001</td>\n",
       "      <td>0.480278</td>\n",
       "      <td>0.821527</td>\n",
       "      <td>0.650902</td>\n",
       "      <td>0.7</td>\n",
       "    </tr>\n",
       "    <tr>\n",
       "      <th>3</th>\n",
       "      <td>5150_1_3.contig00001</td>\n",
       "      <td>5151_2_6.contig00002</td>\n",
       "      <td>0.548110</td>\n",
       "      <td>0.874504</td>\n",
       "      <td>0.711307</td>\n",
       "      <td>0.7</td>\n",
       "    </tr>\n",
       "    <tr>\n",
       "      <th>4</th>\n",
       "      <td>5150_1_3.contig00001</td>\n",
       "      <td>5197_7_5.contig00009</td>\n",
       "      <td>0.000000</td>\n",
       "      <td>0.000000</td>\n",
       "      <td>0.000000</td>\n",
       "      <td>0.0</td>\n",
       "    </tr>\n",
       "    <tr>\n",
       "      <th>...</th>\n",
       "      <td>...</td>\n",
       "      <td>...</td>\n",
       "      <td>...</td>\n",
       "      <td>...</td>\n",
       "      <td>...</td>\n",
       "      <td>...</td>\n",
       "    </tr>\n",
       "    <tr>\n",
       "      <th>1069</th>\n",
       "      <td>5150_2_2.contig00001</td>\n",
       "      <td>5235_6_6.contig00822</td>\n",
       "      <td>0.000000</td>\n",
       "      <td>0.888013</td>\n",
       "      <td>0.444006</td>\n",
       "      <td>0.4</td>\n",
       "    </tr>\n",
       "    <tr>\n",
       "      <th>1070</th>\n",
       "      <td>5150_2_2.contig00001</td>\n",
       "      <td>5235_6_6.contig00830</td>\n",
       "      <td>0.000000</td>\n",
       "      <td>0.808429</td>\n",
       "      <td>0.404215</td>\n",
       "      <td>0.4</td>\n",
       "    </tr>\n",
       "    <tr>\n",
       "      <th>1071</th>\n",
       "      <td>5150_2_2.contig00001</td>\n",
       "      <td>5235_6_6.contig00835</td>\n",
       "      <td>0.244792</td>\n",
       "      <td>0.244792</td>\n",
       "      <td>0.244792</td>\n",
       "      <td>0.2</td>\n",
       "    </tr>\n",
       "    <tr>\n",
       "      <th>1072</th>\n",
       "      <td>5150_2_2.contig00001</td>\n",
       "      <td>5235_1_4.contig01214</td>\n",
       "      <td>0.000000</td>\n",
       "      <td>0.822581</td>\n",
       "      <td>0.411290</td>\n",
       "      <td>0.4</td>\n",
       "    </tr>\n",
       "    <tr>\n",
       "      <th>1073</th>\n",
       "      <td>5197_2_1.contig00001</td>\n",
       "      <td>5197_7_5.contig00001</td>\n",
       "      <td>0.721227</td>\n",
       "      <td>0.905879</td>\n",
       "      <td>0.813553</td>\n",
       "      <td>0.8</td>\n",
       "    </tr>\n",
       "  </tbody>\n",
       "</table>\n",
       "<p>1074 rows × 6 columns</p>\n",
       "</div>"
      ],
      "text/plain": [
       "                  contig_1              contig_2  frequency_1  frequency_2  \\\n",
       "0     5150_1_3.contig00001  5151_6_6.contig00002     0.000000     0.000000   \n",
       "1     5150_1_3.contig00001  5197_7_5.contig00004     0.850289     0.811998   \n",
       "2     5150_1_3.contig00001  5150_3_5.contig00001     0.480278     0.821527   \n",
       "3     5150_1_3.contig00001  5151_2_6.contig00002     0.548110     0.874504   \n",
       "4     5150_1_3.contig00001  5197_7_5.contig00009     0.000000     0.000000   \n",
       "...                    ...                   ...          ...          ...   \n",
       "1069  5150_2_2.contig00001  5235_6_6.contig00822     0.000000     0.888013   \n",
       "1070  5150_2_2.contig00001  5235_6_6.contig00830     0.000000     0.808429   \n",
       "1071  5150_2_2.contig00001  5235_6_6.contig00835     0.244792     0.244792   \n",
       "1072  5150_2_2.contig00001  5235_1_4.contig01214     0.000000     0.822581   \n",
       "1073  5197_2_1.contig00001  5197_7_5.contig00001     0.721227     0.905879   \n",
       "\n",
       "          mean  mean round  \n",
       "0     0.000000         0.0  \n",
       "1     0.831143         0.8  \n",
       "2     0.650902         0.7  \n",
       "3     0.711307         0.7  \n",
       "4     0.000000         0.0  \n",
       "...        ...         ...  \n",
       "1069  0.444006         0.4  \n",
       "1070  0.404215         0.4  \n",
       "1071  0.244792         0.2  \n",
       "1072  0.411290         0.4  \n",
       "1073  0.813553         0.8  \n",
       "\n",
       "[1074 rows x 6 columns]"
      ]
     },
     "execution_count": 17,
     "metadata": {},
     "output_type": "execute_result"
    }
   ],
   "source": [
    "df"
   ]
  },
  {
   "cell_type": "code",
   "execution_count": 12,
   "id": "19f779f4-90bc-43cc-a433-93ef6e8a9605",
   "metadata": {},
   "outputs": [
    {
     "data": {
      "text/plain": [
       "0.47609218185528684"
      ]
     },
     "execution_count": 12,
     "metadata": {},
     "output_type": "execute_result"
    }
   ],
   "source": [
    "df[\"mean\"].mean()"
   ]
  },
  {
   "cell_type": "code",
   "execution_count": 13,
   "id": "0da15d15-fc52-4fb8-b349-564f4ac066bf",
   "metadata": {},
   "outputs": [
    {
     "data": {
      "text/plain": [
       "0.9866121234659725"
      ]
     },
     "execution_count": 13,
     "metadata": {},
     "output_type": "execute_result"
    }
   ],
   "source": [
    "df[\"mean\"].max()"
   ]
  },
  {
   "cell_type": "code",
   "execution_count": 14,
   "id": "b9299dde-1698-4bbc-be7c-1592d6721c66",
   "metadata": {},
   "outputs": [
    {
     "data": {
      "text/plain": [
       "0.0"
      ]
     },
     "execution_count": 14,
     "metadata": {},
     "output_type": "execute_result"
    }
   ],
   "source": [
    "df[\"mean\"].min()"
   ]
  },
  {
   "cell_type": "code",
   "execution_count": 18,
   "id": "8e6907af-67c4-4d95-840d-6ce994476953",
   "metadata": {},
   "outputs": [
    {
     "data": {
      "text/plain": [
       "0.4"
      ]
     },
     "execution_count": 18,
     "metadata": {},
     "output_type": "execute_result"
    }
   ],
   "source": [
    "df[\"mean round\"].median()"
   ]
  },
  {
   "cell_type": "code",
   "execution_count": null,
   "id": "e13d9ff3-6511-4778-b9c4-42f3f14e1550",
   "metadata": {},
   "outputs": [],
   "source": [
    "def df_summary(dataset):\n",
    "    df = pd.read(os.path.join)\n",
    "    df[\"mean\"] = (df[\"frequency_1\"] + df[\"frequency_2\"])/2\n",
    "    df[\"mean round\"] = df[\"mean\"].round(decimals=1)"
   ]
  }
 ],
 "metadata": {
  "kernelspec": {
   "display_name": "Python 3 (ipykernel)",
   "language": "python",
   "name": "python3"
  },
  "language_info": {
   "codemirror_mode": {
    "name": "ipython",
    "version": 3
   },
   "file_extension": ".py",
   "mimetype": "text/x-python",
   "name": "python",
   "nbconvert_exporter": "python",
   "pygments_lexer": "ipython3",
   "version": "3.10.12"
  }
 },
 "nbformat": 4,
 "nbformat_minor": 5
}
