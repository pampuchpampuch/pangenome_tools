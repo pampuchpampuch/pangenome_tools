{
 "cells": [
  {
   "cell_type": "code",
   "execution_count": 3,
   "id": "0d87ed0c-6d8b-4d89-bd89-728a61be93d7",
   "metadata": {},
   "outputs": [],
   "source": [
    "from pgtools import gff_parser\n",
    "import os\n",
    "import pandas as pd"
   ]
  },
  {
   "cell_type": "code",
   "execution_count": null,
   "id": "031f1bb8-6dc4-4301-a3aa-7d363359469d",
   "metadata": {},
   "outputs": [],
   "source": []
  }
 ],
 "metadata": {
  "kernelspec": {
   "display_name": "Python 3 (ipykernel)",
   "language": "python",
   "name": "python3"
  },
  "language_info": {
   "codemirror_mode": {
    "name": "ipython",
    "version": 3
   },
   "file_extension": ".py",
   "mimetype": "text/x-python",
   "name": "python",
   "nbconvert_exporter": "python",
   "pygments_lexer": "ipython3",
   "version": "3.10.12"
  }
 },
 "nbformat": 4,
 "nbformat_minor": 5
}
