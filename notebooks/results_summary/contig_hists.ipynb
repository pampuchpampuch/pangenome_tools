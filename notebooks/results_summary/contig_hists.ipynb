{
 "cells": [
  {
   "cell_type": "code",
   "execution_count": 10,
   "id": "b1914246-391a-43ef-a08e-502f69e3508b",
   "metadata": {},
   "outputs": [],
   "source": [
    "import pandas as pd\n",
    "import os\n",
    "from pgtools.maf_parser import parse_maf, MAF\n",
    "import seaborn as sns\n",
    "import numpy as np\n",
    "import matplotlib.pyplot as plt\n",
    "import numpy as np"
   ]
  },
  {
   "cell_type": "code",
   "execution_count": 11,
   "id": "2c13fc7f-ff74-4ff4-b5a7-d229fa6f3e88",
   "metadata": {},
   "outputs": [],
   "source": [
    "csv_dir = \"/home/pampuch/studia/magisterka/final_summaries/scaffols_lens\"\n",
    "csv_name = \"scaf_lens.csv\""
   ]
  },
  {
   "cell_type": "code",
   "execution_count": 12,
   "id": "a69bead4-470f-4a9c-a341-d8c916a6b9f0",
   "metadata": {},
   "outputs": [
    {
     "name": "stdout",
     "output_type": "stream",
     "text": [
      "sim_gr_1e-11_lr_1e-12_mu_1e-15_rep1_fragmented\n",
      "scaf_lens.csv\n",
      "sim_gr_1e-11_lr_1e-12_mu_1e-15_rep1_contaminated\n",
      "scaf_lens.csv\n",
      "klebsiella_subset\n",
      "scaf_lens.csv\n",
      "sim_gr_1e-11_lr_1e-12_mu_1e-15_rep1\n",
      "scaf_lens.csv\n",
      "basic_dataset_stats.csv\n"
     ]
    },
    {
     "ename": "NotADirectoryError",
     "evalue": "[Errno 20] Not a directory: '/home/pampuch/studia/magisterka/final_summaries/scaffols_lens/basic_dataset_stats.csv'",
     "output_type": "error",
     "traceback": [
      "\u001b[0;31m---------------------------------------------------------------------------\u001b[0m",
      "\u001b[0;31mNotADirectoryError\u001b[0m                        Traceback (most recent call last)",
      "Cell \u001b[0;32mIn[12], line 3\u001b[0m\n\u001b[1;32m      1\u001b[0m \u001b[38;5;28;01mfor\u001b[39;00m dataset \u001b[38;5;129;01min\u001b[39;00m os\u001b[38;5;241m.\u001b[39mlistdir(csv_dir):\n\u001b[1;32m      2\u001b[0m     \u001b[38;5;28mprint\u001b[39m(dataset)\n\u001b[0;32m----> 3\u001b[0m     \u001b[38;5;28;01mfor\u001b[39;00m f \u001b[38;5;129;01min\u001b[39;00m \u001b[43mos\u001b[49m\u001b[38;5;241;43m.\u001b[39;49m\u001b[43mlistdir\u001b[49m\u001b[43m(\u001b[49m\u001b[43mos\u001b[49m\u001b[38;5;241;43m.\u001b[39;49m\u001b[43mpath\u001b[49m\u001b[38;5;241;43m.\u001b[39;49m\u001b[43mjoin\u001b[49m\u001b[43m(\u001b[49m\u001b[43mcsv_dir\u001b[49m\u001b[43m,\u001b[49m\u001b[43m \u001b[49m\u001b[43mdataset\u001b[49m\u001b[43m)\u001b[49m\u001b[43m)\u001b[49m:\n\u001b[1;32m      4\u001b[0m         \u001b[38;5;28mprint\u001b[39m(f)\n",
      "\u001b[0;31mNotADirectoryError\u001b[0m: [Errno 20] Not a directory: '/home/pampuch/studia/magisterka/final_summaries/scaffols_lens/basic_dataset_stats.csv'"
     ]
    }
   ],
   "source": [
    "for dataset in os.listdir(csv_dir):\n",
    "    print(dataset)\n",
    "    for f in os.listdir(os.path.join(csv_dir, dataset)):\n",
    "        print(f)"
   ]
  },
  {
   "cell_type": "code",
   "execution_count": 6,
   "id": "60740d62-2f4e-410b-beb4-6e126abe0f6d",
   "metadata": {},
   "outputs": [
    {
     "name": "stdout",
     "output_type": "stream",
     "text": [
      "sim_gr_1e-11_lr_1e-12_mu_1e-15_rep1_fragmented\n",
      "sim_gr_1e-11_lr_1e-12_mu_1e-15_rep1_contaminated\n",
      "klebsiella_subset\n",
      "sim_gr_1e-11_lr_1e-12_mu_1e-15_rep1\n",
      "basic_dataset_stats.csv\n"
     ]
    },
    {
     "ename": "NotADirectoryError",
     "evalue": "[Errno 20] Not a directory: '/home/pampuch/studia/magisterka/final_summaries/scaffols_lens/basic_dataset_stats.csv'",
     "output_type": "error",
     "traceback": [
      "\u001b[0;31m---------------------------------------------------------------------------\u001b[0m",
      "\u001b[0;31mNotADirectoryError\u001b[0m                        Traceback (most recent call last)",
      "Cell \u001b[0;32mIn[6], line 4\u001b[0m\n\u001b[1;32m      2\u001b[0m \u001b[38;5;28;01mfor\u001b[39;00m dataset \u001b[38;5;129;01min\u001b[39;00m os\u001b[38;5;241m.\u001b[39mlistdir(csv_dir):\n\u001b[1;32m      3\u001b[0m     \u001b[38;5;28mprint\u001b[39m(dataset)\n\u001b[0;32m----> 4\u001b[0m     \u001b[38;5;28;01mfor\u001b[39;00m f \u001b[38;5;129;01min\u001b[39;00m \u001b[43mos\u001b[49m\u001b[38;5;241;43m.\u001b[39;49m\u001b[43mlistdir\u001b[49m\u001b[43m(\u001b[49m\u001b[43mos\u001b[49m\u001b[38;5;241;43m.\u001b[39;49m\u001b[43mpath\u001b[49m\u001b[38;5;241;43m.\u001b[39;49m\u001b[43mjoin\u001b[49m\u001b[43m(\u001b[49m\u001b[43mcsv_dir\u001b[49m\u001b[43m,\u001b[49m\u001b[43m \u001b[49m\u001b[43mdataset\u001b[49m\u001b[43m)\u001b[49m\u001b[43m)\u001b[49m:\n\u001b[1;32m      5\u001b[0m         df \u001b[38;5;241m=\u001b[39m pd\u001b[38;5;241m.\u001b[39mread_csv(os\u001b[38;5;241m.\u001b[39mpath\u001b[38;5;241m.\u001b[39mjoin(csv_dir, dataset, f))\n\u001b[1;32m      6\u001b[0m         lens \u001b[38;5;241m=\u001b[39m df[\u001b[38;5;124m\"\u001b[39m\u001b[38;5;124mLen\u001b[39m\u001b[38;5;124m\"\u001b[39m]\u001b[38;5;241m.\u001b[39mto_numpy()\n",
      "\u001b[0;31mNotADirectoryError\u001b[0m: [Errno 20] Not a directory: '/home/pampuch/studia/magisterka/final_summaries/scaffols_lens/basic_dataset_stats.csv'"
     ]
    }
   ],
   "source": [
    "all_lens = {}\n",
    "for dataset in os.listdir(csv_dir):\n",
    "    print(dataset)\n",
    "    for f in os.listdir(os.path.join(csv_dir, dataset)):\n",
    "        df = pd.read_csv(os.path.join(csv_dir, dataset, f))\n",
    "        lens = df[\"Len\"].to_numpy()\n",
    "        all_lens[datasets_mapping(dataset)] = lens"
   ]
  },
  {
   "cell_type": "code",
   "execution_count": 13,
   "id": "efac805c-c770-4eae-a9f3-e512586e053b",
   "metadata": {},
   "outputs": [],
   "source": [
    "def datasets_mapping(x):\n",
    "    if x.startswith(\"sim\"):\n",
    "        x= x.replace(\"sim_gr_1e-11_lr_1e-12_mu_1e-15_rep1\", \"E. coli \")\n",
    "    else:\n",
    "        x= x.replace(\"_subset\", \"\")\n",
    "        x= x.replace(\"GPSC\", \"Pneumococcus\")\n",
    "        x = x.replace(\"klebsiella\", \"Klebsiella\")\n",
    "    return x.strip().replace(\"_\",\"\")"
   ]
  },
  {
   "cell_type": "code",
   "execution_count": 7,
   "id": "80bd22f4-8e07-4602-a284-15d4c2fbe0e8",
   "metadata": {},
   "outputs": [],
   "source": [
    "dataset = \"klebsiella_subset\""
   ]
  },
  {
   "cell_type": "code",
   "execution_count": 8,
   "id": "e40cdfeb-b60f-4a7c-b352-99c2644d7c91",
   "metadata": {},
   "outputs": [],
   "source": [
    "df = pd.read_csv(os.path.join(csv_dir, dataset, csv_name))"
   ]
  },
  {
   "cell_type": "code",
   "execution_count": 9,
   "id": "eae980bd-a283-4a97-8690-9d172ee0a3a7",
   "metadata": {},
   "outputs": [
    {
     "data": {
      "text/html": [
       "<div>\n",
       "<style scoped>\n",
       "    .dataframe tbody tr th:only-of-type {\n",
       "        vertical-align: middle;\n",
       "    }\n",
       "\n",
       "    .dataframe tbody tr th {\n",
       "        vertical-align: top;\n",
       "    }\n",
       "\n",
       "    .dataframe thead th {\n",
       "        text-align: right;\n",
       "    }\n",
       "</style>\n",
       "<table border=\"1\" class=\"dataframe\">\n",
       "  <thead>\n",
       "    <tr style=\"text-align: right;\">\n",
       "      <th></th>\n",
       "      <th>Contig</th>\n",
       "      <th>Len</th>\n",
       "    </tr>\n",
       "  </thead>\n",
       "  <tbody>\n",
       "    <tr>\n",
       "      <th>0</th>\n",
       "      <td>5235_5_12.contig00001</td>\n",
       "      <td>64326</td>\n",
       "    </tr>\n",
       "    <tr>\n",
       "      <th>1</th>\n",
       "      <td>5235_5_12.contig00002</td>\n",
       "      <td>60612</td>\n",
       "    </tr>\n",
       "    <tr>\n",
       "      <th>2</th>\n",
       "      <td>5235_5_12.contig00003</td>\n",
       "      <td>53131</td>\n",
       "    </tr>\n",
       "    <tr>\n",
       "      <th>3</th>\n",
       "      <td>5235_5_12.contig00004</td>\n",
       "      <td>42928</td>\n",
       "    </tr>\n",
       "    <tr>\n",
       "      <th>4</th>\n",
       "      <td>5235_5_12.contig00005</td>\n",
       "      <td>40521</td>\n",
       "    </tr>\n",
       "    <tr>\n",
       "      <th>...</th>\n",
       "      <td>...</td>\n",
       "      <td>...</td>\n",
       "    </tr>\n",
       "    <tr>\n",
       "      <th>15603</th>\n",
       "      <td>5235_6_6.contig01171</td>\n",
       "      <td>56</td>\n",
       "    </tr>\n",
       "    <tr>\n",
       "      <th>15604</th>\n",
       "      <td>5235_6_6.contig01172</td>\n",
       "      <td>56</td>\n",
       "    </tr>\n",
       "    <tr>\n",
       "      <th>15605</th>\n",
       "      <td>5235_6_6.contig01173</td>\n",
       "      <td>56</td>\n",
       "    </tr>\n",
       "    <tr>\n",
       "      <th>15606</th>\n",
       "      <td>5235_6_6.contig01174</td>\n",
       "      <td>56</td>\n",
       "    </tr>\n",
       "    <tr>\n",
       "      <th>15607</th>\n",
       "      <td>5235_6_6.contig01175</td>\n",
       "      <td>56</td>\n",
       "    </tr>\n",
       "  </tbody>\n",
       "</table>\n",
       "<p>15608 rows × 2 columns</p>\n",
       "</div>"
      ],
      "text/plain": [
       "                      Contig    Len\n",
       "0      5235_5_12.contig00001  64326\n",
       "1      5235_5_12.contig00002  60612\n",
       "2      5235_5_12.contig00003  53131\n",
       "3      5235_5_12.contig00004  42928\n",
       "4      5235_5_12.contig00005  40521\n",
       "...                      ...    ...\n",
       "15603   5235_6_6.contig01171     56\n",
       "15604   5235_6_6.contig01172     56\n",
       "15605   5235_6_6.contig01173     56\n",
       "15606   5235_6_6.contig01174     56\n",
       "15607   5235_6_6.contig01175     56\n",
       "\n",
       "[15608 rows x 2 columns]"
      ]
     },
     "execution_count": 9,
     "metadata": {},
     "output_type": "execute_result"
    }
   ],
   "source": [
    "df"
   ]
  },
  {
   "cell_type": "code",
   "execution_count": null,
   "id": "14f397ff-cdc7-4537-9ae1-5a9730782a59",
   "metadata": {},
   "outputs": [],
   "source": [
    "lens = df[\"Len\"].to_numpy()"
   ]
  },
  {
   "cell_type": "code",
   "execution_count": null,
   "id": "6d2667b0-9c12-4335-bcf2-2608346abbe6",
   "metadata": {},
   "outputs": [],
   "source": [
    "lens"
   ]
  },
  {
   "cell_type": "code",
   "execution_count": null,
   "id": "33b6286c-5646-4dbf-b583-eb5b09b3a03e",
   "metadata": {},
   "outputs": [],
   "source": [
    "max(lens)"
   ]
  },
  {
   "cell_type": "code",
   "execution_count": null,
   "id": "91b02af2-d748-43fe-9581-a7970d469ec3",
   "metadata": {},
   "outputs": [],
   "source": [
    "from collections import Counter"
   ]
  },
  {
   "cell_type": "code",
   "execution_count": null,
   "id": "11fb4906-2aba-4213-b251-0b0d55d1798c",
   "metadata": {},
   "outputs": [],
   "source": [
    "len_coutns = dict(Counter(lens))"
   ]
  },
  {
   "cell_type": "code",
   "execution_count": null,
   "id": "326757be-76e5-4227-a4ca-1643fc601a62",
   "metadata": {
    "scrolled": true
   },
   "outputs": [],
   "source": [
    "len_coutns"
   ]
  },
  {
   "cell_type": "code",
   "execution_count": null,
   "id": "5fae52c8-c1f6-4445-938f-4d5ae5c30b57",
   "metadata": {},
   "outputs": [],
   "source": [
    "\n",
    "sns.histplot(lens)\n"
   ]
  },
  {
   "cell_type": "code",
   "execution_count": null,
   "id": "2d813195-5237-48a4-bfaf-987d4a4d5f88",
   "metadata": {},
   "outputs": [],
   "source": [
    "datasets = sorted(list(all_lens.keys()))"
   ]
  },
  {
   "cell_type": "code",
   "execution_count": null,
   "id": "98e43352-2881-430e-8ab4-a8c3a9f5a418",
   "metadata": {},
   "outputs": [],
   "source": [
    "datasets"
   ]
  },
  {
   "cell_type": "code",
   "execution_count": null,
   "id": "2f23e5a6-78ed-4b95-ace2-a6750d6b9907",
   "metadata": {},
   "outputs": [],
   "source": [
    "all_lens"
   ]
  },
  {
   "cell_type": "code",
   "execution_count": null,
   "id": "6474f33d-8dae-4c28-abf8-7ac86dee8cde",
   "metadata": {},
   "outputs": [],
   "source": [
    "lens = []\n",
    "for i in all_lens.values():\n",
    "    lens += list(i)\n",
    "max(lens)"
   ]
  },
  {
   "cell_type": "code",
   "execution_count": null,
   "id": "f338041a-9b8c-4978-9b99-ee61e0abe4e4",
   "metadata": {},
   "outputs": [],
   "source": [
    "datasets"
   ]
  },
  {
   "cell_type": "code",
   "execution_count": null,
   "id": "2b74ace9-1459-40dc-8651-326f29b3d870",
   "metadata": {},
   "outputs": [],
   "source": [
    "datasets=['E. coli',\n",
    " 'Pneumococcus',\n",
    " 'E. coli fragmented',\n",
    " 'Klebsiella',\n",
    " 'E. coli contaminated',\n",
    "]"
   ]
  },
  {
   "cell_type": "code",
   "execution_count": null,
   "id": "8062e54d-9921-4f96-bb69-82a5c5c7e7dc",
   "metadata": {},
   "outputs": [],
   "source": [
    "fig, axes = plt.subplots(3,2,figsize=(10, 14))\n",
    "# fig.s\n",
    "for k in range(5):\n",
    "    dataset = datasets[k]\n",
    "    i = k % 2\n",
    "    j = k % 3\n",
    "    sns.histplot(all_lens[dataset], ax=axes[j, i], bins=50, binwidth = 530000*0.01)\n",
    "    axes[j, i].set_title(dataset, fontsize=13)\n",
    "    axes[j, i].set_xlabel(\"Długość kontigu\", fontsize=10)\n",
    "    axes[j, i].set_ylabel(\"Częstość\", fontsize=10)\n",
    "    axes[j, i].set(xlim=(0,530000))\n",
    "    axes[j, i].set(ylim=(0,15500))\n",
    "\n",
    "# plt.show()\n",
    "fig.suptitle(\"Rozkłady długości kontigów w poszczególnych zbiorach danych\", fontsize=16)\n",
    "fig.tight_layout()\n",
    "\n",
    "axes[2, 1].axis(\"off\")\n",
    "plt.savefig(f\"/home/pampuch/studia/magisterka/final_summaries/scaffols_lens/scaff_lens_dists.png\")\n",
    "plt.savefig(f\"/home/pampuch/studia/magisterka/final_summaries/scaffols_lens/scaff_lens_dists.svg\")"
   ]
  },
  {
   "cell_type": "code",
   "execution_count": null,
   "id": "fa6e831a-3d7d-4a7f-9bcd-d7af1b2087f2",
   "metadata": {},
   "outputs": [],
   "source": [
    "round(9543, -2)"
   ]
  },
  {
   "cell_type": "code",
   "execution_count": null,
   "id": "886eaa4e-c6bf-4d3b-a315-339c3ace6cee",
   "metadata": {},
   "outputs": [],
   "source": [
    "all_lens_rounded = {dataset: [round(i, -1) for i in lens] for dataset, lens in all_lens.items()}"
   ]
  },
  {
   "cell_type": "code",
   "execution_count": null,
   "id": "783af6b6-aaa1-4377-932f-21f287dcb6f7",
   "metadata": {},
   "outputs": [],
   "source": [
    "for dataset, lens in all_lens_rounded.items():\n",
    "    print(dataset)\n",
    "    print(max(lens))\n",
    "    print(min(lens))\n",
    "    print(np.median(lens))\n",
    "    print(np.mean(lens))\n",
    "\n",
    "    print(\"-\"*40)"
   ]
  },
  {
   "cell_type": "code",
   "execution_count": null,
   "id": "4f8b8bd4-a1fa-483d-a8ce-c0f1ddfa2877",
   "metadata": {},
   "outputs": [],
   "source": [
    "print(\"Średnie długości contigów wchodzących w skład genomów poszczególnych datasetów:\")\n",
    "columns = [\"Dataset\", \"Liczba wszystkich kontigów\", \"\"]\n",
    "for dataset in sorted(list(all_lens.keys())):\n",
    "    lens = all_lens[dataset]\n",
    "    print(f\"{dataset}: liczba wszystkich scaffoldów: {len(lens)}, średnia długość {np.mean(lens):.0f}\")\n",
    "    # print(max(lens))\n",
    "    # print(min(lens))\n",
    "    # print(np.median(lens))\n",
    "    # print(np.mean(lens))\n",
    "\n",
    "    # print(\"-\"*40)"
   ]
  },
  {
   "cell_type": "code",
   "execution_count": 14,
   "id": "e4590669-db66-45f2-9d2f-01fafd3e72b4",
   "metadata": {},
   "outputs": [],
   "source": [
    "dataset=\"klebsiella_subset\"\n",
    "df = pd.read_csv(os.path.join(csv_dir, dataset, csv_name))\n",
    "df[\"Genome\"] = df[\"Contig\"].apply(lambda x: x.split(\".\")[0])"
   ]
  },
  {
   "cell_type": "code",
   "execution_count": 15,
   "id": "4b06c0f1-4d1e-474e-84d3-1a884176d269",
   "metadata": {},
   "outputs": [
    {
     "data": {
      "text/plain": [
       "11384"
      ]
     },
     "execution_count": 15,
     "metadata": {},
     "output_type": "execute_result"
    }
   ],
   "source": [
    "df.groupby(by=[\"Genome\"])[\"Len\"].mean().mean().astype(\"int\")"
   ]
  },
  {
   "cell_type": "code",
   "execution_count": null,
   "id": "65cc48da-54c4-4e32-a321-7c95552a0f48",
   "metadata": {},
   "outputs": [],
   "source": [
    "df.groupby(by=[\"Genome\"])[\"Len\"].count().mean().astype(\"int\")"
   ]
  },
  {
   "cell_type": "code",
   "execution_count": null,
   "id": "81e0982e-394a-40d6-81db-604f89fe0516",
   "metadata": {},
   "outputs": [],
   "source": [
    "cols = [\"Dataset\", \"Średnia liczba kontigów w genomie\", \"Średnia średniej długości kontigu w genomie\", \"Średnia długość wszystkich kontigów w datasecie\"]\n",
    "data = []\n",
    "for dataset in os.listdir(csv_dir):\n",
    "    if \".\" in dataset:\n",
    "        continue\n",
    "    df = pd.read_csv(os.path.join(csv_dir, dataset, csv_name))\n",
    "    df[\"Genome\"] = df[\"Contig\"].apply(lambda x: x.split(\".\")[0])\n",
    "    data.append([datasets_mapping(dataset), df.groupby(by=[\"Genome\"])[\"Len\"].count().mean().astype(\"int\"), df.groupby(by=[\"Genome\"])[\"Len\"].mean().mean().astype(\"int\"), df[\"Len\"].mean().astype(\"int\")])"
   ]
  },
  {
   "cell_type": "code",
   "execution_count": null,
   "id": "dcdedb0a-0fa8-4c1f-84bf-c107b0d7f2c8",
   "metadata": {},
   "outputs": [],
   "source": [
    "data"
   ]
  },
  {
   "cell_type": "code",
   "execution_count": null,
   "id": "28d78a93-a69f-4300-bed9-494ba65989aa",
   "metadata": {},
   "outputs": [],
   "source": [
    "df_basic = pd.DataFrame(columns=cols, data=data)\n",
    "df_basic = df_basic.sort_values([\"Dataset\"])"
   ]
  },
  {
   "cell_type": "code",
   "execution_count": null,
   "id": "bbe9f411-124c-48ed-87b4-31ab94360434",
   "metadata": {},
   "outputs": [],
   "source": [
    "df_basic"
   ]
  },
  {
   "cell_type": "code",
   "execution_count": null,
   "id": "452226dd-1ca1-451c-8fc1-5a2476bb41ed",
   "metadata": {},
   "outputs": [],
   "source": [
    "df_basic.to_csv(\"/home/pampuch/studia/magisterka/final_summaries/scaffols_lens/basic_dataset_stats.csv\", index=False)"
   ]
  },
  {
   "cell_type": "markdown",
   "id": "e5ce7798-8fc6-45fc-931e-cb69ac5b4eb1",
   "metadata": {},
   "source": [
    "### Contig (genomes?) coverage"
   ]
  },
  {
   "cell_type": "code",
   "execution_count": 16,
   "id": "cbb94d7e-a09f-4aba-bc35-a830059aa8a6",
   "metadata": {},
   "outputs": [],
   "source": [
    "cont_lens_dir = \"/home/pampuch/studia/magisterka/final_summaries/scaf_cover/contig_lens_in_model/\"\n",
    "scaff_lens = \"/home/pampuch/studia/magisterka/final_summaries/scaffols_lens\"\n",
    "cont_csv_name = \"scaff_cont_lens.csv\"\n",
    "all_lens_csv = \"scaf_lens.csv\""
   ]
  },
  {
   "cell_type": "code",
   "execution_count": 17,
   "id": "446dddb2-f4f6-43f7-ac10-010f1191bf90",
   "metadata": {},
   "outputs": [],
   "source": [
    "dataset = \"GPSC_subset\"\n",
    "model=\"cactus\""
   ]
  },
  {
   "cell_type": "code",
   "execution_count": 18,
   "id": "7764ed00-69a2-4058-a9a6-82cc030c3694",
   "metadata": {},
   "outputs": [],
   "source": [
    "df_cont_lens = pd.read_csv(os.path.join(cont_lens_dir, model, dataset, cont_csv_name))\n",
    "df_lens = pd.read_csv(os.path.join(scaff_lens, dataset, \"scaf_lens_without_velvet.csv\"))"
   ]
  },
  {
   "cell_type": "code",
   "execution_count": 19,
   "id": "1366ea16-43fa-419e-b1dc-72b9225327e1",
   "metadata": {},
   "outputs": [
    {
     "data": {
      "text/html": [
       "<div>\n",
       "<style scoped>\n",
       "    .dataframe tbody tr th:only-of-type {\n",
       "        vertical-align: middle;\n",
       "    }\n",
       "\n",
       "    .dataframe tbody tr th {\n",
       "        vertical-align: top;\n",
       "    }\n",
       "\n",
       "    .dataframe thead th {\n",
       "        text-align: right;\n",
       "    }\n",
       "</style>\n",
       "<table border=\"1\" class=\"dataframe\">\n",
       "  <thead>\n",
       "    <tr style=\"text-align: right;\">\n",
       "      <th></th>\n",
       "      <th>Contig</th>\n",
       "      <th>sum of seq lens in model</th>\n",
       "    </tr>\n",
       "  </thead>\n",
       "  <tbody>\n",
       "    <tr>\n",
       "      <th>0</th>\n",
       "      <td>22667_7_131.ERS1699020_SC_contig000004</td>\n",
       "      <td>62859</td>\n",
       "    </tr>\n",
       "    <tr>\n",
       "      <th>1</th>\n",
       "      <td>Anc0.Anc0refChr36_0</td>\n",
       "      <td>29</td>\n",
       "    </tr>\n",
       "    <tr>\n",
       "      <th>2</th>\n",
       "      <td>22841_3_158.ERS1699832_SC_contig000010</td>\n",
       "      <td>79213</td>\n",
       "    </tr>\n",
       "    <tr>\n",
       "      <th>3</th>\n",
       "      <td>22841_3_7.ERS1699673_SC_contig000005</td>\n",
       "      <td>84271</td>\n",
       "    </tr>\n",
       "    <tr>\n",
       "      <th>4</th>\n",
       "      <td>17794_8_81.ERS719881_SC_contig000001</td>\n",
       "      <td>204228</td>\n",
       "    </tr>\n",
       "    <tr>\n",
       "      <th>...</th>\n",
       "      <td>...</td>\n",
       "      <td>...</td>\n",
       "    </tr>\n",
       "    <tr>\n",
       "      <th>1254</th>\n",
       "      <td>Anc0.Anc0refChr223_26</td>\n",
       "      <td>389</td>\n",
       "    </tr>\n",
       "    <tr>\n",
       "      <th>1255</th>\n",
       "      <td>17794_8_81.ERS719881_SC_contig000195</td>\n",
       "      <td>389</td>\n",
       "    </tr>\n",
       "    <tr>\n",
       "      <th>1256</th>\n",
       "      <td>Anc0.Anc0refChr6_26</td>\n",
       "      <td>389</td>\n",
       "    </tr>\n",
       "    <tr>\n",
       "      <th>1257</th>\n",
       "      <td>17794_8_81.ERS719881_SC_contig000196</td>\n",
       "      <td>389</td>\n",
       "    </tr>\n",
       "    <tr>\n",
       "      <th>1258</th>\n",
       "      <td>Anc0.Anc0refChr172_26</td>\n",
       "      <td>389</td>\n",
       "    </tr>\n",
       "  </tbody>\n",
       "</table>\n",
       "<p>1259 rows × 2 columns</p>\n",
       "</div>"
      ],
      "text/plain": [
       "                                      Contig  sum of seq lens in model\n",
       "0     22667_7_131.ERS1699020_SC_contig000004                     62859\n",
       "1                        Anc0.Anc0refChr36_0                        29\n",
       "2     22841_3_158.ERS1699832_SC_contig000010                     79213\n",
       "3       22841_3_7.ERS1699673_SC_contig000005                     84271\n",
       "4       17794_8_81.ERS719881_SC_contig000001                    204228\n",
       "...                                      ...                       ...\n",
       "1254                   Anc0.Anc0refChr223_26                       389\n",
       "1255    17794_8_81.ERS719881_SC_contig000195                       389\n",
       "1256                     Anc0.Anc0refChr6_26                       389\n",
       "1257    17794_8_81.ERS719881_SC_contig000196                       389\n",
       "1258                   Anc0.Anc0refChr172_26                       389\n",
       "\n",
       "[1259 rows x 2 columns]"
      ]
     },
     "execution_count": 19,
     "metadata": {},
     "output_type": "execute_result"
    }
   ],
   "source": [
    "df_cont_lens"
   ]
  },
  {
   "cell_type": "code",
   "execution_count": 20,
   "id": "2c367499-d317-41d8-843a-ad0c55961263",
   "metadata": {},
   "outputs": [
    {
     "data": {
      "text/html": [
       "<div>\n",
       "<style scoped>\n",
       "    .dataframe tbody tr th:only-of-type {\n",
       "        vertical-align: middle;\n",
       "    }\n",
       "\n",
       "    .dataframe tbody tr th {\n",
       "        vertical-align: top;\n",
       "    }\n",
       "\n",
       "    .dataframe thead th {\n",
       "        text-align: right;\n",
       "    }\n",
       "</style>\n",
       "<table border=\"1\" class=\"dataframe\">\n",
       "  <thead>\n",
       "    <tr style=\"text-align: right;\">\n",
       "      <th></th>\n",
       "      <th>Contig</th>\n",
       "      <th>Len</th>\n",
       "    </tr>\n",
       "  </thead>\n",
       "  <tbody>\n",
       "    <tr>\n",
       "      <th>0</th>\n",
       "      <td>17870_7_11.ERS725493_SC_contig000001</td>\n",
       "      <td>393383</td>\n",
       "    </tr>\n",
       "    <tr>\n",
       "      <th>1</th>\n",
       "      <td>17870_7_11.ERS725493_SC_contig000002</td>\n",
       "      <td>313001</td>\n",
       "    </tr>\n",
       "    <tr>\n",
       "      <th>2</th>\n",
       "      <td>17870_7_11.ERS725493_SC_contig000003</td>\n",
       "      <td>200830</td>\n",
       "    </tr>\n",
       "    <tr>\n",
       "      <th>3</th>\n",
       "      <td>17870_7_11.ERS725493_SC_contig000004</td>\n",
       "      <td>178059</td>\n",
       "    </tr>\n",
       "    <tr>\n",
       "      <th>4</th>\n",
       "      <td>17870_7_11.ERS725493_SC_contig000005</td>\n",
       "      <td>158966</td>\n",
       "    </tr>\n",
       "    <tr>\n",
       "      <th>...</th>\n",
       "      <td>...</td>\n",
       "      <td>...</td>\n",
       "    </tr>\n",
       "    <tr>\n",
       "      <th>2487</th>\n",
       "      <td>22027_1_155._SC_contig000049</td>\n",
       "      <td>421</td>\n",
       "    </tr>\n",
       "    <tr>\n",
       "      <th>2488</th>\n",
       "      <td>22027_1_155._SC_contig000050</td>\n",
       "      <td>399</td>\n",
       "    </tr>\n",
       "    <tr>\n",
       "      <th>2489</th>\n",
       "      <td>22027_1_155._SC_contig000051</td>\n",
       "      <td>378</td>\n",
       "    </tr>\n",
       "    <tr>\n",
       "      <th>2490</th>\n",
       "      <td>22027_1_155._SC_contig000052</td>\n",
       "      <td>373</td>\n",
       "    </tr>\n",
       "    <tr>\n",
       "      <th>2491</th>\n",
       "      <td>22027_1_155._SC_contig000053</td>\n",
       "      <td>306</td>\n",
       "    </tr>\n",
       "  </tbody>\n",
       "</table>\n",
       "<p>2492 rows × 2 columns</p>\n",
       "</div>"
      ],
      "text/plain": [
       "                                    Contig     Len\n",
       "0     17870_7_11.ERS725493_SC_contig000001  393383\n",
       "1     17870_7_11.ERS725493_SC_contig000002  313001\n",
       "2     17870_7_11.ERS725493_SC_contig000003  200830\n",
       "3     17870_7_11.ERS725493_SC_contig000004  178059\n",
       "4     17870_7_11.ERS725493_SC_contig000005  158966\n",
       "...                                    ...     ...\n",
       "2487          22027_1_155._SC_contig000049     421\n",
       "2488          22027_1_155._SC_contig000050     399\n",
       "2489          22027_1_155._SC_contig000051     378\n",
       "2490          22027_1_155._SC_contig000052     373\n",
       "2491          22027_1_155._SC_contig000053     306\n",
       "\n",
       "[2492 rows x 2 columns]"
      ]
     },
     "execution_count": 20,
     "metadata": {},
     "output_type": "execute_result"
    }
   ],
   "source": [
    "df_lens"
   ]
  },
  {
   "cell_type": "code",
   "execution_count": 21,
   "id": "27c5d0d7-6895-400d-9300-8ea598726f58",
   "metadata": {},
   "outputs": [],
   "source": [
    "df_cov = df_lens.join(df_cont_lens.set_index(\"Contig\"), on=\"Contig\")"
   ]
  },
  {
   "cell_type": "code",
   "execution_count": 22,
   "id": "3c681c8a-ef4b-46e4-a58f-a08bcf20fee6",
   "metadata": {},
   "outputs": [
    {
     "data": {
      "text/html": [
       "<div>\n",
       "<style scoped>\n",
       "    .dataframe tbody tr th:only-of-type {\n",
       "        vertical-align: middle;\n",
       "    }\n",
       "\n",
       "    .dataframe tbody tr th {\n",
       "        vertical-align: top;\n",
       "    }\n",
       "\n",
       "    .dataframe thead th {\n",
       "        text-align: right;\n",
       "    }\n",
       "</style>\n",
       "<table border=\"1\" class=\"dataframe\">\n",
       "  <thead>\n",
       "    <tr style=\"text-align: right;\">\n",
       "      <th></th>\n",
       "      <th>Contig</th>\n",
       "      <th>Len</th>\n",
       "      <th>sum of seq lens in model</th>\n",
       "    </tr>\n",
       "  </thead>\n",
       "  <tbody>\n",
       "    <tr>\n",
       "      <th>0</th>\n",
       "      <td>17870_7_11.ERS725493_SC_contig000001</td>\n",
       "      <td>393383</td>\n",
       "      <td>NaN</td>\n",
       "    </tr>\n",
       "    <tr>\n",
       "      <th>1</th>\n",
       "      <td>17870_7_11.ERS725493_SC_contig000002</td>\n",
       "      <td>313001</td>\n",
       "      <td>NaN</td>\n",
       "    </tr>\n",
       "    <tr>\n",
       "      <th>2</th>\n",
       "      <td>17870_7_11.ERS725493_SC_contig000003</td>\n",
       "      <td>200830</td>\n",
       "      <td>127122.0</td>\n",
       "    </tr>\n",
       "    <tr>\n",
       "      <th>3</th>\n",
       "      <td>17870_7_11.ERS725493_SC_contig000004</td>\n",
       "      <td>178059</td>\n",
       "      <td>NaN</td>\n",
       "    </tr>\n",
       "    <tr>\n",
       "      <th>4</th>\n",
       "      <td>17870_7_11.ERS725493_SC_contig000005</td>\n",
       "      <td>158966</td>\n",
       "      <td>NaN</td>\n",
       "    </tr>\n",
       "    <tr>\n",
       "      <th>...</th>\n",
       "      <td>...</td>\n",
       "      <td>...</td>\n",
       "      <td>...</td>\n",
       "    </tr>\n",
       "    <tr>\n",
       "      <th>2487</th>\n",
       "      <td>22027_1_155._SC_contig000049</td>\n",
       "      <td>421</td>\n",
       "      <td>NaN</td>\n",
       "    </tr>\n",
       "    <tr>\n",
       "      <th>2488</th>\n",
       "      <td>22027_1_155._SC_contig000050</td>\n",
       "      <td>399</td>\n",
       "      <td>NaN</td>\n",
       "    </tr>\n",
       "    <tr>\n",
       "      <th>2489</th>\n",
       "      <td>22027_1_155._SC_contig000051</td>\n",
       "      <td>378</td>\n",
       "      <td>NaN</td>\n",
       "    </tr>\n",
       "    <tr>\n",
       "      <th>2490</th>\n",
       "      <td>22027_1_155._SC_contig000052</td>\n",
       "      <td>373</td>\n",
       "      <td>NaN</td>\n",
       "    </tr>\n",
       "    <tr>\n",
       "      <th>2491</th>\n",
       "      <td>22027_1_155._SC_contig000053</td>\n",
       "      <td>306</td>\n",
       "      <td>NaN</td>\n",
       "    </tr>\n",
       "  </tbody>\n",
       "</table>\n",
       "<p>2492 rows × 3 columns</p>\n",
       "</div>"
      ],
      "text/plain": [
       "                                    Contig     Len  sum of seq lens in model\n",
       "0     17870_7_11.ERS725493_SC_contig000001  393383                       NaN\n",
       "1     17870_7_11.ERS725493_SC_contig000002  313001                       NaN\n",
       "2     17870_7_11.ERS725493_SC_contig000003  200830                  127122.0\n",
       "3     17870_7_11.ERS725493_SC_contig000004  178059                       NaN\n",
       "4     17870_7_11.ERS725493_SC_contig000005  158966                       NaN\n",
       "...                                    ...     ...                       ...\n",
       "2487          22027_1_155._SC_contig000049     421                       NaN\n",
       "2488          22027_1_155._SC_contig000050     399                       NaN\n",
       "2489          22027_1_155._SC_contig000051     378                       NaN\n",
       "2490          22027_1_155._SC_contig000052     373                       NaN\n",
       "2491          22027_1_155._SC_contig000053     306                       NaN\n",
       "\n",
       "[2492 rows x 3 columns]"
      ]
     },
     "execution_count": 22,
     "metadata": {},
     "output_type": "execute_result"
    }
   ],
   "source": [
    "df_cov"
   ]
  },
  {
   "cell_type": "code",
   "execution_count": 23,
   "id": "d3617a54-cfb4-4359-8b7b-193a4ad01c60",
   "metadata": {},
   "outputs": [
    {
     "data": {
      "text/plain": [
       "18426.59911717496"
      ]
     },
     "execution_count": 23,
     "metadata": {},
     "output_type": "execute_result"
    }
   ],
   "source": [
    "df_cov[\"Len\"].mean()"
   ]
  },
  {
   "cell_type": "markdown",
   "id": "4a9f9f73-b1b2-486c-ae91-a8153390e4fd",
   "metadata": {},
   "source": [
    "### Are incorporated contigs longer or shorter? Have more cds coverage or less?"
   ]
  },
  {
   "cell_type": "code",
   "execution_count": 29,
   "id": "a3419d62-ff2a-495c-b7da-95ceec363476",
   "metadata": {},
   "outputs": [
    {
     "data": {
      "text/plain": [
       "18426.59911717496"
      ]
     },
     "execution_count": 29,
     "metadata": {},
     "output_type": "execute_result"
    }
   ],
   "source": [
    "df_cov[\"Len\"].dropna().mean()"
   ]
  },
  {
   "cell_type": "code",
   "execution_count": 34,
   "id": "800832b4-adbf-4b02-8bd4-e5a9a14f8190",
   "metadata": {},
   "outputs": [
    {
     "data": {
      "text/plain": [
       "23498.693803159174"
      ]
     },
     "execution_count": 34,
     "metadata": {},
     "output_type": "execute_result"
    }
   ],
   "source": [
    "df_cov.dropna()[\"Len\"].mean()"
   ]
  },
  {
   "cell_type": "code",
   "execution_count": 27,
   "id": "3d82ac8e-06c8-4ed9-b96d-fa6a20eee4e4",
   "metadata": {},
   "outputs": [
    {
     "data": {
      "text/plain": [
       "18426.59911717496"
      ]
     },
     "execution_count": 27,
     "metadata": {},
     "output_type": "execute_result"
    }
   ],
   "source": [
    "df_lens.dropna()[\"Len\"].mean()"
   ]
  },
  {
   "cell_type": "code",
   "execution_count": null,
   "id": "da6d155a-f88e-4432-b293-aa5514e09005",
   "metadata": {},
   "outputs": [],
   "source": [
    "df_cov[\"sum of seq lens in model\"].value_counts()"
   ]
  },
  {
   "cell_type": "code",
   "execution_count": null,
   "id": "d200b6ef-d878-4eb7-875a-47956375edc7",
   "metadata": {},
   "outputs": [],
   "source": [
    "df_cov[]"
   ]
  },
  {
   "cell_type": "code",
   "execution_count": null,
   "id": "08bd693b-a507-4b7e-a218-e8ff9fddab47",
   "metadata": {},
   "outputs": [],
   "source": [
    "df_cov.loc[df_cov.index[df_cov[\"sum of seq lens in model\"].isna()], \"sum of seq lens in model\"] = 0\n",
    "df_cov[\"Coverage\"] = df_cov[\"sum of seq lens in model\"] / df_cov[\"Len\"]\n",
    "df_cov[\"Coverage\"] = df_cov[\"Coverage\"].apply(lambda x: 1 if x > 1 else x)\n",
    "df_cov[\"Genome\"] = df_cov[\"Contig\"].apply(lambda x: x.split(\".\")[0])\n",
    "df_cov"
   ]
  },
  {
   "cell_type": "code",
   "execution_count": null,
   "id": "dc9a98e5-b3f3-4993-9a9a-63ed8eeb564e",
   "metadata": {},
   "outputs": [],
   "source": [
    "df_cov[\"Coverage\"]."
   ]
  },
  {
   "cell_type": "code",
   "execution_count": null,
   "id": "f2703708-77a3-4fb2-8134-793c08f4bb1a",
   "metadata": {},
   "outputs": [],
   "source": [
    "df_cov_flt = df_cov[df_cov[\"Len\"] > 100]\n",
    "df_cov_flt"
   ]
  },
  {
   "cell_type": "code",
   "execution_count": null,
   "id": "17dfae96-7e84-4c3a-9710-94c74f2955f8",
   "metadata": {},
   "outputs": [],
   "source": [
    "df_genomes_cvg = df_cov.groupby(\"Genome\")[[\"Len\", \"sum of seq lens in model\"]].sum()"
   ]
  },
  {
   "cell_type": "code",
   "execution_count": null,
   "id": "22af5720-a0eb-42bc-8e69-8b6f137eb289",
   "metadata": {},
   "outputs": [],
   "source": [
    "df_genomes_cvg"
   ]
  },
  {
   "cell_type": "code",
   "execution_count": null,
   "id": "a7a113c8-bb06-49a7-8b39-25d0be8dce95",
   "metadata": {},
   "outputs": [],
   "source": [
    "df_genomes_cvg[\"Coverage\"] = df_genomes_cvg[\"sum of seq lens in model\"] / df_genomes_cvg[\"Len\"]\n",
    "df_genomes_cvg[\"Coverage\"] = df_genomes_cvg[\"Coverage\"].apply(lambda x: 1 if x > 1 else x)"
   ]
  },
  {
   "cell_type": "code",
   "execution_count": null,
   "id": "0cb50f3e-daec-4161-8e0a-aeaa8ac26f09",
   "metadata": {},
   "outputs": [],
   "source": [
    "df_genomes_cvg"
   ]
  },
  {
   "cell_type": "code",
   "execution_count": null,
   "id": "bc6f25f4-8b82-4200-ad06-a31a8b3988f8",
   "metadata": {},
   "outputs": [],
   "source": [
    "df_cov[\"Len rounded\"] = df_cov[\"Len\"].round(-2)"
   ]
  },
  {
   "cell_type": "code",
   "execution_count": null,
   "id": "f6926642-f7d4-4b18-b77f-040eb650169b",
   "metadata": {},
   "outputs": [],
   "source": [
    "df_cov"
   ]
  },
  {
   "cell_type": "code",
   "execution_count": null,
   "id": "06e27994-b877-45a0-9368-62463448cf5d",
   "metadata": {},
   "outputs": [],
   "source": [
    "df_cov[\"Len rounded\"] = df_cov[\"Len\"].round(-2)\n",
    "df_genomes_cvg[\"Mean scaff len\"] = df_cov.groupby([\"Genome\"])[[\"Len\"]].mean().round().astype(\"int\")\n",
    "df_genomes_cvg[\"Max scaff len\"] = df_cov.groupby([\"Genome\"])[[\"Len\"]].max().round()\n",
    "df_genomes_cvg[\"Median scaff len\"] = df_cov.groupby([\"Genome\"])[[\"Len\"]].median().round()\n",
    "df_genomes_cvg[\"No. of scaffs\"] = df_cov.groupby([\"Genome\"])[[\"Len\"]].count().round()\n",
    "\n",
    "# df_genomes_cvg[\"Median scaff len category\"] = df_cov[\"Len rounded\"].mode().round()\n",
    "df_genomes_cvg = df_genomes_cvg.sort_values(\"Coverage\", ascending=False)"
   ]
  },
  {
   "cell_type": "code",
   "execution_count": null,
   "id": "f2998072-ddc2-4c09-8822-14b54c085e02",
   "metadata": {},
   "outputs": [],
   "source": [
    "df_cov.groupby(\"Genome\")[[\"Len rounded\"]].agg(pd.Series.mode)"
   ]
  },
  {
   "cell_type": "code",
   "execution_count": null,
   "id": "585f0438-d890-4b19-a0f8-9d6e57a3036c",
   "metadata": {},
   "outputs": [],
   "source": [
    "df_genomes_cvg"
   ]
  },
  {
   "cell_type": "code",
   "execution_count": null,
   "id": "e7d59769-ed90-4fb3-aacd-44752bfc1b81",
   "metadata": {},
   "outputs": [],
   "source": [
    "df_genomes_cvg.index"
   ]
  },
  {
   "cell_type": "code",
   "execution_count": null,
   "id": "74a4fd79-9eef-42cc-8db6-a9e4c8507fcb",
   "metadata": {},
   "outputs": [],
   "source": [
    "genomes = df_cov[\"Genome\"].unique()"
   ]
  },
  {
   "cell_type": "code",
   "execution_count": null,
   "id": "5421beb3-2398-4c9d-84cf-ce8d9f755274",
   "metadata": {
    "scrolled": true
   },
   "outputs": [],
   "source": [
    "for genome in df_genomes_cvg.index:\n",
    "    df = df_cov[df_cov[\"Genome\"] == genome]\n",
    "    print(genome)\n",
    "    print(\"genome cvg: \" + str(df_genomes_cvg.at[genome,\"Coverage\"]))\n",
    "    print(df[\"Len rounded\"].value_counts().head(n=7))"
   ]
  },
  {
   "cell_type": "code",
   "execution_count": null,
   "id": "b7951428-592d-499b-9efa-2c1571990789",
   "metadata": {},
   "outputs": [],
   "source": [
    "df_genomes_cvg"
   ]
  },
  {
   "cell_type": "code",
   "execution_count": null,
   "id": "084c5ea8-ec83-4724-a9f0-98ef6e6b9191",
   "metadata": {},
   "outputs": [],
   "source": [
    "df_cov[\"Len\"].round(-4)"
   ]
  },
  {
   "cell_type": "code",
   "execution_count": null,
   "id": "d0b4ddee-680b-48b4-b13b-547c205d18e2",
   "metadata": {},
   "outputs": [],
   "source": [
    "df_genomes_cvg.to_csv(\"genome_cvg.csv\")\n",
    "df_cov_flt.to_csv(\"scaff_cvg.csv\")"
   ]
  },
  {
   "cell_type": "code",
   "execution_count": null,
   "id": "72e2dc9d-d22d-4019-996c-b2efc3d18469",
   "metadata": {},
   "outputs": [],
   "source": [
    "summaries_dir = \"/home/pampuch/studia/magisterka/final_summaries/\"\n",
    "\n",
    "cont_lens_dir = \"/home/pampuch/studia/magisterka/final_summaries/scaf_cover/contig_lens_in_model/\"\n",
    "scaff_lens = \"/home/pampuch/studia/magisterka/final_summaries/scaffols_lens\"\n",
    "cont_csv_name = \"scaff_cont_lens.csv\"\n",
    "all_lens_csv = \"scaf_lens.csv\"\n",
    "\n",
    "summaries_dir = \"/home/pampuch/studia/magisterka/final_summaries/scaf_cover/csv_summaries\"\n",
    "scaff_res_csv = \"scaff_cov_summary.csv\"\n",
    "genomes_res_csv = \"genomes_cov_summary.csv\"\n",
    "\n",
    "def summarise_dataset_coverages(dataset):\n",
    "    for model in os.listdir(cont_lens_dir):\n",
    "        print(model)\n",
    "        df_cont_lens = pd.read_csv(os.path.join(cont_lens_dir, model, dataset, cont_csv_name))\n",
    "\n",
    "            \n",
    "        df_lens = pd.read_csv(os.path.join(scaff_lens, dataset, all_lens_csv))\n",
    "        \n",
    "        if dataset == \"GPSC_subset\" and model != \"panaroo\":       \n",
    "            df_lens = pd.read_csv(os.path.join(scaff_lens, dataset, \"scaf_lens_without_velvet.csv\"))\n",
    "        # print(df_lens.head())\n",
    "        # print(df_cont_lens.head())\n",
    "        df_cov = df_lens.join(df_cont_lens.set_index(\"Contig\"), on=\"Contig\")\n",
    "        df_cov.loc[df_cov.index[df_cov[\"sum of seq lens in model\"].isna()], \"sum of seq lens in model\"] = 0\n",
    "        df_cov[\"Coverage\"] = df_cov[\"sum of seq lens in model\"] / df_cov[\"Len\"]\n",
    "        df_cov[\"Coverage\"] = df_cov[\"Coverage\"].apply(lambda x: 1 if x > 1 else x)\n",
    "        df_cov[\"Genome\"] = df_cov[\"Contig\"].apply(lambda x: x.split(\".\")[0])\n",
    "        \n",
    "        df_genomes_cvg = df_cov.groupby(\"Genome\")[[\"Len\", \"sum of seq lens in model\"]].sum()\n",
    "        df_genomes_cvg[\"Coverage\"] = df_genomes_cvg[\"sum of seq lens in model\"] / df_genomes_cvg[\"Len\"]\n",
    "        df_genomes_cvg[\"Coverage\"] = df_genomes_cvg[\"Coverage\"].apply(lambda x: 1 if x > 1 else x)\n",
    "\n",
    "        df_cov[\"Len rounded\"] = df_cov[\"Len\"].round(-2)\n",
    "        df_genomes_cvg[\"Mean scaff len\"] = df_cov.groupby([\"Genome\"])[[\"Len\"]].mean().round().astype(\"int\")\n",
    "        df_genomes_cvg[\"Max scaff len\"] = df_cov.groupby([\"Genome\"])[[\"Len\"]].max().round()\n",
    "        df_genomes_cvg[\"Median scaff len\"] = df_cov.groupby([\"Genome\"])[[\"Len\"]].median().round()\n",
    "        df_genomes_cvg[\"No. of scaffs\"] = df_cov.groupby([\"Genome\"])[[\"Len\"]].count().round()\n",
    "        \n",
    "        # df_genomes_cvg[\"Median scaff len category\"] = df_cov[\"Len rounded\"].mode().round()\n",
    "        df_genomes_cvg = df_genomes_cvg.sort_values(\"Coverage\", ascending=False)\n",
    "        print(df_genomes_cvg[\"Coverage\"].head())\n",
    "        df_cov.to_csv(os.path.join(summaries_dir, model, dataset, scaff_res_csv), index=False)\n",
    "        df_genomes_cvg.to_csv(os.path.join(summaries_dir, model, dataset, genomes_res_csv), index=False)\n",
    "summarise_dataset_coverages(\"klebsiella_subset\")"
   ]
  },
  {
   "cell_type": "code",
   "execution_count": null,
   "id": "7f60e309-ea06-4a37-9750-61e09a0a9c4b",
   "metadata": {},
   "outputs": [],
   "source": [
    "for dataset in os.listdir(scaff_lens):\n",
    "    if \".\" not in dataset:\n",
    "        summarise_dataset_coverages(dataset)"
   ]
  },
  {
   "cell_type": "code",
   "execution_count": null,
   "id": "ebd9cde7-b3bb-4659-ad4b-17ff3d74db08",
   "metadata": {},
   "outputs": [],
   "source": [
    "for dataset in os.listdir(scaff_lens):\n",
    "    if \".\" in dataset:\n",
    "        continue\n",
    "    print(dataset)\n",
    "    for model in os.listdir(cont_lens_dir):\n",
    "        if \".\" in model:\n",
    "            continue\n",
    "        print(model)\n",
    "        for f in os.listdir(os.path.join(summaries_dir, model, dataset)):\n",
    "\n",
    "            f_path = os.path.join(summaries_dir, model, dataset, f)\n",
    "            df = pd.read_csv(f_path)\n",
    "            print(dataset)\n",
    "            print(df[\"Coverage\"].mean())"
   ]
  },
  {
   "cell_type": "code",
   "execution_count": null,
   "id": "7e804639-6efc-4726-9ff1-649cdea0fa95",
   "metadata": {},
   "outputs": [],
   "source": [
    "def summarise_dataset_coverages(dataset):\n",
    "    for model in os.listdir(cont_lens_dir):\n",
    "        print(model)\n",
    "        df_cont_lens = pd.read_csv(os.path.join(cont_lens_dir, model, dataset, cont_csv_name))\n",
    "\n",
    "            \n",
    "        df_lens = pd.read_csv(os.path.join(scaff_lens, dataset, all_lens_csv))\n",
    "        df_cov = df_lens.join(df_cont_lens.set_index(\"Contig\"), on=\"Contig\")\n",
    "        if dataset == \"GPSC_subset\" and model != \"panaroo\":       \n",
    "            df_lens = pd.read_csv(os.path.join(scaff_lens, dataset, \"scaf_lens_without_velvet.csv\"))\n",
    "        print(df_lens.head())\n",
    "        print(df_cont_lens.head())\n",
    "        df_cov.loc[df_cov.index[df_cov[\"sum of seq lens in model\"].isna()], \"sum of seq lens in model\"] = 0\n",
    "        df_cov[\"Coverage\"] = df_cov[\"sum of seq lens in model\"] / df_cov[\"Len\"]\n",
    "        df_cov[\"Coverage\"] = df_cov[\"Coverage\"].apply(lambda x: 1 if x > 1 else x)\n",
    "        df_cov[\"Genome\"] = df_cov[\"Contig\"].apply(lambda x: x.split(\".\")[0])\n",
    "        \n",
    "        df_genomes_cvg = df_cov.groupby(\"Genome\")[[\"Len\", \"sum of seq lens in model\"]].sum()\n",
    "        df_genomes_cvg[\"Coverage\"] = df_genomes_cvg[\"sum of seq lens in model\"] / df_genomes_cvg[\"Len\"]\n",
    "        df_genomes_cvg[\"Coverage\"] = df_genomes_cvg[\"Coverage\"].apply(lambda x: 1 if x > 1 else x)\n",
    "\n",
    "        df_cov[\"Len rounded\"] = df_cov[\"Len\"].round(-2)\n",
    "        df_genomes_cvg[\"Mean scaff len\"] = df_cov.groupby([\"Genome\"])[[\"Len\"]].mean().round().astype(\"int\")\n",
    "        df_genomes_cvg[\"Max scaff len\"] = df_cov.groupby([\"Genome\"])[[\"Len\"]].max().round()\n",
    "        df_genomes_cvg[\"Median scaff len\"] = df_cov.groupby([\"Genome\"])[[\"Len\"]].median().round()\n",
    "        df_genomes_cvg[\"No. of scaffs\"] = df_cov.groupby([\"Genome\"])[[\"Len\"]].count().round()\n",
    "        \n",
    "        # df_genomes_cvg[\"Median scaff len category\"] = df_cov[\"Len rounded\"].mode().round()\n",
    "        df_genomes_cvg = df_genomes_cvg.sort_values(\"Coverage\", ascending=False)\n",
    "        print(df_genomes_cvg.head())\n",
    "        df_cov.to_csv(os.path.join(summaries_dir, model, dataset, scaff_res_csv), index=False)\n",
    "        df_genomes_cvg.to_csv(os.path.join(summaries_dir, model, dataset, genomes_res_csv), index=False)\n",
    "\n",
    "    return df_genomes_cvg, df_cov\n",
    "\n",
    "df_genomes, df_cov = summarise_dataset_coverages(\"GPSC_subset\")"
   ]
  },
  {
   "cell_type": "code",
   "execution_count": null,
   "id": "e6386099-643a-4897-8c7d-80c61daf2b42",
   "metadata": {},
   "outputs": [],
   "source": [
    "df_genomes"
   ]
  },
  {
   "cell_type": "code",
   "execution_count": 472,
   "id": "7dd54169-f94a-44b2-bea3-cd0e23409919",
   "metadata": {},
   "outputs": [
    {
     "data": {
      "text/html": [
       "<div>\n",
       "<style scoped>\n",
       "    .dataframe tbody tr th:only-of-type {\n",
       "        vertical-align: middle;\n",
       "    }\n",
       "\n",
       "    .dataframe tbody tr th {\n",
       "        vertical-align: top;\n",
       "    }\n",
       "\n",
       "    .dataframe thead th {\n",
       "        text-align: right;\n",
       "    }\n",
       "</style>\n",
       "<table border=\"1\" class=\"dataframe\">\n",
       "  <thead>\n",
       "    <tr style=\"text-align: right;\">\n",
       "      <th></th>\n",
       "      <th>Contig</th>\n",
       "      <th>Len</th>\n",
       "      <th>sum of seq lens in model</th>\n",
       "      <th>Coverage</th>\n",
       "      <th>Genome</th>\n",
       "      <th>Len rounded</th>\n",
       "    </tr>\n",
       "  </thead>\n",
       "  <tbody>\n",
       "    <tr>\n",
       "      <th>0</th>\n",
       "      <td>17870_7_11.ERS725493_SC_contig000001</td>\n",
       "      <td>393383</td>\n",
       "      <td>0.0</td>\n",
       "      <td>0.000000</td>\n",
       "      <td>17870_7_11</td>\n",
       "      <td>393400</td>\n",
       "    </tr>\n",
       "    <tr>\n",
       "      <th>1</th>\n",
       "      <td>17870_7_11.ERS725493_SC_contig000002</td>\n",
       "      <td>313001</td>\n",
       "      <td>0.0</td>\n",
       "      <td>0.000000</td>\n",
       "      <td>17870_7_11</td>\n",
       "      <td>313000</td>\n",
       "    </tr>\n",
       "    <tr>\n",
       "      <th>2</th>\n",
       "      <td>17870_7_11.ERS725493_SC_contig000003</td>\n",
       "      <td>200830</td>\n",
       "      <td>127122.0</td>\n",
       "      <td>0.632983</td>\n",
       "      <td>17870_7_11</td>\n",
       "      <td>200800</td>\n",
       "    </tr>\n",
       "    <tr>\n",
       "      <th>3</th>\n",
       "      <td>17870_7_11.ERS725493_SC_contig000004</td>\n",
       "      <td>178059</td>\n",
       "      <td>0.0</td>\n",
       "      <td>0.000000</td>\n",
       "      <td>17870_7_11</td>\n",
       "      <td>178100</td>\n",
       "    </tr>\n",
       "    <tr>\n",
       "      <th>4</th>\n",
       "      <td>17870_7_11.ERS725493_SC_contig000005</td>\n",
       "      <td>158966</td>\n",
       "      <td>0.0</td>\n",
       "      <td>0.000000</td>\n",
       "      <td>17870_7_11</td>\n",
       "      <td>159000</td>\n",
       "    </tr>\n",
       "    <tr>\n",
       "      <th>...</th>\n",
       "      <td>...</td>\n",
       "      <td>...</td>\n",
       "      <td>...</td>\n",
       "      <td>...</td>\n",
       "      <td>...</td>\n",
       "      <td>...</td>\n",
       "    </tr>\n",
       "    <tr>\n",
       "      <th>2487</th>\n",
       "      <td>22027_1_155._SC_contig000049</td>\n",
       "      <td>421</td>\n",
       "      <td>0.0</td>\n",
       "      <td>0.000000</td>\n",
       "      <td>22027_1_155</td>\n",
       "      <td>400</td>\n",
       "    </tr>\n",
       "    <tr>\n",
       "      <th>2488</th>\n",
       "      <td>22027_1_155._SC_contig000050</td>\n",
       "      <td>399</td>\n",
       "      <td>0.0</td>\n",
       "      <td>0.000000</td>\n",
       "      <td>22027_1_155</td>\n",
       "      <td>400</td>\n",
       "    </tr>\n",
       "    <tr>\n",
       "      <th>2489</th>\n",
       "      <td>22027_1_155._SC_contig000051</td>\n",
       "      <td>378</td>\n",
       "      <td>0.0</td>\n",
       "      <td>0.000000</td>\n",
       "      <td>22027_1_155</td>\n",
       "      <td>400</td>\n",
       "    </tr>\n",
       "    <tr>\n",
       "      <th>2490</th>\n",
       "      <td>22027_1_155._SC_contig000052</td>\n",
       "      <td>373</td>\n",
       "      <td>0.0</td>\n",
       "      <td>0.000000</td>\n",
       "      <td>22027_1_155</td>\n",
       "      <td>400</td>\n",
       "    </tr>\n",
       "    <tr>\n",
       "      <th>2491</th>\n",
       "      <td>22027_1_155._SC_contig000053</td>\n",
       "      <td>306</td>\n",
       "      <td>0.0</td>\n",
       "      <td>0.000000</td>\n",
       "      <td>22027_1_155</td>\n",
       "      <td>300</td>\n",
       "    </tr>\n",
       "  </tbody>\n",
       "</table>\n",
       "<p>2492 rows × 6 columns</p>\n",
       "</div>"
      ],
      "text/plain": [
       "                                    Contig     Len  sum of seq lens in model  \\\n",
       "0     17870_7_11.ERS725493_SC_contig000001  393383                       0.0   \n",
       "1     17870_7_11.ERS725493_SC_contig000002  313001                       0.0   \n",
       "2     17870_7_11.ERS725493_SC_contig000003  200830                  127122.0   \n",
       "3     17870_7_11.ERS725493_SC_contig000004  178059                       0.0   \n",
       "4     17870_7_11.ERS725493_SC_contig000005  158966                       0.0   \n",
       "...                                    ...     ...                       ...   \n",
       "2487          22027_1_155._SC_contig000049     421                       0.0   \n",
       "2488          22027_1_155._SC_contig000050     399                       0.0   \n",
       "2489          22027_1_155._SC_contig000051     378                       0.0   \n",
       "2490          22027_1_155._SC_contig000052     373                       0.0   \n",
       "2491          22027_1_155._SC_contig000053     306                       0.0   \n",
       "\n",
       "      Coverage       Genome  Len rounded  \n",
       "0     0.000000   17870_7_11       393400  \n",
       "1     0.000000   17870_7_11       313000  \n",
       "2     0.632983   17870_7_11       200800  \n",
       "3     0.000000   17870_7_11       178100  \n",
       "4     0.000000   17870_7_11       159000  \n",
       "...        ...          ...          ...  \n",
       "2487  0.000000  22027_1_155          400  \n",
       "2488  0.000000  22027_1_155          400  \n",
       "2489  0.000000  22027_1_155          400  \n",
       "2490  0.000000  22027_1_155          400  \n",
       "2491  0.000000  22027_1_155          300  \n",
       "\n",
       "[2492 rows x 6 columns]"
      ]
     },
     "execution_count": 472,
     "metadata": {},
     "output_type": "execute_result"
    }
   ],
   "source": [
    "df_cov"
   ]
  },
  {
   "cell_type": "code",
   "execution_count": 473,
   "id": "39d1f5c8-bed9-4197-8368-9b696d6df6bb",
   "metadata": {},
   "outputs": [],
   "source": [
    "dataset = \"GPSC_subset\""
   ]
  },
  {
   "cell_type": "markdown",
   "id": "8990845d-8d87-4db9-85ff-9d05a1077448",
   "metadata": {},
   "source": [
    "### Histogramy pokrycia\n",
    "\n",
    "Dla każdego datasetu po 3 (panaroo, cactus, panaroo uzupełnione)"
   ]
  },
  {
   "cell_type": "code",
   "execution_count": 474,
   "id": "997a91b7-2d8d-4b42-b781-c26b9d9f76a7",
   "metadata": {},
   "outputs": [
    {
     "name": "stdout",
     "output_type": "stream",
     "text": [
      "sim_gr_1e-11_lr_1e-12_mu_1e-15_rep1_fragmented\n",
      "panaroo\n",
      "sim_gr_1e-11_lr_1e-12_mu_1e-15_rep1_fragmented\n",
      "0.8077532581182215\n",
      "panaroo_compl\n",
      "sim_gr_1e-11_lr_1e-12_mu_1e-15_rep1_fragmented\n",
      "0.8933529395289652\n",
      "cactus\n",
      "sim_gr_1e-11_lr_1e-12_mu_1e-15_rep1_fragmented\n",
      "0.4143351453336534\n",
      "sim_gr_1e-11_lr_1e-12_mu_1e-15_rep1_contaminated\n",
      "panaroo\n",
      "sim_gr_1e-11_lr_1e-12_mu_1e-15_rep1_contaminated\n",
      "0.8352082416217825\n",
      "panaroo_compl\n",
      "sim_gr_1e-11_lr_1e-12_mu_1e-15_rep1_contaminated\n",
      "0.9254518536638848\n",
      "cactus\n",
      "sim_gr_1e-11_lr_1e-12_mu_1e-15_rep1_contaminated\n",
      "0.918336531375397\n",
      "klebsiella_subset\n",
      "panaroo\n",
      "klebsiella_subset\n",
      "0.8077184326242278\n",
      "panaroo_compl\n",
      "klebsiella_subset\n",
      "0.8826909023241116\n",
      "cactus\n",
      "klebsiella_subset\n",
      "0.21471684562243626\n",
      "sim_gr_1e-11_lr_1e-12_mu_1e-15_rep1\n",
      "panaroo\n",
      "sim_gr_1e-11_lr_1e-12_mu_1e-15_rep1\n",
      "0.8399943115283734\n",
      "panaroo_compl\n",
      "sim_gr_1e-11_lr_1e-12_mu_1e-15_rep1\n",
      "0.9317783176195775\n",
      "cactus\n",
      "sim_gr_1e-11_lr_1e-12_mu_1e-15_rep1\n",
      "0.933561279595239\n",
      "GPSC_subset\n",
      "panaroo\n",
      "GPSC_subset\n",
      "0.8399347252731039\n",
      "panaroo_compl\n",
      "GPSC_subset\n",
      "0.9863808790089046\n",
      "cactus\n",
      "GPSC_subset\n",
      "0.3565252311069585\n"
     ]
    }
   ],
   "source": [
    "cvg_dict = {}\n",
    "for dataset in os.listdir(scaff_lens):\n",
    "    \n",
    "    if \".\" in dataset:\n",
    "        continue\n",
    "    print(dataset)\n",
    "    dataset_name = datasets_mapping(dataset)\n",
    "    cvg_dict[dataset_name] = {}\n",
    "    for model in os.listdir(cont_lens_dir):\n",
    "        if \".\" in model:\n",
    "            continue\n",
    "        print(model)\n",
    "        \n",
    "        for f in os.listdir(os.path.join(summaries_dir, model, dataset)):\n",
    "            if not f.startswith(\"genome\"):\n",
    "                continue\n",
    "            f_path = os.path.join(summaries_dir, model, dataset, f)\n",
    "            df = pd.read_csv(f_path)\n",
    "            print(dataset)\n",
    "            print(df[\"Coverage\"].mean())\n",
    "            cvg_dict[dataset_name][model] = df[\"Coverage\"].to_numpy()\n",
    "\n"
   ]
  },
  {
   "cell_type": "code",
   "execution_count": 475,
   "id": "48ebf3f2-ffe0-4e91-ac0a-0f87561aeb38",
   "metadata": {},
   "outputs": [
    {
     "data": {
      "text/plain": [
       "{'E. coli fragmented': {'panaroo': array([0.81354092, 0.81344093, 0.81317215, 0.8131504 , 0.81303037,\n",
       "         0.81299042, 0.81264891, 0.81242372, 0.81237359, 0.81205469,\n",
       "         0.81177167, 0.81164127, 0.81117368, 0.81114186, 0.81086985,\n",
       "         0.81064177, 0.81053274, 0.81044742, 0.81042634, 0.81034855,\n",
       "         0.8103262 , 0.81018974, 0.81006385, 0.80999034, 0.80984311,\n",
       "         0.80964578, 0.80940754, 0.80930019, 0.80923272, 0.80917736,\n",
       "         0.80909927, 0.80889333, 0.80884504, 0.80877677, 0.80872956,\n",
       "         0.80862967, 0.80849321, 0.80831666, 0.80829865, 0.80819252,\n",
       "         0.80794727, 0.80776469, 0.80768714, 0.80763059, 0.80755736,\n",
       "         0.80746707, 0.80741122, 0.80738895, 0.80738795, 0.80730478,\n",
       "         0.8072517 , 0.8072327 , 0.80717157, 0.80716204, 0.80715762,\n",
       "         0.8071441 , 0.80700897, 0.80696281, 0.80696134, 0.80694407,\n",
       "         0.8069277 , 0.80688654, 0.80682972, 0.80675068, 0.80670828,\n",
       "         0.80669807, 0.80665533, 0.80659268, 0.80657999, 0.80645786,\n",
       "         0.80643693, 0.80630318, 0.80624119, 0.80620405, 0.80619809,\n",
       "         0.80595766, 0.8059085 , 0.80585024, 0.80579045, 0.80574909,\n",
       "         0.80572007, 0.80565851, 0.80559776, 0.80526273, 0.80495892,\n",
       "         0.80474572, 0.80468515, 0.80463486, 0.8046285 , 0.8045388 ,\n",
       "         0.80432875, 0.80388754, 0.80347601, 0.8033711 , 0.80293731,\n",
       "         0.80290948, 0.80255844, 0.80227993, 0.8022069 , 0.80139637]),\n",
       "  'panaroo_compl': array([0.90553889, 0.90525393, 0.9029059 , 0.90282788, 0.90263669,\n",
       "         0.90244944, 0.90157814, 0.90101177, 0.90083777, 0.90082994,\n",
       "         0.89952242, 0.89920934, 0.89854901, 0.8980796 , 0.89790013,\n",
       "         0.8978965 , 0.89753352, 0.89732942, 0.897269  , 0.89658949,\n",
       "         0.89652723, 0.89630698, 0.89614633, 0.8960349 , 0.89564137,\n",
       "         0.89516252, 0.89514978, 0.89503326, 0.89502176, 0.89496638,\n",
       "         0.89488913, 0.89472985, 0.89471526, 0.89466426, 0.89460351,\n",
       "         0.89447501, 0.89443305, 0.89424583, 0.89412529, 0.89412088,\n",
       "         0.89404731, 0.89402878, 0.89396472, 0.89373701, 0.89373461,\n",
       "         0.89372011, 0.89367714, 0.89367193, 0.89361336, 0.89351894,\n",
       "         0.8934471 , 0.89321141, 0.89293282, 0.89282738, 0.89273247,\n",
       "         0.89268674, 0.89259529, 0.89205869, 0.89194877, 0.89182211,\n",
       "         0.89169764, 0.89163307, 0.89150044, 0.89143636, 0.8914247 ,\n",
       "         0.89124278, 0.89121632, 0.89116623, 0.89105145, 0.89091354,\n",
       "         0.89090526, 0.89087327, 0.89074664, 0.89065513, 0.89047005,\n",
       "         0.89008137, 0.88994923, 0.88977251, 0.88974645, 0.88945863,\n",
       "         0.88927628, 0.88917146, 0.88877775, 0.88876037, 0.8885863 ,\n",
       "         0.88845446, 0.88844463, 0.88821793, 0.88783611, 0.88764648,\n",
       "         0.88762103, 0.88726838, 0.88724075, 0.88717409, 0.88688796,\n",
       "         0.88688007, 0.88686891, 0.88610731, 0.8842783 , 0.88313628]),\n",
       "  'cactus': array([1.        , 0.46310424, 0.4606078 , 0.45634368, 0.44918939,\n",
       "         0.44829325, 0.44754953, 0.4461228 , 0.44402781, 0.4435689 ,\n",
       "         0.44295643, 0.4420904 , 0.44161759, 0.43923303, 0.43917848,\n",
       "         0.43670809, 0.43587099, 0.43370487, 0.43331127, 0.43313238,\n",
       "         0.43252764, 0.43123781, 0.43068278, 0.42817471, 0.42791227,\n",
       "         0.42669123, 0.42568249, 0.42501541, 0.42406572, 0.42391186,\n",
       "         0.423517  , 0.42344296, 0.42322492, 0.42277258, 0.42109987,\n",
       "         0.41807354, 0.41764375, 0.417152  , 0.41694238, 0.41566184,\n",
       "         0.41542602, 0.41539791, 0.41499589, 0.41480532, 0.41366047,\n",
       "         0.41326685, 0.41198632, 0.41149659, 0.41141916, 0.40938568,\n",
       "         0.40924037, 0.40903246, 0.40733601, 0.40629808, 0.40570409,\n",
       "         0.40564342, 0.40556394, 0.40535222, 0.40494764, 0.40389288,\n",
       "         0.40268858, 0.40234186, 0.40199627, 0.40123682, 0.40091935,\n",
       "         0.40031396, 0.39931348, 0.39796754, 0.39717467, 0.39598141,\n",
       "         0.39543217, 0.39133984, 0.39094747, 0.39069506, 0.39014235,\n",
       "         0.38981632, 0.38955557, 0.38927718, 0.38660933, 0.38618036,\n",
       "         0.38566645, 0.38541449, 0.38522967, 0.38466402, 0.38455289,\n",
       "         0.38444735, 0.38316753, 0.38296447, 0.38141361, 0.38025664,\n",
       "         0.37638426, 0.36358991, 0.36270395, 0.36116437, 0.36084813,\n",
       "         0.36049477, 0.35896614, 0.35205756, 0.34836208, 0.34434167])},\n",
       " 'E. coli contaminated': {'panaroo': array([0.8406139 , 0.84038117, 0.83923918, 0.8388055 , 0.8388041 ,\n",
       "         0.83873608, 0.83872701, 0.83854764, 0.8384924 , 0.83847324,\n",
       "         0.83846021, 0.83841936, 0.83839768, 0.83837602, 0.83837526,\n",
       "         0.83837124, 0.83835187, 0.83830385, 0.83822162, 0.838004  ,\n",
       "         0.83793742, 0.83792963, 0.83774645, 0.83771295, 0.83765324,\n",
       "         0.83760797, 0.83751764, 0.8374378 , 0.83738732, 0.83734572,\n",
       "         0.83731606, 0.83714359, 0.83696297, 0.83694898, 0.83692099,\n",
       "         0.83680721, 0.83678299, 0.83653222, 0.83653043, 0.83646826,\n",
       "         0.83640854, 0.83633564, 0.83630801, 0.83618636, 0.8360016 ,\n",
       "         0.83597768, 0.83595764, 0.8359179 , 0.83589375, 0.83581379,\n",
       "         0.8357365 , 0.83568083, 0.83567372, 0.83566822, 0.83555164,\n",
       "         0.83545816, 0.8353866 , 0.83537433, 0.83524847, 0.83523524,\n",
       "         0.8352234 , 0.83516891, 0.83512537, 0.83508535, 0.8347541 ,\n",
       "         0.83470641, 0.83469372, 0.83464289, 0.83460912, 0.83434481,\n",
       "         0.83412734, 0.83405981, 0.83393849, 0.83386614, 0.8337574 ,\n",
       "         0.83340042, 0.83323177, 0.83309949, 0.83267041, 0.83252177,\n",
       "         0.83252065, 0.83237871, 0.83236451, 0.8322007 , 0.83206589,\n",
       "         0.83160521, 0.83147365, 0.83085387, 0.83082711, 0.83064114,\n",
       "         0.83059758, 0.8301977 , 0.82978759, 0.82950296, 0.82906304,\n",
       "         0.82888865, 0.82836815, 0.8267725 , 0.82671438, 0.82636728]),\n",
       "  'panaroo_compl': array([0.9370408 , 0.93667618, 0.93425614, 0.93391629, 0.93360664,\n",
       "         0.93332215, 0.93309449, 0.93287414, 0.93254336, 0.93134585,\n",
       "         0.93126633, 0.93123576, 0.93109525, 0.93072051, 0.93048376,\n",
       "         0.93040789, 0.93026944, 0.93008454, 0.93003529, 0.92996976,\n",
       "         0.92945799, 0.92935944, 0.92894939, 0.9288589 , 0.92885064,\n",
       "         0.92868843, 0.92860284, 0.92850253, 0.92807667, 0.92793738,\n",
       "         0.92786727, 0.92750858, 0.9272636 , 0.92696852, 0.92684   ,\n",
       "         0.92677578, 0.92673278, 0.9267183 , 0.92634406, 0.92601959,\n",
       "         0.92597232, 0.92587743, 0.92586152, 0.92572734, 0.92567301,\n",
       "         0.92561755, 0.92557719, 0.92552729, 0.92549609, 0.92547418,\n",
       "         0.92542173, 0.9254074 , 0.92523888, 0.92517918, 0.92506158,\n",
       "         0.92492122, 0.92491419, 0.92465609, 0.924607  , 0.92460353,\n",
       "         0.9241651 , 0.92407345, 0.92405622, 0.92404541, 0.92382036,\n",
       "         0.92375321, 0.92361824, 0.9231481 , 0.92295668, 0.92288299,\n",
       "         0.92283909, 0.92281404, 0.92279135, 0.92266528, 0.9226417 ,\n",
       "         0.92260007, 0.92246973, 0.92230155, 0.92185733, 0.92176495,\n",
       "         0.92146526, 0.92120112, 0.92115063, 0.92114096, 0.92111063,\n",
       "         0.92110655, 0.9208986 , 0.92085338, 0.92049674, 0.92038076,\n",
       "         0.92004118, 0.91997717, 0.9179307 , 0.9174533 , 0.91739885,\n",
       "         0.91625093, 0.91506606, 0.91490793, 0.91393182, 0.91377596]),\n",
       "  'cactus': array([1.        , 0.96124969, 0.9595665 , 0.95733422, 0.95317294,\n",
       "         0.95217865, 0.95170884, 0.95109764, 0.94967856, 0.9471172 ,\n",
       "         0.94339389, 0.94331862, 0.94299736, 0.94155711, 0.94124667,\n",
       "         0.94072446, 0.9394923 , 0.93924778, 0.93924339, 0.9379643 ,\n",
       "         0.93763211, 0.93746062, 0.93734286, 0.93684694, 0.93652647,\n",
       "         0.93636614, 0.93597119, 0.93563031, 0.93557897, 0.93541496,\n",
       "         0.93526232, 0.9337106 , 0.93369218, 0.93291752, 0.9328016 ,\n",
       "         0.93276645, 0.9327358 , 0.93166391, 0.93088009, 0.93056359,\n",
       "         0.92976109, 0.92970465, 0.92956612, 0.92937191, 0.92914155,\n",
       "         0.92859839, 0.92850367, 0.92841273, 0.92790215, 0.92738167,\n",
       "         0.92710461, 0.92667053, 0.9265284 , 0.92646451, 0.92629164,\n",
       "         0.92622658, 0.92523768, 0.92408859, 0.92404805, 0.92384168,\n",
       "         0.92333931, 0.92328062, 0.92323763, 0.92307019, 0.92181657,\n",
       "         0.92174414, 0.92082114, 0.91929266, 0.91885125, 0.9185568 ,\n",
       "         0.91854983, 0.9184447 , 0.91779694, 0.91633797, 0.9151478 ,\n",
       "         0.91439442, 0.91378343, 0.91331473, 0.91072771, 0.90877987,\n",
       "         0.89680023, 0.89436503, 0.89291703, 0.87973277, 0.87849532,\n",
       "         0.87492137, 0.87465327, 0.8736719 , 0.87352173, 0.8680589 ,\n",
       "         0.86390978, 0.86334141, 0.86063756, 0.85529318, 0.85363614,\n",
       "         0.85339383, 0.85192679, 0.84857826, 0.79378549, 0.79182446])},\n",
       " 'Klebsiella': {'panaroo': array([0.8685307 , 0.84936818, 0.84550124, 0.84361289, 0.84357147,\n",
       "         0.83986581, 0.83641048, 0.83628137, 0.83489248, 0.81556882,\n",
       "         0.80934367, 0.80379075, 0.80354555, 0.78378783, 0.78217781,\n",
       "         0.77812633, 0.77752575, 0.75856892, 0.73973614, 0.70416246]),\n",
       "  'panaroo_compl': array([0.95287292, 0.93623113, 0.93391274, 0.92812203, 0.9248578 ,\n",
       "         0.92253236, 0.91674238, 0.91642501, 0.91203641, 0.90515736,\n",
       "         0.89112667, 0.87567692, 0.86964749, 0.85641851, 0.84815231,\n",
       "         0.84508578, 0.84198573, 0.81765294, 0.79929165, 0.75988989]),\n",
       "  'cactus': array([1.        , 0.50069371, 0.45578484, 0.437804  , 0.43323277,\n",
       "         0.41321934, 0.40032211, 0.20527538, 0.15588689, 0.04325982,\n",
       "         0.03627255, 0.03552785, 0.03046615, 0.02779572, 0.02739349,\n",
       "         0.02555339, 0.0234644 , 0.02206802, 0.01285131, 0.00746515])},\n",
       " 'E. coli': {'panaroo': array([0.84286302, 0.84266044, 0.8425705 , 0.84253802, 0.84244486,\n",
       "         0.84226895, 0.84181158, 0.84162387, 0.84160139, 0.84159572,\n",
       "         0.84158722, 0.84141321, 0.84135028, 0.84124469, 0.84121943,\n",
       "         0.84119963, 0.84112207, 0.8410632 , 0.84101193, 0.84100098,\n",
       "         0.84098939, 0.84092157, 0.84089599, 0.84089399, 0.84088859,\n",
       "         0.84085805, 0.84084056, 0.8407854 , 0.84076678, 0.84069959,\n",
       "         0.8406981 , 0.84068238, 0.84063087, 0.84058564, 0.84054114,\n",
       "         0.84053293, 0.84047705, 0.84044803, 0.84042971, 0.84042282,\n",
       "         0.8404026 , 0.840301  , 0.84016499, 0.84015539, 0.84009945,\n",
       "         0.84008585, 0.8400515 , 0.8400512 , 0.83998548, 0.83994572,\n",
       "         0.83992369, 0.83988093, 0.83987332, 0.83985197, 0.83983014,\n",
       "         0.83981819, 0.83980173, 0.83973807, 0.83969048, 0.83967965,\n",
       "         0.83966635, 0.83960091, 0.83958785, 0.83958509, 0.8395602 ,\n",
       "         0.83955763, 0.83953607, 0.83951421, 0.83948148, 0.83946575,\n",
       "         0.83942498, 0.83931021, 0.83920728, 0.83919809, 0.8391697 ,\n",
       "         0.8391343 , 0.83906294, 0.83902936, 0.83890449, 0.83887284,\n",
       "         0.83886852, 0.8388662 , 0.83868092, 0.8386556 , 0.83861668,\n",
       "         0.83855178, 0.83849539, 0.83845145, 0.83845114, 0.83833245,\n",
       "         0.83828611, 0.83818489, 0.83817343, 0.83806486, 0.83805875,\n",
       "         0.83803992, 0.83798687, 0.83776953, 0.83742079, 0.8370952 ]),\n",
       "  'panaroo_compl': array([0.94000493, 0.93991894, 0.93964412, 0.93927255, 0.93916688,\n",
       "         0.93879253, 0.93846205, 0.93841607, 0.93825401, 0.93784896,\n",
       "         0.93769869, 0.93695217, 0.93657038, 0.93626417, 0.93500432,\n",
       "         0.93478329, 0.93477726, 0.93446357, 0.93436054, 0.93419965,\n",
       "         0.93410365, 0.93402831, 0.93395825, 0.93389643, 0.93356226,\n",
       "         0.93343821, 0.93335636, 0.93314841, 0.93305507, 0.93301525,\n",
       "         0.93298984, 0.93265897, 0.93254372, 0.93252455, 0.93248902,\n",
       "         0.9324144 , 0.9323974 , 0.93237728, 0.93232242, 0.93231539,\n",
       "         0.93216512, 0.93215274, 0.93213751, 0.93209516, 0.93206622,\n",
       "         0.93205574, 0.93183807, 0.93175489, 0.93168223, 0.93167093,\n",
       "         0.93136035, 0.93135209, 0.93125887, 0.93123331, 0.93121873,\n",
       "         0.93111255, 0.93107526, 0.93106136, 0.93098944, 0.9308063 ,\n",
       "         0.93078893, 0.93052859, 0.93052858, 0.93049773, 0.93028516,\n",
       "         0.92965528, 0.92953829, 0.92944362, 0.92940441, 0.92936032,\n",
       "         0.92934069, 0.929159  , 0.92911799, 0.9290711 , 0.9290549 ,\n",
       "         0.92903176, 0.92891573, 0.92891253, 0.92871856, 0.92871401,\n",
       "         0.92859392, 0.92857665, 0.92857405, 0.92855303, 0.92850069,\n",
       "         0.92849793, 0.92836094, 0.9282994 , 0.92823536, 0.92823136,\n",
       "         0.92811565, 0.92804265, 0.92776459, 0.92776146, 0.92720169,\n",
       "         0.92618535, 0.92608389, 0.92573431, 0.92542773, 0.92448679]),\n",
       "  'cactus': array([1.        , 0.98720729, 0.95935941, 0.95907975, 0.95826531,\n",
       "         0.95339485, 0.9533502 , 0.95230039, 0.95170398, 0.95149925,\n",
       "         0.9513767 , 0.94959418, 0.94952997, 0.94913524, 0.9460349 ,\n",
       "         0.94576429, 0.94459198, 0.94408427, 0.94378956, 0.94375313,\n",
       "         0.94297779, 0.94278805, 0.94260977, 0.94194085, 0.94145762,\n",
       "         0.94144954, 0.94120193, 0.94115829, 0.94089756, 0.94025552,\n",
       "         0.93941605, 0.93930304, 0.9391661 , 0.93911985, 0.93889896,\n",
       "         0.93883645, 0.93823643, 0.93776412, 0.93752024, 0.93725592,\n",
       "         0.93712598, 0.93657028, 0.93624771, 0.93601622, 0.93568047,\n",
       "         0.93540058, 0.93515941, 0.93484283, 0.93471786, 0.93426102,\n",
       "         0.93377823, 0.93338822, 0.93307624, 0.93190626, 0.93158361,\n",
       "         0.93134524, 0.93129495, 0.93063256, 0.93043378, 0.92941251,\n",
       "         0.92933751, 0.92914219, 0.92898885, 0.92890642, 0.92890495,\n",
       "         0.92888375, 0.92877045, 0.92860396, 0.92850902, 0.92848479,\n",
       "         0.92843581, 0.92829403, 0.9281839 , 0.92799692, 0.92799067,\n",
       "         0.92791021, 0.92588308, 0.92509225, 0.92473627, 0.92469669,\n",
       "         0.9245621 , 0.9243268 , 0.92418442, 0.92416669, 0.92415893,\n",
       "         0.92394785, 0.92190439, 0.92119042, 0.91947525, 0.91817723,\n",
       "         0.91792199, 0.91659237, 0.90985841, 0.90872225, 0.90834284,\n",
       "         0.90808795, 0.90678373, 0.90527587, 0.86092309, 0.86083098])},\n",
       " 'Pneumococcus': {'panaroo': array([0.86228113, 0.86097293, 0.8602984 , 0.85909116, 0.85807294,\n",
       "         0.85763713, 0.8568319 , 0.8559527 , 0.85542999, 0.85482707,\n",
       "         0.85391543, 0.85350058, 0.85299206, 0.85199097, 0.84697668,\n",
       "         0.84576299, 0.80750235, 0.78826863, 0.78702163, 0.72936784]),\n",
       "  'panaroo_compl': array([1.        , 1.        , 1.        , 1.        , 1.        ,\n",
       "         1.        , 1.        , 1.        , 1.        , 1.        ,\n",
       "         1.        , 1.        , 1.        , 1.        , 1.        ,\n",
       "         1.        , 1.        , 0.93179193, 0.91264071, 0.88318494]),\n",
       "  'cactus': array([0.99978233, 0.56912386, 0.43165751, 0.40842002, 0.40563448,\n",
       "         0.3985273 , 0.37768152, 0.35670029, 0.35365861, 0.3482408 ,\n",
       "         0.31655162, 0.30585782, 0.3041534 , 0.28092884, 0.26448858,\n",
       "         0.26199886, 0.2287044 , 0.21674304, 0.20131862, 0.10033272])}}"
      ]
     },
     "execution_count": 475,
     "metadata": {},
     "output_type": "execute_result"
    }
   ],
   "source": [
    "cvg_dict"
   ]
  },
  {
   "cell_type": "code",
   "execution_count": 476,
   "id": "e09e0d81-d733-45a5-8315-022c33b8ef5e",
   "metadata": {},
   "outputs": [],
   "source": [
    "datasets = []\n",
    "model_names = set()\n",
    "for dataset, models in cvg_dict.items():\n",
    "    datasets.append(dataset)\n",
    "    for model, cvg in models.items():\n",
    "        model_names.add(model)\n",
    "datasets = sorted(datasets)        "
   ]
  },
  {
   "cell_type": "code",
   "execution_count": 477,
   "id": "1038e843-1825-46e8-a7ea-e45c39d44d1b",
   "metadata": {},
   "outputs": [
    {
     "data": {
      "text/plain": [
       "['E. coli',\n",
       " 'E. coli contaminated',\n",
       " 'E. coli fragmented',\n",
       " 'Klebsiella',\n",
       " 'Pneumococcus']"
      ]
     },
     "execution_count": 477,
     "metadata": {},
     "output_type": "execute_result"
    }
   ],
   "source": [
    "datasets"
   ]
  },
  {
   "cell_type": "code",
   "execution_count": 478,
   "id": "079b1c5b-1e25-4f11-9228-31612949f212",
   "metadata": {},
   "outputs": [
    {
     "data": {
      "text/plain": [
       "{'cactus', 'panaroo', 'panaroo_compl'}"
      ]
     },
     "execution_count": 478,
     "metadata": {},
     "output_type": "execute_result"
    }
   ],
   "source": [
    "model_names"
   ]
  },
  {
   "cell_type": "code",
   "execution_count": 479,
   "id": "2dd01dd3-b4b3-4e6e-b167-f5202b3d7d28",
   "metadata": {},
   "outputs": [],
   "source": [
    "model_names = [\"panaroo\",\"panaroo_compl\",\"cactus\"]\n"
   ]
  },
  {
   "cell_type": "code",
   "execution_count": 480,
   "id": "d9bf3446-c56e-4d67-a3d4-126c9bb3a2c3",
   "metadata": {},
   "outputs": [],
   "source": [
    "dataset = \"Klebsiella\""
   ]
  },
  {
   "cell_type": "code",
   "execution_count": 481,
   "id": "deb4a387-27d8-4151-86b1-6092c5b545c7",
   "metadata": {},
   "outputs": [
    {
     "data": {
      "image/png": "[encoded data removed]",
      "text/plain": [
       "<Figure size 1500x500 with 3 Axes>"
      ]
     },
     "metadata": {},
     "output_type": "display_data"
    }
   ],
   "source": [
    "dataset = \"Klebsiella\"\n",
    "model_name_mapping = {\"panaroo\" : \"Panaroo\",\"panaroo_compl\" : \"Panaroo z uzupełnieniem\",\"cactus\": \"Cactus\"}\n",
    "hists_dir = \"/home/pampuch/studia/magisterka/final_summaries/scaf_cover/hists/\"\n",
    "fig, axes = plt.subplots(1,3,figsize=(15, 5))\n",
    "# fig.s\n",
    "for k in range(3):\n",
    "    model = model_names[k]\n",
    "    i = k % 2\n",
    "    j = k % 3\n",
    "    # sns.histplot(cvg_dict[dataset][model], ax=axes[k], bins=50, binwidth = 530000*0.01)\n",
    "    # print(len(cvg_dict[dataset][model]))\n",
    "    # print()\n",
    "    sns.histplot(cvg_dict[dataset][model], ax=axes[k], binwidth=0.05*1)\n",
    "    axes[k].set_title(model_name_mapping[model], fontsize=15)\n",
    "    axes[k].set_xlabel(\"Pokrycie genomu\", fontsize=13)\n",
    "    axes[k].set_ylabel(\"Częstość\", fontsize=13)\n",
    "    axes[k].set(xlim=(0,1))\n",
    "    axes[k].set(ylim=(0,18))\n",
    "fig.suptitle(f\"Rozkład pokrycia genomów w modelach dla {dataset}\", fontsize=16)\n",
    "\n",
    "# plt.show()\n",
    "fig.tight_layout()\n",
    "\n",
    "# axes[2, 1].axis(\"off\")\n",
    "dataset_name = dataset.replace(\" \",\"_\")\n",
    "plt.savefig(f\"{hists_dir}/{dataset_name}_genomes_csv.png\")\n",
    "plt.savefig(f\"{hists_dir}/{dataset_name}_genomes_csv.svg\")"
   ]
  },
  {
   "cell_type": "code",
   "execution_count": 482,
   "id": "d9ecae74-760c-453c-9ebf-166aec15f2a5",
   "metadata": {},
   "outputs": [
    {
     "data": {
      "image/png": "[encoded data removed]",
      "text/plain": [
       "<Figure size 1500x500 with 3 Axes>"
      ]
     },
     "metadata": {},
     "output_type": "display_data"
    }
   ],
   "source": [
    "dataset = \"Pneumococcus\"\n",
    "model_name_mapping = {\"panaroo\" : \"Panaroo\",\"panaroo_compl\" : \"Panaroo z uzupełnieniem\",\"cactus\": \"Cactus\"}\n",
    "hists_dir = \"/home/pampuch/studia/magisterka/final_summaries/scaf_cover/hists/\"\n",
    "fig, axes = plt.subplots(1,3,figsize=(15, 5))\n",
    "# fig.s\n",
    "for k in range(3):\n",
    "    model = model_names[k]\n",
    "    i = k % 2\n",
    "    j = k % 3\n",
    "    # sns.histplot(cvg_dict[dataset][model], ax=axes[k], bins=50, binwidth = 530000*0.01)\n",
    "    # print(len(cvg_dict[dataset][model]))\n",
    "    # print()\n",
    "    sns.histplot(cvg_dict[dataset][model], ax=axes[k], binwidth=0.05*1)\n",
    "    axes[k].set_title(model_name_mapping[model], fontsize=15)\n",
    "    axes[k].set_xlabel(\"Pokrycie genomu\", fontsize=13)\n",
    "    axes[k].set_ylabel(\"Częstość\", fontsize=13)\n",
    "    axes[k].set(xlim=(0,1))\n",
    "    axes[k].set(ylim=(0,18))\n",
    "fig.suptitle(f\"Rozkład pokrycia genomów w modelach dla {dataset}\", fontsize=16)\n",
    "\n",
    "# plt.show()\n",
    "fig.tight_layout()\n",
    "\n",
    "# axes[2, 1].axis(\"off\")\n",
    "dataset_name = dataset.replace(\" \",\"_\")\n",
    "plt.savefig(f\"{hists_dir}/{dataset_name}_genomes_csv.png\")\n",
    "plt.savefig(f\"{hists_dir}/{dataset_name}_genomes_csv.svg\")"
   ]
  },
  {
   "cell_type": "code",
   "execution_count": 483,
   "id": "568a2020-7389-44ad-b99a-493e149cf4e1",
   "metadata": {},
   "outputs": [
    {
     "name": "stdout",
     "output_type": "stream",
     "text": [
      "panaroo\n",
      "panaroo_compl\n",
      "cactus\n"
     ]
    },
    {
     "data": {
      "image/png": "[encoded data removed]",
      "text/plain": [
       "<Figure size 1500x500 with 3 Axes>"
      ]
     },
     "metadata": {},
     "output_type": "display_data"
    }
   ],
   "source": [
    "dataset = \"E. coli\"\n",
    "model_name_mapping = {\"panaroo\" : \"Panaroo\",\"panaroo_compl\" : \"Panaroo z uzupełnieniem\",\"cactus\": \"Cactus\"}\n",
    "hists_dir = \"/home/pampuch/studia/magisterka/final_summaries/scaf_cover/hists/\"\n",
    "fig, axes = plt.subplots(1,3,figsize=(15, 5))\n",
    "# fig.s\n",
    "for k in range(3):\n",
    "    model = model_names[k]\n",
    "    print(model)\n",
    "    i = k % 2\n",
    "    j = k % 3\n",
    "    # sns.histplot(cvg_dict[dataset][model], ax=axes[k], bins=50, binwidth = 530000*0.01)\n",
    "    # print(len(cvg_dict[dataset][model]))\n",
    "    # print(cvg_dict[dataset][model])\n",
    "    sns.histplot(cvg_dict[dataset][model], ax=axes[k], binwidth=0.01)\n",
    "    axes[k].set_title(model_name_mapping[model], fontsize=15)\n",
    "    axes[k].set_xlabel(\"Pokrycie genomu\", fontsize=13)\n",
    "    axes[k].set_ylabel(\"Częstość\", fontsize=13)\n",
    "    axes[k].set(xlim=(0,1))\n",
    "    axes[k].set(ylim=(0,110))\n",
    "fig.suptitle(f\"Rozkład pokrycia genomów w modelach dla {dataset}\", fontsize=16)\n",
    "\n",
    "# plt.show()\n",
    "fig.tight_layout()\n",
    "\n",
    "# axes[2, 1].axis(\"off\")\n",
    "dataset_name = dataset.replace(\" \",\"_\")\n",
    "plt.savefig(f\"{hists_dir}/{dataset_name}_genomes_csv.png\")\n",
    "plt.savefig(f\"{hists_dir}/{dataset_name}_genomes_csv.svg\")"
   ]
  },
  {
   "cell_type": "code",
   "execution_count": 484,
   "id": "308412ff-6b10-4273-a301-a42048d699b1",
   "metadata": {},
   "outputs": [
    {
     "name": "stdout",
     "output_type": "stream",
     "text": [
      "panaroo\n",
      "panaroo_compl\n",
      "cactus\n"
     ]
    },
    {
     "data": {
      "image/png": "[encoded data removed]",
      "text/plain": [
       "<Figure size 1500x500 with 3 Axes>"
      ]
     },
     "metadata": {},
     "output_type": "display_data"
    }
   ],
   "source": [
    "dataset = \"E. coli fragmented\"\n",
    "model_name_mapping = {\"panaroo\" : \"Panaroo\",\"panaroo_compl\" : \"Panaroo z uzupełnieniem\",\"cactus\": \"Cactus\"}\n",
    "hists_dir = \"/home/pampuch/studia/magisterka/final_summaries/scaf_cover/hists/\"\n",
    "fig, axes = plt.subplots(1,3,figsize=(15, 5))\n",
    "# fig.s\n",
    "for k in range(3):\n",
    "    model = model_names[k]\n",
    "    print(model)\n",
    "    i = k % 2\n",
    "    j = k % 3\n",
    "    # sns.histplot(cvg_dict[dataset][model], ax=axes[k], bins=50, binwidth = 530000*0.01)\n",
    "    # print(len(cvg_dict[dataset][model]))\n",
    "    # print(cvg_dict[dataset][model])\n",
    "    sns.histplot(cvg_dict[dataset][model], ax=axes[k], binwidth=0.01)\n",
    "    axes[k].set_title(model_name_mapping[model], fontsize=15)\n",
    "    axes[k].set_xlabel(\"Pokrycie genomu\", fontsize=13)\n",
    "    axes[k].set_ylabel(\"Częstość\", fontsize=13)\n",
    "    axes[k].set(xlim=(0,1))\n",
    "    axes[k].set(ylim=(0,110))\n",
    "fig.suptitle(f\"Rozkład pokrycia genomów w modelach dla {dataset}\", fontsize=16)\n",
    "\n",
    "# plt.show()\n",
    "fig.tight_layout()\n",
    "\n",
    "# axes[2, 1].axis(\"off\")\n",
    "dataset_name = dataset.replace(\" \",\"_\")\n",
    "plt.savefig(f\"{hists_dir}/{dataset_name}_genomes_csv.png\")\n",
    "plt.savefig(f\"{hists_dir}/{dataset_name}_genomes_csv.svg\")"
   ]
  },
  {
   "cell_type": "code",
   "execution_count": 485,
   "id": "3567cedf-b888-4e3e-a4a2-a2e73a676782",
   "metadata": {},
   "outputs": [
    {
     "name": "stdout",
     "output_type": "stream",
     "text": [
      "panaroo\n",
      "panaroo_compl\n",
      "cactus\n"
     ]
    },
    {
     "data": {
      "image/png": "[encoded data removed]",
      "text/plain": [
       "<Figure size 1500x500 with 3 Axes>"
      ]
     },
     "metadata": {},
     "output_type": "display_data"
    }
   ],
   "source": [
    "dataset = \"E. coli contaminated\"\n",
    "model_name_mapping = {\"panaroo\" : \"Panaroo\",\"panaroo_compl\" : \"Panaroo z uzupełnieniem\",\"cactus\": \"Cactus\"}\n",
    "hists_dir = \"/home/pampuch/studia/magisterka/final_summaries/scaf_cover/hists/\"\n",
    "fig, axes = plt.subplots(1,3,figsize=(15, 5))\n",
    "# fig.s\n",
    "for k in range(3):\n",
    "    model = model_names[k]\n",
    "    print(model)\n",
    "    i = k % 2\n",
    "    j = k % 3\n",
    "    # sns.histplot(cvg_dict[dataset][model], ax=axes[k], bins=50, binwidth = 530000*0.01)\n",
    "    # print(len(cvg_dict[dataset][model]))\n",
    "    # print(cvg_dict[dataset][model])\n",
    "    sns.histplot(cvg_dict[dataset][model], ax=axes[k], binwidth=0.01)\n",
    "    axes[k].set_title(model_name_mapping[model], fontsize=15)\n",
    "    axes[k].set_xlabel(\"Pokrycie genomu\", fontsize=13)\n",
    "    axes[k].set_ylabel(\"Częstość\", fontsize=13)\n",
    "    axes[k].set(xlim=(0,1))\n",
    "    axes[k].set(ylim=(0,110))\n",
    "fig.suptitle(f\"Rozkład pokrycia genomów w modelach dla {dataset}\", fontsize=16)\n",
    "\n",
    "# plt.show()\n",
    "fig.tight_layout()\n",
    "\n",
    "# axes[2, 1].axis(\"off\")\n",
    "dataset_name = dataset.replace(\" \",\"_\")\n",
    "plt.savefig(f\"{hists_dir}/{dataset_name}_genomes_csv.png\")\n",
    "plt.savefig(f\"{hists_dir}/{dataset_name}_genomes_csv.svg\")"
   ]
  }
 ],
 "metadata": {
  "kernelspec": {
   "display_name": "Python 3 (ipykernel)",
   "language": "python",
   "name": "python3"
  },
  "language_info": {
   "codemirror_mode": {
    "name": "ipython",
    "version": 3
   },
   "file_extension": ".py",
   "mimetype": "text/x-python",
   "name": "python",
   "nbconvert_exporter": "python",
   "pygments_lexer": "ipython3",
   "version": "3.10.12"
  }
 },
 "nbformat": 4,
 "nbformat_minor": 5
}
