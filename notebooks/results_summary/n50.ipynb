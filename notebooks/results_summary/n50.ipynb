{
 "cells": [
  {
   "cell_type": "code",
   "execution_count": 2,
   "id": "7cd91e33-e820-4257-b94f-e5e642a0810f",
   "metadata": {},
   "outputs": [],
   "source": [
    "l = [1,2,2,2,2,2,4,6,]"
   ]
  },
  {
   "cell_type": "code",
   "execution_count": 4,
   "id": "8a33ed28-c5fe-4df3-be30-b55513b2864c",
   "metadata": {},
   "outputs": [],
   "source": [
    "l = [2,3,4,5,6,7,8,9, 10]"
   ]
  },
  {
   "cell_type": "code",
   "execution_count": 5,
   "id": "0f24fb00-1064-4fd3-9901-bf2e10eb5dbe",
   "metadata": {},
   "outputs": [],
   "source": [
    "point_val = sum(l)/2"
   ]
  },
  {
   "cell_type": "code",
   "execution_count": 6,
   "id": "64cefb7b-d078-4ed3-88cd-51b824eee7a5",
   "metadata": {},
   "outputs": [
    {
     "data": {
      "text/plain": [
       "27.0"
      ]
     },
     "execution_count": 6,
     "metadata": {},
     "output_type": "execute_result"
    }
   ],
   "source": [
    "point_val"
   ]
  },
  {
   "cell_type": "code",
   "execution_count": 10,
   "id": "fa253879-cccd-4072-8ce8-28bce07887a1",
   "metadata": {},
   "outputs": [
    {
     "data": {
      "text/plain": [
       "8"
      ]
     },
     "execution_count": 10,
     "metadata": {},
     "output_type": "execute_result"
    }
   ],
   "source": [
    "val = 0\n",
    "n50 = None\n",
    "l_rev = l[::-1]\n",
    "while val < sum(l)/2:\n",
    "    val += l_rev[i]\n",
    "    if val >= point_val:\n",
    "        n50 = l_rev[i]\n",
    "\n",
    "n50"
   ]
  },
  {
   "cell_type": "code",
   "execution_count": 15,
   "id": "348b0727-44fe-474d-ab1c-3ab4e2bf3f5d",
   "metadata": {},
   "outputs": [
    {
     "name": "stdout",
     "output_type": "stream",
     "text": [
      "[1, 1, 53]\n"
     ]
    },
    {
     "data": {
      "text/plain": [
       "53"
      ]
     },
     "execution_count": 15,
     "metadata": {},
     "output_type": "execute_result"
    }
   ],
   "source": [
    "def n50(cont_lens):\n",
    "    cont_lens.sort()\n",
    "    print(cont_lens)\n",
    "    n50 = None\n",
    "    lens_rev = cont_lens[::-1]\n",
    "    sum_lens = 0\n",
    "    half_sum = sum(cont_lens) / 2\n",
    "    i = 0\n",
    "    while sum_lens < half_sum:\n",
    "        sum_lens += lens_rev[i]\n",
    "        n50 = lens_rev[i]\n",
    "        i += 1\n",
    "    return n50\n",
    "\n",
    "n50([1,53,1])"
   ]
  },
  {
   "cell_type": "code",
   "execution_count": 13,
   "id": "230492ba-8475-4411-92c4-cebd1fa65a68",
   "metadata": {},
   "outputs": [
    {
     "data": {
      "text/plain": [
       "54"
      ]
     },
     "execution_count": 13,
     "metadata": {},
     "output_type": "execute_result"
    }
   ],
   "source": [
    "n50([2,30,2,2,2,2,2,54])"
   ]
  },
  {
   "cell_type": "code",
   "execution_count": 12,
   "id": "83886932-71d1-4513-a145-24941e55d825",
   "metadata": {},
   "outputs": [
    {
     "data": {
      "text/plain": [
       "30"
      ]
     },
     "execution_count": 12,
     "metadata": {},
     "output_type": "execute_result"
    }
   ],
   "source": [
    "n50([2,30,30,60,2,2,2,2,2])"
   ]
  }
 ],
 "metadata": {
  "kernelspec": {
   "display_name": "Python 3 (ipykernel)",
   "language": "python",
   "name": "python3"
  },
  "language_info": {
   "codemirror_mode": {
    "name": "ipython",
    "version": 3
   },
   "file_extension": ".py",
   "mimetype": "text/x-python",
   "name": "python",
   "nbconvert_exporter": "python",
   "pygments_lexer": "ipython3",
   "version": "3.10.12"
  }
 },
 "nbformat": 4,
 "nbformat_minor": 5
}
