{
 "cells": [
  {
   "cell_type": "code",
   "execution_count": 4,
   "id": "5fbab5d3-f8da-426b-b9a7-9d5ed8721ca4",
   "metadata": {},
   "outputs": [],
   "source": [
    "import pandas as pd\n",
    "import os\n",
    "from pgtools import gff_parser, maf_parser"
   ]
  },
  {
   "cell_type": "code",
   "execution_count": 8,
   "id": "cd6e3659-ee14-4560-a6b5-055d4ac5f929",
   "metadata": {},
   "outputs": [],
   "source": [
    "data_dir = \"/home/pampuch/studia/magisterka/test_data/klebsiella_subset_old/\"\n",
    "maf_dir = os.path.join(data_dir, \"cactus.maf\")\n",
    "gffs_dir = os.path.join(data_dir, \"gff\")"
   ]
  },
  {
   "cell_type": "markdown",
   "id": "aeb83ecf-b6be-44ab-8fd0-4acb66db021c",
   "metadata": {},
   "source": [
    "### Using bedttools substract output\n",
    "\n",
    "1. Substract full_scaffolds and model you want to check coverage for\n",
    "2. cvg: sum of lens in full contigs gff - sum of lens in substract out / sum of lens in full contigs gff"
   ]
  },
  {
   "cell_type": "code",
   "execution_count": 1,
   "id": "7453e7cf-ed75-492a-84d9-29cad322ed0f",
   "metadata": {},
   "outputs": [],
   "source": [
    "gff_dir = \"/home/pampuch/studia/magisterka/final_summaries/substract.gff\""
   ]
  },
  {
   "cell_type": "code",
   "execution_count": 2,
   "id": "097932c3-f808-4ea5-b714-da6264538ff8",
   "metadata": {},
   "outputs": [],
   "source": [
    "def get_cds_sum_aggregate_lens(gff):\n",
    "    # cds_lens = {}\n",
    "    cds_lens = 0\n",
    "    gff = gff_parser.parse_joined_gff(gff)\n",
    "    for cds in gff:\n",
    "        cds_len = cds.end - cds.start + 1\n",
    "        cds_lens += cds_len\n",
    "        # if cds.seq_name in cds_lens:\n",
    "        #     if cds.annotation_id in cds_lens[cds.seq_name]:\n",
    "        #         cds_lens[cds.seq_name][cds.annotation_id] += cds_len\n",
    "        #     else:\n",
    "        #         cds_lens[cds.seq_name][cds.annotation_id] = cds_len\n",
    "        # else:\n",
    "        #     cds_lens[cds.seq_name] = {cds.annotation_id : cds_len}\n",
    "    return cds_lens"
   ]
  },
  {
   "cell_type": "code",
   "execution_count": 5,
   "id": "c909335e-d808-43b3-8f0a-16b17bab1faa",
   "metadata": {},
   "outputs": [],
   "source": [
    "sum_not_present_lens = get_cds_sum_aggregate_lens(gff_dir)"
   ]
  },
  {
   "cell_type": "code",
   "execution_count": 6,
   "id": "1623a70f-7550-41f7-b7f2-371de8338b5b",
   "metadata": {},
   "outputs": [
    {
     "data": {
      "text/plain": [
       "3234700"
      ]
     },
     "execution_count": 6,
     "metadata": {},
     "output_type": "execute_result"
    }
   ],
   "source": [
    "sum_not_present_lens"
   ]
  },
  {
   "cell_type": "code",
   "execution_count": 12,
   "id": "9effd5e4-70b0-4823-aad4-cbb85e49cc7a",
   "metadata": {},
   "outputs": [],
   "source": [
    "inter_gff = \"scaff_inter_model.gff\"\n",
    "full_gff = \"full.gff\"\n",
    "gffs_dir = \"/home/pampuch/studia/magisterka/final_summaries/gffs/model_cvg\"\n",
    "genome_full_lens = {}\n",
    "for dataset in os.listdir(os.path.join(gffs_dir, \"full_scaffolds\")):\n",
    "    genome_full_lens[dataset] = get_cds_sum_aggregate_lens(os.path.join(gffs_dir, \"full_scaffolds\", dataset, full_gff))"
   ]
  },
  {
   "cell_type": "code",
   "execution_count": 13,
   "id": "fbd5ac55-cd22-4379-a992-ae3584a9dddd",
   "metadata": {},
   "outputs": [
    {
     "data": {
      "text/plain": [
       "45647946"
      ]
     },
     "execution_count": 13,
     "metadata": {},
     "output_type": "execute_result"
    }
   ],
   "source": [
    "genome_full_lens[\"GPSC_subset\"]"
   ]
  },
  {
   "cell_type": "code",
   "execution_count": 16,
   "id": "7b898279-ceaf-4676-8fa7-9f39df3ff4fc",
   "metadata": {},
   "outputs": [
    {
     "data": {
      "text/plain": [
       "0.929138104045251"
      ]
     },
     "execution_count": 16,
     "metadata": {},
     "output_type": "execute_result"
    }
   ],
   "source": [
    "(genome_full_lens[\"GPSC_subset\"] - sum_not_present_lens)/ genome_full_lens[\"GPSC_subset\"]"
   ]
  },
  {
   "cell_type": "code",
   "execution_count": 23,
   "id": "2aab3346-6891-41f4-a560-dfcc184c2bd2",
   "metadata": {},
   "outputs": [],
   "source": [
    "cactus_dir = \"/home/pampuch/studia/magisterka/final_summaries/gffs/full_sub_sub_cactus\"\n",
    "full_dir = \"/home/pampuch/studia/magisterka/final_summaries/gffs/full_scaffolds/\""
   ]
  },
  {
   "cell_type": "code",
   "execution_count": 24,
   "id": "f9a9899c-b6e8-4ce1-90b3-61b527536dd0",
   "metadata": {},
   "outputs": [
    {
     "data": {
      "text/plain": [
       "0.21505028592800488"
      ]
     },
     "execution_count": 24,
     "metadata": {},
     "output_type": "execute_result"
    }
   ],
   "source": [
    "dataset = \"klebsiella_subset\"\n",
    "model_gff = os.path.join(cactus_dir, dataset, \"model_clean.gff\")\n",
    "full_gff = os.path.join(full_dir, dataset, \"full.gff\")\n",
    "\n",
    "get_cds_sum_aggregate_lens(model_gff) / get_cds_sum_aggregate_lens(full_gff)"
   ]
  },
  {
   "cell_type": "code",
   "execution_count": 42,
   "id": "49a6a1eb-4e63-4126-b420-d632327d1d2d",
   "metadata": {},
   "outputs": [
    {
     "data": {
      "text/plain": [
       "0.808933061171146"
      ]
     },
     "execution_count": 42,
     "metadata": {},
     "output_type": "execute_result"
    }
   ],
   "source": [
    "clean_dir = \"/home/pampuch/studia/magisterka/final_summaries/gffs/clean_model_gffs/\"\n",
    "inter_dir = \"/home/pampuch/studia/magisterka/final_summaries/gffs/models_intersections/\"\n",
    "dataset = \"klebsiella_subset\"\n",
    "model_gff = os.path.join(clean_dir, \"panaroo\", dataset, \"clean.gff\")\n",
    "full_gff = os.path.join(full_dir, dataset, \"full.gff\")\n",
    "\n",
    "get_cds_sum_aggregate_lens(model_gff) / get_cds_sum_aggregate_lens(full_gff)"
   ]
  },
  {
   "cell_type": "code",
   "execution_count": 28,
   "id": "a7aa818b-997e-496c-8b54-ccf3f6d044ea",
   "metadata": {},
   "outputs": [
    {
     "name": "stdout",
     "output_type": "stream",
     "text": [
      "sim_gr_1e-11_lr_1e-12_mu_1e-15_rep1_fragmented\n",
      "sim_gr_1e-11_lr_1e-12_mu_1e-15_rep1_contaminated\n",
      "klebsiella_subset\n",
      "sim_gr_1e-11_lr_1e-12_mu_1e-15_rep1\n",
      "GPSC_subset\n"
     ]
    }
   ],
   "source": [
    "for dir in os.listdir(os.path.join(full_dir)):\n",
    "    print(dir)"
   ]
  },
  {
   "cell_type": "code",
   "execution_count": 45,
   "id": "a6ef0731-21b3-47b3-943b-78b5087a27a2",
   "metadata": {},
   "outputs": [],
   "source": [
    "def datasets_mapping(x):\n",
    "    if x.startswith(\"sim\"):\n",
    "        x= x.replace(\"sim_gr_1e-11_lr_1e-12_mu_1e-15_rep1\", \"E. coli \")\n",
    "    else:\n",
    "        x= x.replace(\"_subset\", \"\")\n",
    "        x= x.replace(\"GPSC\", \"Pneumococcus\")\n",
    "        x = x.replace(\"klebsiella\", \"Klebsiella\")\n",
    "    return x.strip().replace(\"_\",\"\")"
   ]
  },
  {
   "cell_type": "code",
   "execution_count": 32,
   "id": "5208f05d-b680-4a52-956e-f61b97cf8b0b",
   "metadata": {},
   "outputs": [
    {
     "data": {
      "text/plain": [
       "'Panaroo'"
      ]
     },
     "execution_count": 32,
     "metadata": {},
     "output_type": "execute_result"
    }
   ],
   "source": [
    "def model_map(x):\n",
    "    map_dict = {\"panaroo\":\"Panaroo\", \"progressive\" : \"Progressive-C.\", \"cactus\": \"Minigraph-C.\"}\n",
    "    return map_dict[x]\n",
    "model_map(\"panaroo\")"
   ]
  },
  {
   "cell_type": "code",
   "execution_count": 48,
   "id": "abd72c51-159d-4742-8b2a-695a5dd0b3bb",
   "metadata": {},
   "outputs": [],
   "source": [
    "columns = [\"Dataset\", \"Liczba pozycji w danych wejściowych\", \"Liczba pozycji w modelu Panaroo\", \"Liczba pozycji w modelu Minigraph-C.\", \"Liczba pozycji w modelu Progressive-C.\", \"Liczba pozycji występujących zarówno w Panaroo i Minigraph-C.\",\"Liczba pozycji występujących zarówno w Panaroo i Progressive-C.\"]"
   ]
  },
  {
   "cell_type": "code",
   "execution_count": 44,
   "id": "87f02eef-c200-42ab-8749-3dc20ea6da47",
   "metadata": {},
   "outputs": [
    {
     "name": "stdout",
     "output_type": "stream",
     "text": [
      "panaroo\n",
      "cactus\n",
      "progressive\n",
      "panaroo\n",
      "cactus\n",
      "progressive\n",
      "panaroo\n",
      "cactus\n",
      "progressive\n",
      "panaroo\n",
      "cactus\n",
      "progressive\n",
      "panaroo\n",
      "cactus\n",
      "progressive\n"
     ]
    },
    {
     "data": {
      "text/plain": [
       "{'sim_gr_1e-11_lr_1e-12_mu_1e-15_rep1_fragmented': [347041411,\n",
       "  281922719,\n",
       "  143492759,\n",
       "  333856098,\n",
       "  115536907,\n",
       "  274203513],\n",
       " 'sim_gr_1e-11_lr_1e-12_mu_1e-15_rep1_contaminated': [348677091,\n",
       "  290618642,\n",
       "  320243952,\n",
       "  'X',\n",
       "  269177229,\n",
       "  'X'],\n",
       " 'klebsiella_subset': [117114971,\n",
       "  94738172,\n",
       "  25185608,\n",
       "  96114588,\n",
       "  20343729,\n",
       "  82450108],\n",
       " 'sim_gr_1e-11_lr_1e-12_mu_1e-15_rep1': [346957477,\n",
       "  290782037,\n",
       "  323942286,\n",
       "  'X',\n",
       "  272634861,\n",
       "  'X'],\n",
       " 'GPSC_subset': [45647946, 38159317, 16438469, 38725326, 13854782, 33156674]}"
      ]
     },
     "execution_count": 44,
     "metadata": {},
     "output_type": "execute_result"
    }
   ],
   "source": [
    "res_dict = {}\n",
    "for dataset in os.listdir(os.path.join(full_dir)):\n",
    "    res_dict[dataset] = []\n",
    "    res_dict[dataset].append(get_cds_sum_aggregate_lens(os.path.join(full_dir, dataset, \"full.gff\")))\n",
    "    for model in [\"panaroo\", \"cactus\", \"progressive\"]:\n",
    "        print(model)\n",
    "        if model == \"progressive\" and (dataset.endswith(\"rep1\") or dataset.endswith(\"contaminated\")):\n",
    "            res_dict[dataset].append(\"X\")\n",
    "        else:\n",
    "            res_dict[dataset].append(get_cds_sum_aggregate_lens(os.path.join(clean_dir, model, dataset, \"clean.gff\")))\n",
    "    res_dict[dataset].append(get_cds_sum_aggregate_lens(os.path.join(inter_dir, \"cactus_inter_panaroo\", dataset, \"inter.gff\")))\n",
    "    if model == \"progressive\" and (dataset.endswith(\"rep1\") or dataset.endswith(\"contaminated\")):\n",
    "        res_dict[dataset].append(\"X\")\n",
    "    else:\n",
    "        res_dict[dataset].append(get_cds_sum_aggregate_lens(os.path.join(inter_dir, \"progressive_inter_panaroo\", dataset, \"inter.gff\")))\n",
    "\n",
    "res_dict\n"
   ]
  },
  {
   "cell_type": "code",
   "execution_count": 46,
   "id": "51beb086-c831-4d28-a7d6-5d4763a5b723",
   "metadata": {},
   "outputs": [],
   "source": [
    "rows = []\n",
    "for k, v in res_dict.items():\n",
    "    rows.append([datasets_mapping(k)] + v)"
   ]
  },
  {
   "cell_type": "code",
   "execution_count": 49,
   "id": "99e14a56-4669-4d1a-876e-633eee23d956",
   "metadata": {},
   "outputs": [],
   "source": [
    "df = pd.DataFrame(columns = columns, data = rows)"
   ]
  },
  {
   "cell_type": "code",
   "execution_count": 51,
   "id": "8a386751-cfee-43fd-ad38-bb2e5c832f5e",
   "metadata": {},
   "outputs": [],
   "source": [
    "df = df.sort_values(by=\"Dataset\")"
   ]
  },
  {
   "cell_type": "code",
   "execution_count": 52,
   "id": "50f70d40-2749-4078-a5c2-9db35f2c4677",
   "metadata": {},
   "outputs": [
    {
     "data": {
      "text/html": [
       "<div>\n",
       "<style scoped>\n",
       "    .dataframe tbody tr th:only-of-type {\n",
       "        vertical-align: middle;\n",
       "    }\n",
       "\n",
       "    .dataframe tbody tr th {\n",
       "        vertical-align: top;\n",
       "    }\n",
       "\n",
       "    .dataframe thead th {\n",
       "        text-align: right;\n",
       "    }\n",
       "</style>\n",
       "<table border=\"1\" class=\"dataframe\">\n",
       "  <thead>\n",
       "    <tr style=\"text-align: right;\">\n",
       "      <th></th>\n",
       "      <th>Dataset</th>\n",
       "      <th>Liczba pozycji w danych wejściowych</th>\n",
       "      <th>Liczba pozycji w modelu Panaroo</th>\n",
       "      <th>Liczba pozycji w modelu Minigraph-C.</th>\n",
       "      <th>Liczba pozycji w modelu Progressive-C.</th>\n",
       "      <th>Liczba pozycji występujących zarówno w Panaroo i Minigraph-C.</th>\n",
       "      <th>Liczba pozycji występujących zarówno w Panaroo i Progressive-C.</th>\n",
       "    </tr>\n",
       "  </thead>\n",
       "  <tbody>\n",
       "    <tr>\n",
       "      <th>3</th>\n",
       "      <td>E. coli</td>\n",
       "      <td>346957477</td>\n",
       "      <td>290782037</td>\n",
       "      <td>323942286</td>\n",
       "      <td>X</td>\n",
       "      <td>272634861</td>\n",
       "      <td>X</td>\n",
       "    </tr>\n",
       "    <tr>\n",
       "      <th>1</th>\n",
       "      <td>E. coli contaminated</td>\n",
       "      <td>348677091</td>\n",
       "      <td>290618642</td>\n",
       "      <td>320243952</td>\n",
       "      <td>X</td>\n",
       "      <td>269177229</td>\n",
       "      <td>X</td>\n",
       "    </tr>\n",
       "    <tr>\n",
       "      <th>0</th>\n",
       "      <td>E. coli fragmented</td>\n",
       "      <td>347041411</td>\n",
       "      <td>281922719</td>\n",
       "      <td>143492759</td>\n",
       "      <td>333856098</td>\n",
       "      <td>115536907</td>\n",
       "      <td>274203513</td>\n",
       "    </tr>\n",
       "    <tr>\n",
       "      <th>2</th>\n",
       "      <td>Klebsiella</td>\n",
       "      <td>117114971</td>\n",
       "      <td>94738172</td>\n",
       "      <td>25185608</td>\n",
       "      <td>96114588</td>\n",
       "      <td>20343729</td>\n",
       "      <td>82450108</td>\n",
       "    </tr>\n",
       "    <tr>\n",
       "      <th>4</th>\n",
       "      <td>Pneumococcus</td>\n",
       "      <td>45647946</td>\n",
       "      <td>38159317</td>\n",
       "      <td>16438469</td>\n",
       "      <td>38725326</td>\n",
       "      <td>13854782</td>\n",
       "      <td>33156674</td>\n",
       "    </tr>\n",
       "  </tbody>\n",
       "</table>\n",
       "</div>"
      ],
      "text/plain": [
       "                Dataset  Liczba pozycji w danych wejściowych  \\\n",
       "3               E. coli                            346957477   \n",
       "1  E. coli contaminated                            348677091   \n",
       "0    E. coli fragmented                            347041411   \n",
       "2            Klebsiella                            117114971   \n",
       "4          Pneumococcus                             45647946   \n",
       "\n",
       "   Liczba pozycji w modelu Panaroo  Liczba pozycji w modelu Minigraph-C.  \\\n",
       "3                        290782037                             323942286   \n",
       "1                        290618642                             320243952   \n",
       "0                        281922719                             143492759   \n",
       "2                         94738172                              25185608   \n",
       "4                         38159317                              16438469   \n",
       "\n",
       "  Liczba pozycji w modelu Progressive-C.  \\\n",
       "3                                      X   \n",
       "1                                      X   \n",
       "0                              333856098   \n",
       "2                               96114588   \n",
       "4                               38725326   \n",
       "\n",
       "   Liczba pozycji występujących zarówno w Panaroo i Minigraph-C.  \\\n",
       "3                                          272634861               \n",
       "1                                          269177229               \n",
       "0                                          115536907               \n",
       "2                                           20343729               \n",
       "4                                           13854782               \n",
       "\n",
       "  Liczba pozycji występujących zarówno w Panaroo i Progressive-C.  \n",
       "3                                                  X               \n",
       "1                                                  X               \n",
       "0                                          274203513               \n",
       "2                                           82450108               \n",
       "4                                           33156674               "
      ]
     },
     "execution_count": 52,
     "metadata": {},
     "output_type": "execute_result"
    }
   ],
   "source": [
    "df"
   ]
  },
  {
   "cell_type": "markdown",
   "id": "55305ca1-2031-4515-b822-faaf8c503f92",
   "metadata": {},
   "source": [
    "### Modify\n",
    "1. Add panaroo joined\n",
    "2. Dataset, "
   ]
  },
  {
   "cell_type": "code",
   "execution_count": 53,
   "id": "3444a53d-29d7-4de9-bbfb-906a4b73b24e",
   "metadata": {},
   "outputs": [],
   "source": [
    "df.to_csv(\"/home/pampuch/studia/magisterka/final_summaries/pozycje_wspólne.csv\", index=False)"
   ]
  },
  {
   "cell_type": "code",
   "execution_count": 34,
   "id": "2f9d59d5-6af7-416f-ab55-20b5249a60ef",
   "metadata": {},
   "outputs": [
    {
     "name": "stdout",
     "output_type": "stream",
     "text": [
      "maf_comp_trimmed\n",
      "core_stats.csv\n",
      "boxplots\n",
      "annots_summaries\n",
      "gfa_vs_maf_res_new\n",
      "block_stats_hists_new\n",
      "klebsiella_subset_trp\n",
      "panaroo_compl\n",
      "struct_triplets\n",
      "com_basic.csv\n",
      "klebsiella_subset_trp.tar.gz\n",
      "gfa_vs_maf_summary.csv\n",
      "stats.csv\n",
      "bedtools_core\n",
      "scaf_cover\n",
      "core_summaries_old\n",
      "core_summaries_new\n",
      "annots_summaries.tar.gz\n",
      "basic_dataset_stats.csv\n",
      "gffs\n",
      "substract.gff\n",
      "genomes_cvg.csv\n",
      "blocks_basic_stats_new\n",
      "core_new.csv\n",
      "scaffols_lens\n",
      "com_trick.csv\n",
      "gffs_old\n"
     ]
    }
   ],
   "source": [
    "for model in os.listdir(inter_dir):\n",
    "    print(model)"
   ]
  },
  {
   "cell_type": "code",
   "execution_count": 4,
   "id": "f9f68aeb-20a4-46be-b865-aeae2934e69c",
   "metadata": {},
   "outputs": [],
   "source": [
    "# gffs = gff_parser.parse_GFFs_dir(gffs_dir, gff_simple=False)"
   ]
  },
  {
   "cell_type": "code",
   "execution_count": 5,
   "id": "a6dfb09f-0bb3-4235-93e6-bfd9dacd4c6a",
   "metadata": {},
   "outputs": [],
   "source": [
    "# def all_scaffs_to_gff(gffs, out_file):\n",
    "#     res_gff = open(out_file, \"w\")\n",
    "#     # gff_all = gff_parser.parse_GFFs_dir(gffs, gff_simple=False)\n",
    "#     for genome, gff in gffs.items():\n",
    "#         for scaff in gff.scaffolds:\n",
    "#             # cont_n += 1\n",
    "#             # cont_lens.append(scaff.length)\n",
    "#             seq_name = f\"{scaff.genome}.{scaff.name}\"\n",
    "#             start = 1\n",
    "#             end = scaff.length\n",
    "#             strand_sign = \"+\"\n",
    "#             res_gff.write(f\"{seq_name}\\tunidentified\\tunidentified\\t{start}\\t{end}\\t.\\t{strand_sign}\\t0\\tINFO=whole_scaffold\\n\")\n"
   ]
  },
  {
   "cell_type": "code",
   "execution_count": 6,
   "id": "faba6eb9-bc9c-40cc-9358-2eabead6417c",
   "metadata": {},
   "outputs": [],
   "source": [
    "# all_scaffs_to_gff(gffs, \"/home/pampuch/studia/magisterka/test_data/scaff.gff\")"
   ]
  },
  {
   "cell_type": "code",
   "execution_count": 8,
   "id": "0bd13f05-89b0-4ebd-88a7-cbd9499872e9",
   "metadata": {},
   "outputs": [],
   "source": [
    "inter_gff = \"scaff_inter_model.gff\"\n",
    "full_gff = \"full.gff\"\n",
    "gffs_dir = \"/home/pampuch/studia/magisterka/final_summaries/gffs/model_cvg\""
   ]
  },
  {
   "cell_type": "code",
   "execution_count": 9,
   "id": "24368c3e-ae68-4b07-b1af-58b17457adf0",
   "metadata": {},
   "outputs": [
    {
     "name": "stdout",
     "output_type": "stream",
     "text": [
      "panaroo_pangenome_cvg\n",
      "panaroo_joined_pangenome_cvg\n",
      "full_scaffolds\n",
      "panaroo_compl_pangenome_cvg\n",
      "cact_pangenome_cvg\n",
      "prog_pangenome_cvg\n"
     ]
    }
   ],
   "source": [
    "for dir in os.listdir(gffs_dir):\n",
    "    print(dir)"
   ]
  },
  {
   "cell_type": "code",
   "execution_count": 10,
   "id": "72b79e12-ad37-41cf-8583-e636e39c2bbd",
   "metadata": {},
   "outputs": [],
   "source": [
    "def datasets_mapping(x):\n",
    "    if x.startswith(\"sim\"):\n",
    "        x= x.replace(\"sim_gr_1e-11_lr_1e-12_mu_1e-15_rep1\", \"E. coli \")\n",
    "    else:\n",
    "        x= x.replace(\"_subset\", \"\")\n",
    "        x= x.replace(\"GPSC\", \"pneumococcus\")\n",
    "    return x.strip().replace(\"_\",\"\")"
   ]
  },
  {
   "cell_type": "code",
   "execution_count": 11,
   "id": "a5dd27e2-1e3b-4327-ad4e-d2848d36394d",
   "metadata": {},
   "outputs": [
    {
     "name": "stdout",
     "output_type": "stream",
     "text": [
      "panaroo_pangenome_cvg\n",
      "panaroo_joined_pangenome_cvg\n",
      "panaroo_compl_pangenome_cvg\n",
      "cact_pangenome_cvg\n",
      "prog_pangenome_cvg\n"
     ]
    }
   ],
   "source": [
    "for dir in os.listdir(gffs_dir):\n",
    "    if not dir.endswith(\"cvg\"):\n",
    "        continue\n",
    "    print(dir)"
   ]
  },
  {
   "cell_type": "code",
   "execution_count": 12,
   "id": "185cf9d7-d503-4361-854b-76d9d0b01693",
   "metadata": {},
   "outputs": [],
   "source": [
    "genome_full_lens = {}\n",
    "for dataset in os.listdir(os.path.join(gffs_dir, \"full_scaffolds\")):\n",
    "    genome_full_lens[dataset] = get_cds_sum_aggregate_lens(os.path.join(gffs_dir, \"full_scaffolds\", dataset, full_gff))"
   ]
  },
  {
   "cell_type": "code",
   "execution_count": 13,
   "id": "36236828-bc5a-4085-8588-ed574c9b9ccb",
   "metadata": {},
   "outputs": [
    {
     "data": {
      "text/plain": [
       "{'sim_gr_1e-11_lr_1e-12_mu_1e-15_rep1_fragmented': 347041411,\n",
       " 'sim_gr_1e-11_lr_1e-12_mu_1e-15_rep1_contaminated': 348677091,\n",
       " 'klebsiella_subset': 117114971,\n",
       " 'sim_gr_1e-11_lr_1e-12_mu_1e-15_rep1': 346957477,\n",
       " 'GPSC_subset': 45647946}"
      ]
     },
     "execution_count": 13,
     "metadata": {},
     "output_type": "execute_result"
    }
   ],
   "source": [
    "genome_full_lens"
   ]
  },
  {
   "cell_type": "code",
   "execution_count": 48,
   "id": "e575f03e-feb4-4b3c-88cd-a6bea787daea",
   "metadata": {},
   "outputs": [],
   "source": [
    "models_full_lens = {}\n",
    "for model in os.listdir(gffs_dir):\n",
    "    if not model.endswith(\"cvg\"):\n",
    "        continue\n",
    "    models_full_lens[model] = {}\n",
    "    for dataset in os.listdir(os.path.join(gffs_dir, model)):\n",
    "        file = os.path.join(gffs_dir, model, dataset, inter_gff)\n",
    "        models_full_lens[model][dataset] = get_cds_sum_aggregate_lens(file)"
   ]
  },
  {
   "cell_type": "code",
   "execution_count": 45,
   "id": "a586b08f-b678-4527-9d50-fb3ccbc950dc",
   "metadata": {},
   "outputs": [],
   "source": [
    "def model_mapping(model):\n",
    "    name_dict = {\n",
    "    \"panaroo_pangenome_cvg\" : \"Panaroo podstawowy\",\n",
    "    \"panaroo_joined_pangenome_cvg\" : \"Panaroo z uzupełnieniem\",\n",
    "    \"panaroo_compl_pangenome_cvg\" : \"Uzupełnienie Panaroo\",\n",
    "    \"cact_pangenome_cvg\" : \"Minigraph-C\",\n",
    "    \"prog_pangenome_cvg\" : \"Progressive-C.\"\n",
    "    }\n",
    "    # model_name = name_dict(model)\n",
    "    return name_dict[model]\n",
    "\n",
    "models_order = [\"Panaroo podstawowy\", \"Uzupełnienie Panaroo\", \"Panaroo z uzupełnieniem\", \"Minigraph-C\", \"Progressive-C.\"]"
   ]
  },
  {
   "cell_type": "code",
   "execution_count": 31,
   "id": "82f70421-dc75-4139-899e-e57f5f7f0a55",
   "metadata": {},
   "outputs": [
    {
     "data": {
      "text/plain": [
       "{'panaroo_pangenome_cvg': {'sim_gr_1e-11_lr_1e-12_mu_1e-15_rep1_fragmented': 282541528,\n",
       "  'sim_gr_1e-11_lr_1e-12_mu_1e-15_rep1_contaminated': 291247487,\n",
       "  'klebsiella_subset': 94901769,\n",
       "  'sim_gr_1e-11_lr_1e-12_mu_1e-15_rep1': 291403166,\n",
       "  'GPSC_subset': 38248115},\n",
       " 'panaroo_joined_pangenome_cvg': {'sim_gr_1e-11_lr_1e-12_mu_1e-15_rep1_fragmented': 309664959,\n",
       "  'sim_gr_1e-11_lr_1e-12_mu_1e-15_rep1_contaminated': 322460315,\n",
       "  'klebsiella_subset': 103430107,\n",
       "  'sim_gr_1e-11_lr_1e-12_mu_1e-15_rep1': 323067275,\n",
       "  'GPSC_subset': 49742151},\n",
       " 'panaroo_compl_pangenome_cvg': {'sim_gr_1e-11_lr_1e-12_mu_1e-15_rep1_fragmented': 29577675,\n",
       "  'sim_gr_1e-11_lr_1e-12_mu_1e-15_rep1_contaminated': 31344449,\n",
       "  'klebsiella_subset': 8746124,\n",
       "  'sim_gr_1e-11_lr_1e-12_mu_1e-15_rep1': 31723693,\n",
       "  'GPSC_subset': 11230906},\n",
       " 'cact_pangenome_cvg': {'sim_gr_1e-11_lr_1e-12_mu_1e-15_rep1_fragmented': 143537727,\n",
       "  'sim_gr_1e-11_lr_1e-12_mu_1e-15_rep1_contaminated': 320273843,\n",
       "  'klebsiella_subset': 25184748,\n",
       "  'sim_gr_1e-11_lr_1e-12_mu_1e-15_rep1': 324002838,\n",
       "  'GPSC_subset': 16435540},\n",
       " 'prog_pangenome_cvg': {'sim_gr_1e-11_lr_1e-12_mu_1e-15_rep1_fragmented': 334352823,\n",
       "  'klebsiella_subset': 97837876,\n",
       "  'GPSC_subset': 39031148}}"
      ]
     },
     "execution_count": 31,
     "metadata": {},
     "output_type": "execute_result"
    }
   ],
   "source": [
    "models_full_lens"
   ]
  },
  {
   "cell_type": "code",
   "execution_count": 49,
   "id": "00deafb3-aaff-4669-8a3f-5f737f55e191",
   "metadata": {},
   "outputs": [],
   "source": [
    "models_cvg = {}"
   ]
  },
  {
   "cell_type": "code",
   "execution_count": 50,
   "id": "fd8d971e-5c7e-4406-8b85-58f6ac514302",
   "metadata": {},
   "outputs": [],
   "source": [
    "for model, datasets in models_full_lens.items():\n",
    "    # model_name = model_mapping(model)\n",
    "    models_cvg[model_mapping(model)] = {}\n",
    "    for dataset, length in datasets.items():\n",
    "        models_cvg[model_mapping(model)].update({datasets_mapping(dataset) : length / genome_full_lens[dataset]})"
   ]
  },
  {
   "cell_type": "code",
   "execution_count": 51,
   "id": "15cbc1d9-c45a-4a4f-b071-f98d03e52123",
   "metadata": {},
   "outputs": [
    {
     "data": {
      "text/plain": [
       "{'Panaroo podstawowy': {'E. coli fragmented': 0.8141435547586567,\n",
       "  'E. coli contaminated': 0.8352928670039867,\n",
       "  'klebsiella': 0.8103299534608602,\n",
       "  'E. coli': 0.8398814993688694,\n",
       "  'pneumococcus': 0.83789345089043},\n",
       " 'Panaroo z uzupełnieniem': {'E. coli fragmented': 0.8922997348002368,\n",
       "  'E. coli contaminated': 0.924810729822224,\n",
       "  'klebsiella': 0.8831501738577897,\n",
       "  'E. coli': 0.9311437176492957,\n",
       "  'pneumococcus': 1.0896908921159345},\n",
       " 'Uzupełnienie Panaroo': {'E. coli fragmented': 0.08522808535953076,\n",
       "  'E. coli contaminated': 0.08989534962020203,\n",
       "  'klebsiella': 0.07467981185770008,\n",
       "  'E. coli': 0.09143395114093478,\n",
       "  'pneumococcus': 0.24603310738231246},\n",
       " 'Minigraph-C': {'E. coli fragmented': 0.41360403240177007,\n",
       "  'E. coli contaminated': 0.9185399651048483,\n",
       "  'klebsiella': 0.21504294271652086,\n",
       "  'E. coli': 0.93384019506229,\n",
       "  'pneumococcus': 0.3600499352150478},\n",
       " 'Progressive-C.': {'E. coli fragmented': 0.9634378273087415,\n",
       "  'klebsiella': 0.835400249554773,\n",
       "  'pneumococcus': 0.8550471909513738}}"
      ]
     },
     "execution_count": 51,
     "metadata": {},
     "output_type": "execute_result"
    }
   ],
   "source": [
    "models_cvg"
   ]
  },
  {
   "cell_type": "code",
   "execution_count": 36,
   "id": "d7925033-d611-4bb2-8cc1-83f7fe1d3060",
   "metadata": {},
   "outputs": [
    {
     "data": {
      "text/plain": [
       "dict_keys(['panaroo_pangenome_cvg', 'panaroo_joined_pangenome_cvg', 'panaroo_compl_pangenome_cvg', 'cact_pangenome_cvg', 'prog_pangenome_cvg'])"
      ]
     },
     "execution_count": 36,
     "metadata": {},
     "output_type": "execute_result"
    }
   ],
   "source": [
    "models_cvg.keys()"
   ]
  },
  {
   "cell_type": "code",
   "execution_count": null,
   "id": "20fd5a72-f55a-4a8f-afe2-11beec17c7a9",
   "metadata": {},
   "outputs": [],
   "source": [
    "def model_mapping(model):\n",
    "    name_dict = {\n",
    "    \"panaroo_pangenome_cvg\" : \"Panaroo podstawowy\",\n",
    "    \"panaroo_joined_pangenome_cvg\" : \"Panaroo z uzupełnieniem\",\n",
    "    \"panaroo_compl_pangenome_cvg\" : \"Uzupełnienie Panaroo\",\n",
    "    \"cact_pangenome_cvg\" : \"Minigraph-C\",\n",
    "    \"prog_pangenome_cvg\" : \"Progressive-C.\"\n",
    "    }\n",
    "    return name_dict(model)\n",
    "\n",
    "models_order = [\"Panaroo podstawowy\", \"Uzupełnienie Panaroo\", \"Panaroo z uzupełnieniem\", \"Minigraph-C\", \"Progressive-C.\"]"
   ]
  },
  {
   "cell_type": "code",
   "execution_count": 52,
   "id": "a47b8cc8-77ea-40d2-b88d-4718701225fe",
   "metadata": {},
   "outputs": [],
   "source": [
    "datasets = list(models_cvg[\"Panaroo podstawowy\"].keys())"
   ]
  },
  {
   "cell_type": "code",
   "execution_count": 57,
   "id": "75cb3ae9-1eb1-4cde-ae45-417285d4f3e5",
   "metadata": {},
   "outputs": [],
   "source": [
    "datasets = sorted(datasets)"
   ]
  },
  {
   "cell_type": "code",
   "execution_count": 35,
   "id": "42bc942b-9f40-4299-be14-491ba3bbbe6c",
   "metadata": {},
   "outputs": [],
   "source": [
    "columns = [\"Dataset\", \"Model\", \"Pokrycie pangenomu\"]"
   ]
  },
  {
   "cell_type": "code",
   "execution_count": 60,
   "id": "882e6a5e-8941-4a94-b982-dcd0d7bd1f2c",
   "metadata": {},
   "outputs": [],
   "source": [
    "rows = []\n",
    "for dataset in datasets:\n",
    "    for model in models_order:\n",
    "        try:\n",
    "            rows.append([dataset, model, models_cvg[model][dataset]])\n",
    "        except:\n",
    "            continue"
   ]
  },
  {
   "cell_type": "code",
   "execution_count": 64,
   "id": "ceea3979-246e-45c9-8224-02b352d767ff",
   "metadata": {},
   "outputs": [],
   "source": [
    "df = pd.DataFrame(data=rows, columns=columns)\n",
    "df[\"Pokrycie pangenomu\"] = df[\"Pokrycie pangenomu\"]*100"
   ]
  },
  {
   "cell_type": "code",
   "execution_count": 65,
   "id": "0bdccc7f-4559-4417-840a-a008bf80d19f",
   "metadata": {},
   "outputs": [
    {
     "data": {
      "text/html": [
       "<div>\n",
       "<style scoped>\n",
       "    .dataframe tbody tr th:only-of-type {\n",
       "        vertical-align: middle;\n",
       "    }\n",
       "\n",
       "    .dataframe tbody tr th {\n",
       "        vertical-align: top;\n",
       "    }\n",
       "\n",
       "    .dataframe thead th {\n",
       "        text-align: right;\n",
       "    }\n",
       "</style>\n",
       "<table border=\"1\" class=\"dataframe\">\n",
       "  <thead>\n",
       "    <tr style=\"text-align: right;\">\n",
       "      <th></th>\n",
       "      <th>Dataset</th>\n",
       "      <th>Model</th>\n",
       "      <th>Pokrycie pangenomu</th>\n",
       "    </tr>\n",
       "  </thead>\n",
       "  <tbody>\n",
       "    <tr>\n",
       "      <th>0</th>\n",
       "      <td>E. coli</td>\n",
       "      <td>Panaroo podstawowy</td>\n",
       "      <td>83.988150</td>\n",
       "    </tr>\n",
       "    <tr>\n",
       "      <th>1</th>\n",
       "      <td>E. coli</td>\n",
       "      <td>Uzupełnienie Panaroo</td>\n",
       "      <td>9.143395</td>\n",
       "    </tr>\n",
       "    <tr>\n",
       "      <th>2</th>\n",
       "      <td>E. coli</td>\n",
       "      <td>Panaroo z uzupełnieniem</td>\n",
       "      <td>93.114372</td>\n",
       "    </tr>\n",
       "    <tr>\n",
       "      <th>3</th>\n",
       "      <td>E. coli</td>\n",
       "      <td>Minigraph-C</td>\n",
       "      <td>93.384020</td>\n",
       "    </tr>\n",
       "    <tr>\n",
       "      <th>4</th>\n",
       "      <td>E. coli contaminated</td>\n",
       "      <td>Panaroo podstawowy</td>\n",
       "      <td>83.529287</td>\n",
       "    </tr>\n",
       "    <tr>\n",
       "      <th>5</th>\n",
       "      <td>E. coli contaminated</td>\n",
       "      <td>Uzupełnienie Panaroo</td>\n",
       "      <td>8.989535</td>\n",
       "    </tr>\n",
       "    <tr>\n",
       "      <th>6</th>\n",
       "      <td>E. coli contaminated</td>\n",
       "      <td>Panaroo z uzupełnieniem</td>\n",
       "      <td>92.481073</td>\n",
       "    </tr>\n",
       "    <tr>\n",
       "      <th>7</th>\n",
       "      <td>E. coli contaminated</td>\n",
       "      <td>Minigraph-C</td>\n",
       "      <td>91.853997</td>\n",
       "    </tr>\n",
       "    <tr>\n",
       "      <th>8</th>\n",
       "      <td>E. coli fragmented</td>\n",
       "      <td>Panaroo podstawowy</td>\n",
       "      <td>81.414355</td>\n",
       "    </tr>\n",
       "    <tr>\n",
       "      <th>9</th>\n",
       "      <td>E. coli fragmented</td>\n",
       "      <td>Uzupełnienie Panaroo</td>\n",
       "      <td>8.522809</td>\n",
       "    </tr>\n",
       "    <tr>\n",
       "      <th>10</th>\n",
       "      <td>E. coli fragmented</td>\n",
       "      <td>Panaroo z uzupełnieniem</td>\n",
       "      <td>89.229973</td>\n",
       "    </tr>\n",
       "    <tr>\n",
       "      <th>11</th>\n",
       "      <td>E. coli fragmented</td>\n",
       "      <td>Minigraph-C</td>\n",
       "      <td>41.360403</td>\n",
       "    </tr>\n",
       "    <tr>\n",
       "      <th>12</th>\n",
       "      <td>E. coli fragmented</td>\n",
       "      <td>Progressive-C.</td>\n",
       "      <td>96.343783</td>\n",
       "    </tr>\n",
       "    <tr>\n",
       "      <th>13</th>\n",
       "      <td>klebsiella</td>\n",
       "      <td>Panaroo podstawowy</td>\n",
       "      <td>81.032995</td>\n",
       "    </tr>\n",
       "    <tr>\n",
       "      <th>14</th>\n",
       "      <td>klebsiella</td>\n",
       "      <td>Uzupełnienie Panaroo</td>\n",
       "      <td>7.467981</td>\n",
       "    </tr>\n",
       "    <tr>\n",
       "      <th>15</th>\n",
       "      <td>klebsiella</td>\n",
       "      <td>Panaroo z uzupełnieniem</td>\n",
       "      <td>88.315017</td>\n",
       "    </tr>\n",
       "    <tr>\n",
       "      <th>16</th>\n",
       "      <td>klebsiella</td>\n",
       "      <td>Minigraph-C</td>\n",
       "      <td>21.504294</td>\n",
       "    </tr>\n",
       "    <tr>\n",
       "      <th>17</th>\n",
       "      <td>klebsiella</td>\n",
       "      <td>Progressive-C.</td>\n",
       "      <td>83.540025</td>\n",
       "    </tr>\n",
       "    <tr>\n",
       "      <th>18</th>\n",
       "      <td>pneumococcus</td>\n",
       "      <td>Panaroo podstawowy</td>\n",
       "      <td>83.789345</td>\n",
       "    </tr>\n",
       "    <tr>\n",
       "      <th>19</th>\n",
       "      <td>pneumococcus</td>\n",
       "      <td>Uzupełnienie Panaroo</td>\n",
       "      <td>24.603311</td>\n",
       "    </tr>\n",
       "    <tr>\n",
       "      <th>20</th>\n",
       "      <td>pneumococcus</td>\n",
       "      <td>Panaroo z uzupełnieniem</td>\n",
       "      <td>108.969089</td>\n",
       "    </tr>\n",
       "    <tr>\n",
       "      <th>21</th>\n",
       "      <td>pneumococcus</td>\n",
       "      <td>Minigraph-C</td>\n",
       "      <td>36.004994</td>\n",
       "    </tr>\n",
       "    <tr>\n",
       "      <th>22</th>\n",
       "      <td>pneumococcus</td>\n",
       "      <td>Progressive-C.</td>\n",
       "      <td>85.504719</td>\n",
       "    </tr>\n",
       "  </tbody>\n",
       "</table>\n",
       "</div>"
      ],
      "text/plain": [
       "                 Dataset                    Model  Pokrycie pangenomu\n",
       "0                E. coli       Panaroo podstawowy           83.988150\n",
       "1                E. coli     Uzupełnienie Panaroo            9.143395\n",
       "2                E. coli  Panaroo z uzupełnieniem           93.114372\n",
       "3                E. coli              Minigraph-C           93.384020\n",
       "4   E. coli contaminated       Panaroo podstawowy           83.529287\n",
       "5   E. coli contaminated     Uzupełnienie Panaroo            8.989535\n",
       "6   E. coli contaminated  Panaroo z uzupełnieniem           92.481073\n",
       "7   E. coli contaminated              Minigraph-C           91.853997\n",
       "8     E. coli fragmented       Panaroo podstawowy           81.414355\n",
       "9     E. coli fragmented     Uzupełnienie Panaroo            8.522809\n",
       "10    E. coli fragmented  Panaroo z uzupełnieniem           89.229973\n",
       "11    E. coli fragmented              Minigraph-C           41.360403\n",
       "12    E. coli fragmented           Progressive-C.           96.343783\n",
       "13            klebsiella       Panaroo podstawowy           81.032995\n",
       "14            klebsiella     Uzupełnienie Panaroo            7.467981\n",
       "15            klebsiella  Panaroo z uzupełnieniem           88.315017\n",
       "16            klebsiella              Minigraph-C           21.504294\n",
       "17            klebsiella           Progressive-C.           83.540025\n",
       "18          pneumococcus       Panaroo podstawowy           83.789345\n",
       "19          pneumococcus     Uzupełnienie Panaroo           24.603311\n",
       "20          pneumococcus  Panaroo z uzupełnieniem          108.969089\n",
       "21          pneumococcus              Minigraph-C           36.004994\n",
       "22          pneumococcus           Progressive-C.           85.504719"
      ]
     },
     "execution_count": 65,
     "metadata": {},
     "output_type": "execute_result"
    }
   ],
   "source": [
    "df"
   ]
  },
  {
   "cell_type": "code",
   "execution_count": 63,
   "id": "1384f5da-4777-4893-8061-427d1eab7fcb",
   "metadata": {},
   "outputs": [],
   "source": [
    "df.to_csv(\"/home/pampuch/studia/magisterka/final_summaries/genomes_cvg.csv\")"
   ]
  }
 ],
 "metadata": {
  "kernelspec": {
   "display_name": "Python 3 (ipykernel)",
   "language": "python",
   "name": "python3"
  },
  "language_info": {
   "codemirror_mode": {
    "name": "ipython",
    "version": 3
   },
   "file_extension": ".py",
   "mimetype": "text/x-python",
   "name": "python",
   "nbconvert_exporter": "python",
   "pygments_lexer": "ipython3",
   "version": "3.10.12"
  }
 },
 "nbformat": 4,
 "nbformat_minor": 5
}
