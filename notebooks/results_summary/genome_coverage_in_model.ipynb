{
 "cells": [
  {
   "cell_type": "code",
   "execution_count": 1,
   "id": "5fbab5d3-f8da-426b-b9a7-9d5ed8721ca4",
   "metadata": {},
   "outputs": [],
   "source": [
    "import pandas as pd\n",
    "import os\n",
    "from pgtools import gff_parser, maf_parser"
   ]
  },
  {
   "cell_type": "code",
   "execution_count": 6,
   "id": "cd6e3659-ee14-4560-a6b5-055d4ac5f929",
   "metadata": {},
   "outputs": [],
   "source": [
    "data_dir = \"/home/pampuch/studia/magisterka/test_data/klebsiella_subset_old/\"\n",
    "maf_dir = os.path.join(data_dir, \"cactus.maf\")\n",
    "gffs_dir = os.path.join(data_dir, \"gff\")"
   ]
  },
  {
   "cell_type": "code",
   "execution_count": 7,
   "id": "f9f68aeb-20a4-46be-b865-aeae2934e69c",
   "metadata": {},
   "outputs": [],
   "source": [
    "gffs = gff_parser.parse_GFFs_dir(gffs_dir, gff_simple=False)"
   ]
  },
  {
   "cell_type": "code",
   "execution_count": 16,
   "id": "a6dfb09f-0bb3-4235-93e6-bfd9dacd4c6a",
   "metadata": {},
   "outputs": [],
   "source": [
    "def all_scaffs_to_gff(gffs, out_file):\n",
    "    res_gff = open(out_file, \"w\")\n",
    "    # gff_all = gff_parser.parse_GFFs_dir(gffs, gff_simple=False)\n",
    "    for genome, gff in gffs.items():\n",
    "        for scaff in gff.scaffolds:\n",
    "            # cont_n += 1\n",
    "            # cont_lens.append(scaff.length)\n",
    "            seq_name = f\"{scaff.genome}.{scaff.name}\"\n",
    "            start = 1\n",
    "            end = scaff.length\n",
    "            strand_sign = \"+\"\n",
    "            res_gff.write(f\"{seq_name}\\tunidentified\\tunidentified\\t{start}\\t{end}\\t.\\t{strand_sign}\\t0\\tINFO=whole_scaffold\\n\")\n"
   ]
  },
  {
   "cell_type": "code",
   "execution_count": 17,
   "id": "faba6eb9-bc9c-40cc-9358-2eabead6417c",
   "metadata": {},
   "outputs": [],
   "source": [
    "all_scaffs_to_gff(gffs, \"/home/pampuch/studia/magisterka/test_data/scaff.gff\")"
   ]
  }
 ],
 "metadata": {
  "kernelspec": {
   "display_name": "Python 3 (ipykernel)",
   "language": "python",
   "name": "python3"
  },
  "language_info": {
   "codemirror_mode": {
    "name": "ipython",
    "version": 3
   },
   "file_extension": ".py",
   "mimetype": "text/x-python",
   "name": "python",
   "nbconvert_exporter": "python",
   "pygments_lexer": "ipython3",
   "version": "3.10.12"
  }
 },
 "nbformat": 4,
 "nbformat_minor": 5
}
