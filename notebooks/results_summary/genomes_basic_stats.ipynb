{
 "cells": [
  {
   "cell_type": "code",
   "execution_count": 6,
   "id": "01b5618e-3948-4dee-be0f-6ca2c2fdc43f",
   "metadata": {},
   "outputs": [],
   "source": [
    "from pgtools import gff_parser\n",
    "import os\n",
    "import pandas as pd"
   ]
  },
  {
   "cell_type": "code",
   "execution_count": 4,
   "id": "b6ef7044-f456-4e10-a662-852908a63cd9",
   "metadata": {},
   "outputs": [],
   "source": [
    "cds_cvg = {\n",
    "\"Pneumococcus\":85.12,\n",
    "\"Klebsiella\":84.94,\n",
    "\"E. coli\":84.41,\n",
    "\"E. coli fragmented\": 81.40,\n",
    "\"E. coli contaminated\": 84.22\n",
    "}"
   ]
  },
  {
   "cell_type": "code",
   "execution_count": 27,
   "id": "1a1e761a-82e6-489d-8f54-9cf56c0a9e28",
   "metadata": {},
   "outputs": [],
   "source": [
    "def datasets_mapping(x):\n",
    "    if x.startswith(\"sim\"):\n",
    "        x= x.replace(\"sim_gr_1e-11_lr_1e-12_mu_1e-15_rep1\", \"E. coli \")\n",
    "    else:\n",
    "        x= x.replace(\"_subset\", \"\")\n",
    "        x= x.replace(\"GPSC\", \"Pneumococcus\")\n",
    "        x = x.replace(\"klebsiella\", \"Klebsiella\")\n",
    "    return x.strip().replace(\"_\",\"\")"
   ]
  },
  {
   "cell_type": "code",
   "execution_count": 5,
   "id": "6d5b8499-211f-4c03-92f9-9b03f5fd285c",
   "metadata": {},
   "outputs": [
    {
     "data": {
      "text/plain": [
       "{'Pneumococcus': 85.12,\n",
       " 'Klebsiella': 84.94,\n",
       " 'E. coli': 84.41,\n",
       " 'E. coli fragmented': 81.4,\n",
       " 'E. coli contaminated': 84.22}"
      ]
     },
     "execution_count": 5,
     "metadata": {},
     "output_type": "execute_result"
    }
   ],
   "source": [
    "cds_cvg"
   ]
  },
  {
   "cell_type": "code",
   "execution_count": 7,
   "id": "c22b7b13-d046-457d-a7ce-c722e14422b3",
   "metadata": {},
   "outputs": [],
   "source": [
    "all_gffs_dir = \"/home/pampuch/studia/magisterka/test_data/gffs/\"\n"
   ]
  },
  {
   "cell_type": "code",
   "execution_count": 11,
   "id": "27b5a41a-518e-4eed-841c-d74962f4aba7",
   "metadata": {},
   "outputs": [
    {
     "name": "stdout",
     "output_type": "stream",
     "text": [
      "\"sim_gr_1e-11_lr_1e-12_mu_1e-15_rep1_fragmented\",\n",
      "\"sim_gr_1e-11_lr_1e-12_mu_1e-15_rep1_contaminated\",\n",
      "\"klebsiella_subset\",\n",
      "\"sim_gr_1e-11_lr_1e-12_mu_1e-15_rep1\",\n",
      "\"sim_gr_1e-12_lr_1e-12_mu_1e-14_rep1\",\n",
      "\"sim_gr_1e-11_lr_1e-12_mu_1e-14_rep1\",\n",
      "\"GPSC_subset\",\n"
     ]
    }
   ],
   "source": [
    "for dataset in os.listdir(all_gffs_dir):\n",
    "    print(f'\"{dataset}\",') "
   ]
  },
  {
   "cell_type": "code",
   "execution_count": 14,
   "id": "2f4336b8-4495-4eab-bb27-55463552bda8",
   "metadata": {},
   "outputs": [],
   "source": [
    "datasets = [\n",
    "\"sim_gr_1e-11_lr_1e-12_mu_1e-15_rep1\",\n",
    "\"sim_gr_1e-11_lr_1e-12_mu_1e-15_rep1_contaminated\",\n",
    "\"sim_gr_1e-11_lr_1e-12_mu_1e-15_rep1_fragmented\",\n",
    "\"klebsiella_subset\",\n",
    "\"GPSC_subset\",\n",
    "]"
   ]
  },
  {
   "cell_type": "code",
   "execution_count": 16,
   "id": "e53a2fe1-2b9d-483e-ac36-bec81f264ab5",
   "metadata": {},
   "outputs": [],
   "source": [
    "kleb_gff = os.path.join(all_gffs_dir, datasets[3], \"gff\")"
   ]
  },
  {
   "cell_type": "code",
   "execution_count": 73,
   "id": "f59036f6-38e9-41e6-90bb-82d8146c0afe",
   "metadata": {},
   "outputs": [],
   "source": [
    "columns = [\n",
    "\"Dataset\",\n",
    "\"Liczba genomów\",\n",
    "\"Sumaryczna długość genomów\",\n",
    "\"Sumaryczna liczba kontigów\",\n",
    "\"Średnia długość kontigu\",\n",
    "\"Średni rozmiar genomu\",\n",
    "\"Średnia długość kontigu w genomie\",\n",
    "\"Średnia liczba kontigów w genomie\",\n",
    "\"Pokrycie genomów przez CDS (%)\",\n",
    "]"
   ]
  },
  {
   "cell_type": "code",
   "execution_count": 74,
   "id": "1debf38f-3f75-4fd5-9868-e7754f29c4ef",
   "metadata": {},
   "outputs": [],
   "source": [
    "def basic_stats(genome_gffs):\n",
    "    all_mean_cont_lens = []\n",
    "    # all_mean_cont_n = []\n",
    "    all_cont_lens = []\n",
    "    all_contig_n = []\n",
    "    all_genome_lens = []\n",
    "    genomes_n = 0\n",
    "    # all_len = 0\n",
    "    gff_all = gff_parser.parse_GFFs_dir(genome_gffs, gff_simple=False)\n",
    "    for genome, gff in gff_all.items():\n",
    "        cont_lens = []\n",
    "        genomes_n += 1\n",
    "        cont_n = 0\n",
    "        for scaff in gff.scaffolds:\n",
    "            cont_n += 1\n",
    "            cont_lens.append(scaff.length)\n",
    "            all_cont_lens.append(scaff.length)\n",
    "        all_genome_lens.append(sum(cont_lens))\n",
    "        all_contig_n.append(cont_n)\n",
    "        all_mean_cont_lens.append(sum(cont_lens) / cont_n)\n",
    "\n",
    "    res_dict = {\n",
    "        \"Liczba genomów\": genomes_n,\n",
    "        \"Sumaryczna długość genomów\": sum(all_genome_lens),\n",
    "        \"Sumaryczna liczba kontigów\": sum(all_contig_n),\n",
    "        \"Średnia długość kontigu\": sum(all_cont_lens) / len(all_cont_lens),\n",
    "        \"Średni rozmiar genomu\": sum(all_genome_lens) / genomes_n,\n",
    "        \"Średnia długość kontigu w genomie\": sum(all_mean_cont_lens) / genomes_n,\n",
    "        \"Średnia liczba kontigów w genomie\": sum(all_contig_n) / genomes_n,\n",
    "        # \"Pokrycie genomów przez CDS (%)\",\n",
    "    }\n",
    "\n",
    "    return res_dict\n",
    "            \n"
   ]
  },
  {
   "cell_type": "code",
   "execution_count": 25,
   "id": "bab6d093-53c3-49f6-b6d4-b6aa124bd5e2",
   "metadata": {},
   "outputs": [],
   "source": [
    "res_dict = basic_stats(kleb_gff)"
   ]
  },
  {
   "cell_type": "code",
   "execution_count": 26,
   "id": "403f9919-01e2-4f03-a66d-93ff9207a595",
   "metadata": {},
   "outputs": [
    {
     "data": {
      "text/plain": [
       "{'Liczba genomów': 20,\n",
       " 'Sumaryczna długość genomów': 117375178,\n",
       " 'Sumaryczna liczba kontigów': 15608,\n",
       " 'Średni rozmiar genomu': 5868758.9,\n",
       " 'Średnia długość kontigu w genomie': 11384.184298403612,\n",
       " 'Średnia liczba kontigów w genomie': 780.4}"
      ]
     },
     "execution_count": 26,
     "metadata": {},
     "output_type": "execute_result"
    }
   ],
   "source": [
    "res_dict"
   ]
  },
  {
   "cell_type": "code",
   "execution_count": 75,
   "id": "9893825e-47a9-4041-8af8-3f06522dc20d",
   "metadata": {},
   "outputs": [],
   "source": [
    "summary_dicts = {}\n",
    "for dataset in datasets:\n",
    "    dir = os.path.join(all_gffs_dir, dataset, \"gff\")\n",
    "    summary_dicts[datasets_mapping(dataset)] = basic_stats(dir)"
   ]
  },
  {
   "cell_type": "code",
   "execution_count": 40,
   "id": "bba892a5-6d93-4cdd-9acb-9aa41a7f0578",
   "metadata": {
    "scrolled": true
   },
   "outputs": [
    {
     "data": {
      "text/plain": [
       "{'E. coli': {'Liczba genomów': 100,\n",
       "  'Sumaryczna długość genomów': 347207379,\n",
       "  'Sumaryczna liczba kontigów': 12337,\n",
       "  'Średni rozmiar genomu': 3472073.79,\n",
       "  'Średnia długość kontigu w genomie': 28250.17757423725,\n",
       "  'Średnia liczba kontigów w genomie': 123.37},\n",
       " 'E. coli contaminated': {'Liczba genomów': 100,\n",
       "  'Sumaryczna długość genomów': 348927115,\n",
       "  'Sumaryczna liczba kontigów': 13743,\n",
       "  'Średni rozmiar genomu': 3489271.15,\n",
       "  'Średnia długość kontigu w genomie': 25449.42886845667,\n",
       "  'Średnia liczba kontigów w genomie': 137.43},\n",
       " 'E. coli fragmented': {'Liczba genomów': 100,\n",
       "  'Sumaryczna długość genomów': 347126358,\n",
       "  'Sumaryczna liczba kontigów': 32254,\n",
       "  'Średni rozmiar genomu': 3471263.58,\n",
       "  'Średnia długość kontigu w genomie': 10769.495195841278,\n",
       "  'Średnia liczba kontigów w genomie': 322.54},\n",
       " 'Klebsiella': {'Liczba genomów': 20,\n",
       "  'Sumaryczna długość genomów': 117375178,\n",
       "  'Sumaryczna liczba kontigów': 15608,\n",
       "  'Średni rozmiar genomu': 5868758.9,\n",
       "  'Średnia długość kontigu w genomie': 11384.184298403612,\n",
       "  'Średnia liczba kontigów w genomie': 780.4},\n",
       " 'Pneumococcus': {'Liczba genomów': 20,\n",
       "  'Sumaryczna długość genomów': 45919085,\n",
       "  'Sumaryczna liczba kontigów': 2492,\n",
       "  'Średni rozmiar genomu': 2295954.25,\n",
       "  'Średnia długość kontigu w genomie': 36545.615865109445,\n",
       "  'Średnia liczba kontigów w genomie': 124.6}}"
      ]
     },
     "execution_count": 40,
     "metadata": {},
     "output_type": "execute_result"
    }
   ],
   "source": [
    "summary_dicts"
   ]
  },
  {
   "cell_type": "code",
   "execution_count": 76,
   "id": "15d614bf-81b3-414d-9b70-f8639f01d417",
   "metadata": {},
   "outputs": [],
   "source": [
    "for k in summary_dicts:\n",
    "    summary_dicts[k][\"Pokrycie genomów przez CDS (%)\"] =  cds_cvg[k]"
   ]
  },
  {
   "cell_type": "code",
   "execution_count": 43,
   "id": "ec78a1d1-cdec-42d6-91b3-6f4a43ee11db",
   "metadata": {},
   "outputs": [
    {
     "data": {
      "text/plain": [
       "{'E. coli': {'Liczba genomów': 100,\n",
       "  'Sumaryczna długość genomów': 347207379,\n",
       "  'Sumaryczna liczba kontigów': 12337,\n",
       "  'Średni rozmiar genomu': 3472073.79,\n",
       "  'Średnia długość kontigu w genomie': 28250.17757423725,\n",
       "  'Średnia liczba kontigów w genomie': 123.37,\n",
       "  'Pokrycie genomów przez CDS': 84.41},\n",
       " 'E. coli contaminated': {'Liczba genomów': 100,\n",
       "  'Sumaryczna długość genomów': 348927115,\n",
       "  'Sumaryczna liczba kontigów': 13743,\n",
       "  'Średni rozmiar genomu': 3489271.15,\n",
       "  'Średnia długość kontigu w genomie': 25449.42886845667,\n",
       "  'Średnia liczba kontigów w genomie': 137.43,\n",
       "  'Pokrycie genomów przez CDS': 84.22},\n",
       " 'E. coli fragmented': {'Liczba genomów': 100,\n",
       "  'Sumaryczna długość genomów': 347126358,\n",
       "  'Sumaryczna liczba kontigów': 32254,\n",
       "  'Średni rozmiar genomu': 3471263.58,\n",
       "  'Średnia długość kontigu w genomie': 10769.495195841278,\n",
       "  'Średnia liczba kontigów w genomie': 322.54,\n",
       "  'Pokrycie genomów przez CDS': 81.4},\n",
       " 'Klebsiella': {'Liczba genomów': 20,\n",
       "  'Sumaryczna długość genomów': 117375178,\n",
       "  'Sumaryczna liczba kontigów': 15608,\n",
       "  'Średni rozmiar genomu': 5868758.9,\n",
       "  'Średnia długość kontigu w genomie': 11384.184298403612,\n",
       "  'Średnia liczba kontigów w genomie': 780.4,\n",
       "  'Pokrycie genomów przez CDS': 84.94},\n",
       " 'Pneumococcus': {'Liczba genomów': 20,\n",
       "  'Sumaryczna długość genomów': 45919085,\n",
       "  'Sumaryczna liczba kontigów': 2492,\n",
       "  'Średni rozmiar genomu': 2295954.25,\n",
       "  'Średnia długość kontigu w genomie': 36545.615865109445,\n",
       "  'Średnia liczba kontigów w genomie': 124.6,\n",
       "  'Pokrycie genomów przez CDS': 85.12}}"
      ]
     },
     "execution_count": 43,
     "metadata": {},
     "output_type": "execute_result"
    }
   ],
   "source": [
    "summary_dicts"
   ]
  },
  {
   "cell_type": "code",
   "execution_count": 51,
   "id": "13aa0d65-824b-4aa3-a688-02df33455383",
   "metadata": {},
   "outputs": [
    {
     "data": {
      "text/plain": [
       "['Dataset',\n",
       " 'Liczba genomów',\n",
       " 'Sumaryczna długość genomów',\n",
       " 'Sumaryczna liczba kontigów',\n",
       " 'Średni rozmiar genomu',\n",
       " 'Średnia długość kontigu w genomie',\n",
       " 'Średnia liczba kontigów w genomie',\n",
       " 'Pokrycie genomów przez CDS (%)']"
      ]
     },
     "execution_count": 51,
     "metadata": {},
     "output_type": "execute_result"
    }
   ],
   "source": [
    "columns"
   ]
  },
  {
   "cell_type": "code",
   "execution_count": 77,
   "id": "0ba66276-2703-4b9f-9d26-a1280745cfa5",
   "metadata": {},
   "outputs": [],
   "source": [
    "all_row_vals = []\n",
    "for dataset, vals in summary_dicts.items():\n",
    "    row_vals = [dataset]\n",
    "    for k in columns[1:]:\n",
    "        row_vals.append(vals[k])\n",
    "    all_row_vals.append(row_vals)"
   ]
  },
  {
   "cell_type": "code",
   "execution_count": 60,
   "id": "e484f46d-9361-435b-ba48-a6769619d937",
   "metadata": {},
   "outputs": [
    {
     "data": {
      "text/plain": [
       "[['E. coli',\n",
       "  100,\n",
       "  347207379,\n",
       "  12337,\n",
       "  3472073.79,\n",
       "  28250.17757423725,\n",
       "  123.37,\n",
       "  84.41],\n",
       " ['E. coli contaminated',\n",
       "  100,\n",
       "  348927115,\n",
       "  13743,\n",
       "  3489271.15,\n",
       "  25449.42886845667,\n",
       "  137.43,\n",
       "  84.22],\n",
       " ['E. coli fragmented',\n",
       "  100,\n",
       "  347126358,\n",
       "  32254,\n",
       "  3471263.58,\n",
       "  10769.495195841278,\n",
       "  322.54,\n",
       "  81.4],\n",
       " ['Klebsiella',\n",
       "  20,\n",
       "  117375178,\n",
       "  15608,\n",
       "  5868758.9,\n",
       "  11384.184298403612,\n",
       "  780.4,\n",
       "  84.94],\n",
       " ['Pneumococcus',\n",
       "  20,\n",
       "  45919085,\n",
       "  2492,\n",
       "  2295954.25,\n",
       "  36545.615865109445,\n",
       "  124.6,\n",
       "  85.12]]"
      ]
     },
     "execution_count": 60,
     "metadata": {},
     "output_type": "execute_result"
    }
   ],
   "source": [
    "all_row_vals"
   ]
  },
  {
   "cell_type": "code",
   "execution_count": 78,
   "id": "4f9ab3d2-fbac-4524-8d6a-6817209df3e8",
   "metadata": {},
   "outputs": [],
   "source": [
    "df_dataset = pd.DataFrame(columns=columns, data=all_row_vals)\n",
    "for col in df_dataset.columns:\n",
    "    if col.startswith(\"Ś\"):\n",
    "        df_dataset[col] = df_dataset[col].round(2)"
   ]
  },
  {
   "cell_type": "code",
   "execution_count": 82,
   "id": "7b77c242-9265-4dcf-b67b-f8d8af45deac",
   "metadata": {},
   "outputs": [
    {
     "name": "stdout",
     "output_type": "stream",
     "text": [
      "\"Dataset\",\n",
      "\"Liczba genomów\",\n",
      "\"Sumaryczna długość genomów\",\n",
      "\"Sumaryczna liczba kontigów\",\n",
      "\"Średnia długość kontigu\",\n",
      "\"Średni rozmiar genomu\",\n",
      "\"Średnia długość kontigu w genomie\",\n",
      "\"Średnia liczba kontigów w genomie\",\n",
      "\"Pokrycie genomów przez CDS (%)\",\n"
     ]
    }
   ],
   "source": [
    "for col in df_dataset.columns:\n",
    "    print(f'\"{col}\",')"
   ]
  },
  {
   "cell_type": "code",
   "execution_count": 84,
   "id": "81d8519a-4f52-4cd8-8f56-8f0c6f06839e",
   "metadata": {},
   "outputs": [],
   "source": [
    "df_dataset = df_dataset[[\"Dataset\",\n",
    "\"Liczba genomów\",\n",
    "\"Sumaryczna długość genomów\",\n",
    "\"Średni rozmiar genomu\",\n",
    "\"Pokrycie genomów przez CDS (%)\",\n",
    "\"Sumaryczna liczba kontigów\",\n",
    "\"Średnia liczba kontigów w genomie\",\n",
    "\"Średnia długość kontigu\",\n",
    "\"Średnia długość kontigu w genomie\",\n",
    "]]"
   ]
  },
  {
   "cell_type": "code",
   "execution_count": 85,
   "id": "daf72f29-1177-4b9f-be07-ff2572e04a9b",
   "metadata": {},
   "outputs": [
    {
     "data": {
      "text/html": [
       "<div>\n",
       "<style scoped>\n",
       "    .dataframe tbody tr th:only-of-type {\n",
       "        vertical-align: middle;\n",
       "    }\n",
       "\n",
       "    .dataframe tbody tr th {\n",
       "        vertical-align: top;\n",
       "    }\n",
       "\n",
       "    .dataframe thead th {\n",
       "        text-align: right;\n",
       "    }\n",
       "</style>\n",
       "<table border=\"1\" class=\"dataframe\">\n",
       "  <thead>\n",
       "    <tr style=\"text-align: right;\">\n",
       "      <th></th>\n",
       "      <th>Dataset</th>\n",
       "      <th>Liczba genomów</th>\n",
       "      <th>Sumaryczna długość genomów</th>\n",
       "      <th>Średni rozmiar genomu</th>\n",
       "      <th>Pokrycie genomów przez CDS (%)</th>\n",
       "      <th>Sumaryczna liczba kontigów</th>\n",
       "      <th>Średnia liczba kontigów w genomie</th>\n",
       "      <th>Średnia długość kontigu</th>\n",
       "      <th>Średnia długość kontigu w genomie</th>\n",
       "    </tr>\n",
       "  </thead>\n",
       "  <tbody>\n",
       "    <tr>\n",
       "      <th>0</th>\n",
       "      <td>E. coli</td>\n",
       "      <td>100</td>\n",
       "      <td>347207379</td>\n",
       "      <td>3472073.79</td>\n",
       "      <td>84.41</td>\n",
       "      <td>12337</td>\n",
       "      <td>123.37</td>\n",
       "      <td>28143.58</td>\n",
       "      <td>28250.18</td>\n",
       "    </tr>\n",
       "    <tr>\n",
       "      <th>1</th>\n",
       "      <td>E. coli contaminated</td>\n",
       "      <td>100</td>\n",
       "      <td>348927115</td>\n",
       "      <td>3489271.15</td>\n",
       "      <td>84.22</td>\n",
       "      <td>13743</td>\n",
       "      <td>137.43</td>\n",
       "      <td>25389.44</td>\n",
       "      <td>25449.43</td>\n",
       "    </tr>\n",
       "    <tr>\n",
       "      <th>2</th>\n",
       "      <td>E. coli fragmented</td>\n",
       "      <td>100</td>\n",
       "      <td>347126358</td>\n",
       "      <td>3471263.58</td>\n",
       "      <td>81.40</td>\n",
       "      <td>32254</td>\n",
       "      <td>322.54</td>\n",
       "      <td>10762.27</td>\n",
       "      <td>10769.50</td>\n",
       "    </tr>\n",
       "    <tr>\n",
       "      <th>3</th>\n",
       "      <td>Klebsiella</td>\n",
       "      <td>20</td>\n",
       "      <td>117375178</td>\n",
       "      <td>5868758.90</td>\n",
       "      <td>84.94</td>\n",
       "      <td>15608</td>\n",
       "      <td>780.40</td>\n",
       "      <td>7520.19</td>\n",
       "      <td>11384.18</td>\n",
       "    </tr>\n",
       "    <tr>\n",
       "      <th>4</th>\n",
       "      <td>Pneumococcus</td>\n",
       "      <td>20</td>\n",
       "      <td>45919085</td>\n",
       "      <td>2295954.25</td>\n",
       "      <td>85.12</td>\n",
       "      <td>2492</td>\n",
       "      <td>124.60</td>\n",
       "      <td>18426.60</td>\n",
       "      <td>36545.62</td>\n",
       "    </tr>\n",
       "  </tbody>\n",
       "</table>\n",
       "</div>"
      ],
      "text/plain": [
       "                Dataset  Liczba genomów  Sumaryczna długość genomów  \\\n",
       "0               E. coli             100                   347207379   \n",
       "1  E. coli contaminated             100                   348927115   \n",
       "2    E. coli fragmented             100                   347126358   \n",
       "3            Klebsiella              20                   117375178   \n",
       "4          Pneumococcus              20                    45919085   \n",
       "\n",
       "   Średni rozmiar genomu  Pokrycie genomów przez CDS (%)  \\\n",
       "0             3472073.79                           84.41   \n",
       "1             3489271.15                           84.22   \n",
       "2             3471263.58                           81.40   \n",
       "3             5868758.90                           84.94   \n",
       "4             2295954.25                           85.12   \n",
       "\n",
       "   Sumaryczna liczba kontigów  Średnia liczba kontigów w genomie  \\\n",
       "0                       12337                             123.37   \n",
       "1                       13743                             137.43   \n",
       "2                       32254                             322.54   \n",
       "3                       15608                             780.40   \n",
       "4                        2492                             124.60   \n",
       "\n",
       "   Średnia długość kontigu  Średnia długość kontigu w genomie  \n",
       "0                 28143.58                           28250.18  \n",
       "1                 25389.44                           25449.43  \n",
       "2                 10762.27                           10769.50  \n",
       "3                  7520.19                           11384.18  \n",
       "4                 18426.60                           36545.62  "
      ]
     },
     "execution_count": 85,
     "metadata": {},
     "output_type": "execute_result"
    }
   ],
   "source": [
    "df_dataset"
   ]
  },
  {
   "cell_type": "code",
   "execution_count": 86,
   "id": "53b54b7e-3620-4496-be5d-0ff85bfe9f21",
   "metadata": {},
   "outputs": [],
   "source": [
    "df_dataset.to_csv(\"/home/pampuch/studia/magisterka/final_summaries/basic_dataset_stats.csv\")"
   ]
  },
  {
   "cell_type": "code",
   "execution_count": 66,
   "id": "7d55c5bb-d1e5-4e71-8783-b3ef90cc9cf5",
   "metadata": {},
   "outputs": [
    {
     "data": {
      "text/plain": [
       "0    28250.18\n",
       "1    25449.43\n",
       "2    10769.50\n",
       "3    11384.18\n",
       "4    36545.62\n",
       "Name: Średnia długość kontigu w genomie, dtype: float64"
      ]
     },
     "execution_count": 66,
     "metadata": {},
     "output_type": "execute_result"
    }
   ],
   "source": [
    "df_dataset[\"Średnia długość kontigu w genomie\"].round(2)"
   ]
  }
 ],
 "metadata": {
  "kernelspec": {
   "display_name": "Python 3 (ipykernel)",
   "language": "python",
   "name": "python3"
  },
  "language_info": {
   "codemirror_mode": {
    "name": "ipython",
    "version": 3
   },
   "file_extension": ".py",
   "mimetype": "text/x-python",
   "name": "python",
   "nbconvert_exporter": "python",
   "pygments_lexer": "ipython3",
   "version": "3.10.12"
  }
 },
 "nbformat": 4,
 "nbformat_minor": 5
}
