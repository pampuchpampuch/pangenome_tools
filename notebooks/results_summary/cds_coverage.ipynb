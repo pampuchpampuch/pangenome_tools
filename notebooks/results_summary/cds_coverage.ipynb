{
 "cells": [
  {
   "cell_type": "code",
   "execution_count": 1,
   "id": "535386b0-1368-47d4-bc30-60e1ca220f10",
   "metadata": {},
   "outputs": [],
   "source": [
    "from pgtools import gff_parser\n",
    "import os\n",
    "import pandas as pd"
   ]
  },
  {
   "cell_type": "code",
   "execution_count": 2,
   "id": "998db526-d94a-466a-963b-ec8bf6a91f7b",
   "metadata": {},
   "outputs": [],
   "source": [
    "gffs_dir = \"/home/pampuch/studia/magisterka/final_summaries/gffs/\"\n",
    "panaroo_cores_dir = \"/home/pampuch/studia/magisterka/final_summaries/core_summaries_new/panaroo_model/\""
   ]
  },
  {
   "cell_type": "code",
   "execution_count": 4,
   "id": "a1426172-bb06-4bc0-9437-ddfe2d4efa47",
   "metadata": {},
   "outputs": [],
   "source": [
    "def get_cds_sum_lens(gff):\n",
    "    cds_lens = {}\n",
    "    gff = gff_parser.parse_joined_gff(gff)\n",
    "    for cds in gff:\n",
    "        cds_len = cds.end - cds.start + 1\n",
    "        if cds.seq_name in cds_lens:\n",
    "            if cds.annotation_id in cds_lens[cds.seq_name]:\n",
    "                cds_lens[cds.seq_name][cds.annotation_id] += cds_len\n",
    "            else:\n",
    "                cds_lens[cds.seq_name][cds.annotation_id] = cds_len\n",
    "        else:\n",
    "            cds_lens[cds.seq_name] = {cds.annotation_id : cds_len}\n",
    "    return cds_lens"
   ]
  },
  {
   "cell_type": "code",
   "execution_count": 5,
   "id": "48e0628d-918b-4beb-9eae-3c471cc9fb52",
   "metadata": {},
   "outputs": [],
   "source": [
    "dataset=\"GPSC_subset\"\n",
    "gpsc_gff = os.path.join(gffs_dir, \"cds_inter_cact\", dataset, \"cds_inter_cact.gff\")"
   ]
  },
  {
   "cell_type": "code",
   "execution_count": 6,
   "id": "83302ddf-5849-44ff-a470-db3c730627c7",
   "metadata": {},
   "outputs": [],
   "source": [
    "lens_gpsc = get_cds_sum_lens(gpsc_gff)"
   ]
  },
  {
   "cell_type": "code",
   "execution_count": 7,
   "id": "5fea79bf-ed86-4fc9-8607-ba99c040677c",
   "metadata": {},
   "outputs": [],
   "source": [
    "sum_gpsc = 0\n",
    "\n",
    "for k, vals in lens_gpsc.items():\n",
    "    for annot, ann_len in vals.items():\n",
    "        sum_gpsc += ann_len"
   ]
  },
  {
   "cell_type": "code",
   "execution_count": 10,
   "id": "fae47a3f-bdea-46c3-8788-3d9c2423d176",
   "metadata": {},
   "outputs": [
    {
     "name": "stdout",
     "output_type": "stream",
     "text": [
      "sim_gr_1e-11_lr_1e-12_mu_1e-15_rep1_fragmented\n",
      "sim_gr_1e-11_lr_1e-12_mu_1e-15_rep1_contaminated\n",
      "klebsiella_subset\n",
      "sim_gr_1e-11_lr_1e-12_mu_1e-15_rep1\n",
      "GPSC_subset\n"
     ]
    }
   ],
   "source": [
    "cactus_sum_cds_lens = {}\n",
    "for dataset in os.listdir(panaroo_cores_dir):\n",
    "    print(dataset)\n",
    "    sum_lens = 0\n",
    "    lens_all = get_cds_sum_lens(os.path.join(gffs_dir, \"cds_inter_cact\", dataset, \"cds_inter_cact.gff\"))\n",
    "    for k, vals in lens_all.items():\n",
    "        for annot, ann_len in vals.items():\n",
    "            sum_lens += ann_len\n",
    "    cactus_sum_cds_lens[dataset] = sum_lens"
   ]
  },
  {
   "cell_type": "code",
   "execution_count": 11,
   "id": "0301a8bd-5e66-4008-bd28-313fe19d0f84",
   "metadata": {},
   "outputs": [
    {
     "data": {
      "text/plain": [
       "{'sim_gr_1e-11_lr_1e-12_mu_1e-15_rep1_fragmented': 115492867,\n",
       " 'sim_gr_1e-11_lr_1e-12_mu_1e-15_rep1_contaminated': 270713583,\n",
       " 'klebsiella_subset': 21064264,\n",
       " 'sim_gr_1e-11_lr_1e-12_mu_1e-15_rep1': 274189200,\n",
       " 'GPSC_subset': 14121688}"
      ]
     },
     "execution_count": 11,
     "metadata": {},
     "output_type": "execute_result"
    }
   ],
   "source": [
    "cactus_sum_cds_lens"
   ]
  },
  {
   "cell_type": "code",
   "execution_count": 12,
   "id": "8a3e70ad-a4a1-4242-aa26-2b249617f1eb",
   "metadata": {},
   "outputs": [],
   "source": [
    "cactus_sum_all_lens = {}"
   ]
  },
  {
   "cell_type": "code",
   "execution_count": null,
   "id": "454b1d49-26a8-4c8b-bfa2-a51c16e0cdcd",
   "metadata": {},
   "outputs": [],
   "source": [
    "cont_lens_dir = \"/home/pampuch/studia/magisterka/final_summaries/scaf_cover/contig_lens_in_model/\"\n",
    "scaff_lens = \"/home/pampuch/studia/magisterka/final_summaries/scaffols_lens\"\n",
    "cont_csv_name = \"scaff_cont_lens.csv\"\n",
    "all_lens_csv = \"scaf_lens.csv\"\n",
    "\n",
    "gffs_dir = \"/home/pampuch/studia/magisterka/final_summaries/gffs/\"\n",
    "# panaroo_cores_dir = \"/home/pampuch/studia/magisterka/final_summaries/core_summaries_new/panaroo_model/\""
   ]
  },
  {
   "cell_type": "code",
   "execution_count": null,
   "id": "900e43ac-4a37-4fe0-b058-f4e3b8fc7db3",
   "metadata": {},
   "outputs": [],
   "source": [
    "def summarise_dataset_coverages(dataset):\n",
    "    for model in os.listdir(cont_lens_dir):\n",
    "        print(model)\n",
    "        df_cont_lens = pd.read_csv(os.path.join(cont_lens_dir, model, dataset, cont_csv_name))\n",
    "\n",
    "            \n",
    "        df_lens = pd.read_csv(os.path.join(scaff_lens, dataset, all_lens_csv))\n",
    "        \n",
    "        if dataset == \"GPSC_subset\" and model != \"panaroo\":       \n",
    "            df_lens = pd.read_csv(os.path.join(scaff_lens, dataset, \"scaf_lens_without_velvet.csv\"))\n",
    "        # print(df_lens.head())\n",
    "        # print(df_cont_lens.head())\n",
    "        df_cov = df_lens.join(df_cont_lens.set_index(\"Contig\"), on=\"Contig\")"
   ]
  },
  {
   "cell_type": "markdown",
   "id": "f1982d6c-d547-41ee-96b6-9a909b6130b7",
   "metadata": {},
   "source": [
    "### Chcę otrzymać:\n",
    "1. pokrycie modelu przez CDS\n",
    "2. pokrycie CDS przez model\n",
    "3. pokrycie genomów przez model"
   ]
  },
  {
   "cell_type": "code",
   "execution_count": 44,
   "id": "26e1a4c4-6bc2-426f-8b1b-01385b4b49c5",
   "metadata": {},
   "outputs": [],
   "source": [
    "cont_lens_dir = \"/home/pampuch/studia/magisterka/final_summaries/scaf_cover/contig_lens_in_model/\"\n",
    "scaff_lens = \"/home/pampuch/studia/magisterka/final_summaries/scaffols_lens\"\n",
    "cont_csv_name = \"scaff_cont_lens.csv\"\n",
    "all_lens_csv = \"scaf_lens.csv\"\n",
    "def model_cds_cov(model, dataset):\n",
    "    summ_dict = {\"Pokrycie pangenomu\": None, \"Pokrycie modelu przez CDS\": None, \"Pokrycie CDS przez model\": None}\n",
    "    print(dataset)\n",
    "    df_cont_lens = pd.read_csv(os.path.join(cont_lens_dir, model, dataset, cont_csv_name))\n",
    "        \n",
    "    df_lens = pd.read_csv(os.path.join(scaff_lens, dataset, all_lens_csv))\n",
    "    \n",
    "    if dataset == \"GPSC_subset\" and model != \"panaroo\":       \n",
    "        df_lens = pd.read_csv(os.path.join(scaff_lens, dataset, \"scaf_lens_without_velvet.csv\"))\n",
    "    df_cov = df_lens.join(df_cont_lens.set_index(\"Contig\"), on=\"Contig\")\n",
    "    # return df_cov\n",
    "    genome_cvg = df_cov[\"sum of seq lens in model\"].sum() / df_cov[\"Len\"].sum()\n",
    "    summ_dict[\"Pokrycie pangenomu\"] = genome_cvg\n",
    "    model_len = df_cov[\"sum of seq lens in model\"].sum()\n",
    "\n",
    "    if model == \"cactus\":\n",
    "        gffs_in_model = os.path.join(gffs_dir, \"cds_inter_cact\", dataset, \"/studia/magisterka/final_summaries/gffs/prog_core\")\n",
    "\n",
    "    if model == \"progressive\":\n",
    "        gffs_in_model = os.path.join(\"/home/pampuch/studia/magisterka/final_summaries/gffs/prog_core/cds_inter_prog/\", dataset, \"cds_inter_prog.gff\")\n",
    "        \n",
    "    sum_lens = 0\n",
    "    lens_all = get_cds_sum_lens(gffs_in_model)\n",
    "    for k, vals in lens_all.items():\n",
    "        for annot, ann_len in vals.items():\n",
    "            sum_lens += ann_len\n",
    "            \n",
    "    cds_in_model_len = sum_lens\n",
    "    summ_dict[\"Pokrycie modelu przez CDS\"] = cds_in_model_len *100 / model_len\n",
    "\n",
    "    \n",
    "    lens_all = get_cds_sum_lens(os.path.join(gffs_dir, \"cds_gffs\", dataset, \"all.gff\"))\n",
    "    sum_lens = 0\n",
    "    # lens_all = get_cds_sum_lens(all_gffs)\n",
    "    for k, vals in lens_all.items():\n",
    "        for annot, ann_len in vals.items():\n",
    "            sum_lens += ann_len\n",
    "    cds_sum_lens = sum_lens\n",
    "    summ_dict[\"Pokrycie CDS przez model\"] = cds_in_model_len*100 / cds_sum_lens\n",
    "    return summ_dict"
   ]
  },
  {
   "cell_type": "code",
   "execution_count": 42,
   "id": "4c2f4de5-2eaf-4c32-baae-e1bfeabb74d8",
   "metadata": {},
   "outputs": [
    {
     "ename": "FileNotFoundError",
     "evalue": "[Errno 2] No such file or directory: '/studia/magisterka/final_summaries/gffs/prog_core'",
     "output_type": "error",
     "traceback": [
      "\u001b[0;31m---------------------------------------------------------------------------\u001b[0m",
      "\u001b[0;31mFileNotFoundError\u001b[0m                         Traceback (most recent call last)",
      "Cell \u001b[0;32mIn[42], line 2\u001b[0m\n\u001b[1;32m      1\u001b[0m datset\u001b[38;5;241m=\u001b[39m\u001b[38;5;124m\"\u001b[39m\u001b[38;5;124mGPSC_subset\u001b[39m\u001b[38;5;124m\"\u001b[39m\n\u001b[0;32m----> 2\u001b[0m \u001b[43mmodel_cds_cov\u001b[49m\u001b[43m(\u001b[49m\u001b[38;5;124;43m\"\u001b[39;49m\u001b[38;5;124;43mcactus\u001b[39;49m\u001b[38;5;124;43m\"\u001b[39;49m\u001b[43m,\u001b[49m\u001b[43m \u001b[49m\u001b[43mdataset\u001b[49m\u001b[43m)\u001b[49m\n",
      "Cell \u001b[0;32mIn[36], line 26\u001b[0m, in \u001b[0;36mmodel_cds_cov\u001b[0;34m(model, dataset)\u001b[0m\n\u001b[1;32m     23\u001b[0m     gffs_in_model \u001b[38;5;241m=\u001b[39m os\u001b[38;5;241m.\u001b[39mpath\u001b[38;5;241m.\u001b[39mjoin(\u001b[38;5;124m\"\u001b[39m\u001b[38;5;124m/home/pampuch/studia/magisterka/final_summaries/gffs/prog_core/cds_inter_prog/\u001b[39m\u001b[38;5;124m\"\u001b[39m, dataset, \u001b[38;5;124m\"\u001b[39m\u001b[38;5;124mcds_inter_prog.gff\u001b[39m\u001b[38;5;124m\"\u001b[39m)\n\u001b[1;32m     25\u001b[0m sum_lens \u001b[38;5;241m=\u001b[39m \u001b[38;5;241m0\u001b[39m\n\u001b[0;32m---> 26\u001b[0m lens_all \u001b[38;5;241m=\u001b[39m \u001b[43mget_cds_sum_lens\u001b[49m\u001b[43m(\u001b[49m\u001b[43mgffs_in_model\u001b[49m\u001b[43m)\u001b[49m\n\u001b[1;32m     27\u001b[0m \u001b[38;5;28;01mfor\u001b[39;00m k, vals \u001b[38;5;129;01min\u001b[39;00m lens_all\u001b[38;5;241m.\u001b[39mitems():\n\u001b[1;32m     28\u001b[0m     \u001b[38;5;28;01mfor\u001b[39;00m annot, ann_len \u001b[38;5;129;01min\u001b[39;00m vals\u001b[38;5;241m.\u001b[39mitems():\n",
      "Cell \u001b[0;32mIn[4], line 3\u001b[0m, in \u001b[0;36mget_cds_sum_lens\u001b[0;34m(gff)\u001b[0m\n\u001b[1;32m      1\u001b[0m \u001b[38;5;28;01mdef\u001b[39;00m \u001b[38;5;21mget_cds_sum_lens\u001b[39m(gff):\n\u001b[1;32m      2\u001b[0m     cds_lens \u001b[38;5;241m=\u001b[39m {}\n\u001b[0;32m----> 3\u001b[0m     gff \u001b[38;5;241m=\u001b[39m \u001b[43mgff_parser\u001b[49m\u001b[38;5;241;43m.\u001b[39;49m\u001b[43mparse_joined_gff\u001b[49m\u001b[43m(\u001b[49m\u001b[43mgff\u001b[49m\u001b[43m)\u001b[49m\n\u001b[1;32m      4\u001b[0m     \u001b[38;5;28;01mfor\u001b[39;00m cds \u001b[38;5;129;01min\u001b[39;00m gff:\n\u001b[1;32m      5\u001b[0m         cds_len \u001b[38;5;241m=\u001b[39m cds\u001b[38;5;241m.\u001b[39mend \u001b[38;5;241m-\u001b[39m cds\u001b[38;5;241m.\u001b[39mstart \u001b[38;5;241m+\u001b[39m \u001b[38;5;241m1\u001b[39m\n",
      "File \u001b[0;32m~/studia/magisterka/pangenome_tools/pgtools/gff_parser.py:305\u001b[0m, in \u001b[0;36mparse_joined_gff\u001b[0;34m(gff_path, store_sequences)\u001b[0m\n\u001b[1;32m    303\u001b[0m sequence \u001b[38;5;241m=\u001b[39m \u001b[38;5;124m\"\u001b[39m\u001b[38;5;124m\"\u001b[39m\n\u001b[1;32m    304\u001b[0m fasta_id \u001b[38;5;241m=\u001b[39m \u001b[38;5;28;01mNone\u001b[39;00m\n\u001b[0;32m--> 305\u001b[0m \u001b[38;5;28;01mwith\u001b[39;00m \u001b[38;5;28;43mopen\u001b[39;49m\u001b[43m(\u001b[49m\u001b[43mgff_path\u001b[49m\u001b[43m)\u001b[49m \u001b[38;5;28;01mas\u001b[39;00m f:\n\u001b[1;32m    306\u001b[0m     \u001b[38;5;28mnext\u001b[39m(f)\n\u001b[1;32m    307\u001b[0m     \u001b[38;5;66;03m# genome_name = gff_path.split(\"/\")[-1][:-4]\u001b[39;00m\n",
      "\u001b[0;31mFileNotFoundError\u001b[0m: [Errno 2] No such file or directory: '/studia/magisterka/final_summaries/gffs/prog_core'"
     ]
    }
   ],
   "source": [
    "datset=\"GPSC_subset\"\n",
    "model_cds_cov(\"cactus\", dataset)"
   ]
  },
  {
   "cell_type": "code",
   "execution_count": 45,
   "id": "bcc58a32-e131-45e8-86b7-598c8a3693fa",
   "metadata": {},
   "outputs": [
    {
     "name": "stdout",
     "output_type": "stream",
     "text": [
      "GPSC_subset\n"
     ]
    },
    {
     "data": {
      "text/plain": [
       "{'Pokrycie pangenomu': 0.8508167573461013,\n",
       " 'Pokrycie modelu przez CDS': 87.1991247628826,\n",
       " 'Pokrycie CDS przez model': 87.16098417577135}"
      ]
     },
     "execution_count": 45,
     "metadata": {},
     "output_type": "execute_result"
    }
   ],
   "source": [
    "datset=\"GPSC_subset\"\n",
    "model_cds_cov(\"progressive\", dataset)"
   ]
  },
  {
   "cell_type": "code",
   "execution_count": 48,
   "id": "24da0f48-fea4-45d2-9764-62fa51eae961",
   "metadata": {},
   "outputs": [
    {
     "name": "stdout",
     "output_type": "stream",
     "text": [
      "sim_gr_1e-11_lr_1e-12_mu_1e-15_rep1_fragmented\n"
     ]
    },
    {
     "data": {
      "text/plain": [
       "{'Pokrycie pangenomu': 0.9652962654020067,\n",
       " 'Pokrycie modelu przez CDS': 81.91096325099917,\n",
       " 'Pokrycie CDS przez model': 97.14066807832825}"
      ]
     },
     "execution_count": 48,
     "metadata": {},
     "output_type": "execute_result"
    }
   ],
   "source": [
    "dataset=\"sim_gr_1e-11_lr_1e-12_mu_1e-15_rep1_fragmented\"\n",
    "model_cds_cov(\"progressive\", dataset)"
   ]
  }
 ],
 "metadata": {
  "kernelspec": {
   "display_name": "Python 3 (ipykernel)",
   "language": "python",
   "name": "python3"
  },
  "language_info": {
   "codemirror_mode": {
    "name": "ipython",
    "version": 3
   },
   "file_extension": ".py",
   "mimetype": "text/x-python",
   "name": "python",
   "nbconvert_exporter": "python",
   "pygments_lexer": "ipython3",
   "version": "3.10.12"
  }
 },
 "nbformat": 4,
 "nbformat_minor": 5
}
