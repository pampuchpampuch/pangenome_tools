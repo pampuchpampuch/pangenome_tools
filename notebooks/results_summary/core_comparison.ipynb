{
 "cells": [
  {
   "cell_type": "code",
   "execution_count": 4,
   "id": "800b9d14-d77e-43a6-a951-b83026a3aaab",
   "metadata": {},
   "outputs": [],
   "source": [
    "import pandas as pd\n",
    "import os"
   ]
  },
  {
   "cell_type": "code",
   "execution_count": 5,
   "id": "c129e86b-d11b-4357-ac91-e13b5e038a24",
   "metadata": {},
   "outputs": [],
   "source": [
    "core_res_dir = \"/home/pampuch/studia/magisterka/core_summaries/\""
   ]
  },
  {
   "cell_type": "code",
   "execution_count": 6,
   "id": "75a95e72-94bc-4159-9b65-a447481b20e6",
   "metadata": {},
   "outputs": [
    {
     "name": "stdout",
     "output_type": "stream",
     "text": [
      "panaroo_model\n",
      "pggb_mafs\n",
      "cactus_mafs\n",
      "pggb_mafs_thr03\n"
     ]
    }
   ],
   "source": [
    "for dir in os.listdir(core_res_dir):\n",
    "    print(dir)"
   ]
  }
 ],
 "metadata": {
  "kernelspec": {
   "display_name": "Python 3 (ipykernel)",
   "language": "python",
   "name": "python3"
  },
  "language_info": {
   "codemirror_mode": {
    "name": "ipython",
    "version": 3
   },
   "file_extension": ".py",
   "mimetype": "text/x-python",
   "name": "python",
   "nbconvert_exporter": "python",
   "pygments_lexer": "ipython3",
   "version": "3.10.12"
  }
 },
 "nbformat": 4,
 "nbformat_minor": 5
}
