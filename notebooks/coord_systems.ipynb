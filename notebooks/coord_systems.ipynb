{
 "cells": [
  {
   "cell_type": "code",
   "execution_count": 1,
   "id": "05f78c2b-9a2f-42a2-b638-e75226195300",
   "metadata": {},
   "outputs": [],
   "source": [
    "from pgtools.pangenome import invert_coords, convert_coords"
   ]
  },
  {
   "cell_type": "code",
   "execution_count": 2,
   "id": "27818395-fd74-4529-b1d3-3c0f3c0ffe0f",
   "metadata": {},
   "outputs": [
    {
     "name": "stdout",
     "output_type": "stream",
     "text": [
      ":CCC\n"
     ]
    },
    {
     "data": {
      "text/plain": [
       "(4, 6)"
      ]
     },
     "execution_count": 2,
     "metadata": {},
     "output_type": "execute_result"
    }
   ],
   "source": [
    "invert_coords(3, 5, 9, \"maf\")"
   ]
  },
  {
   "cell_type": "code",
   "execution_count": 3,
   "id": "b2e979d8-bee1-4fb8-8c16-1d809749230c",
   "metadata": {},
   "outputs": [],
   "source": [
    "# def convert_coords(start: int, end: int, strand: int, src_size: int, in_format: str, out_format: str = \"maf\"):\n",
    "#     ### !!! currently only conversion to MAF format coord system is implemented.\n",
    "#     assert out_format == \"maf\"\n",
    "#     in_coord_system = FORMATS_COORD_SYSTEMS[in_format][\"coord_system\"]\n",
    "\n",
    "#     res_start = start if in_coord_system[0] == \"0-based\" else start - 1\n",
    "#     res_end = end if in_coord_system[1] == \"half-open\" else end + 1\n",
    "\n",
    "#     if strand > 0 or FORMATS_COORD_SYSTEMS[in_format] == FORMATS_COORD_SYSTEMS[out_format]:\n",
    "#         return res_start, res_end        \n",
    "    \n",
    "#     rev_res_start = src_size - res_end\n",
    "#     rev_res_end = src_size - res_start\n",
    "\n",
    "    # return rev_res_start, rev_res_end\n",
    "\n",
    "FORMATS_COORD_SYSTEMS = {\n",
    "    \"maf\": {\"coord_system\": (\"0-based\", \"half-open\"), \"rev_strand_coords\": \"rev_strand\"},\n",
    "    # per ensembl, gff is NOT half open (but fully-closed) - but works???\n",
    "    \"gff\": {\"coord_system\": (\"1-based\", \"half-open\"), \"rev_strand_coords\": \"forward_strand\"},\n",
    "    \"gfa\": {\"coord_system\": (\"0-based\", \"half-open\"), \"rev_strand_coords\": \"forward_strand\"},\n",
    "    # is panaroo coord system the same for refound and regular (gff) genes - NO, refound is 0-based?\n",
    "    \"panaroo\": {\"coord_system\": (\"1-based\", \"half-open\"), \"rev_strand_coords\": \"forward_strand\"},\n",
    "    \"panaroo_refound\":  {\"coord_system\": (\"0-based\", \"half-open\"), \"rev_strand_coords\": \"forward_strand\"}\n",
    "    }\n",
    "\n",
    "def invert_coords(start, end, seq_size, format):\n",
    "    assert format in FORMATS_COORD_SYSTEMS\n",
    "    coord_system = FORMATS_COORD_SYSTEMS[format][\"coord_system\"]\n",
    "    # what if end is not half open?????\n",
    "    if coord_system[0] == \"0-based\":\n",
    "        res_end = seq_size - start\n",
    "    else:\n",
    "        res_end = seq_size - start + 1\n",
    "    res_start = seq_size - end\n",
    "    return res_start, res_end\n",
    "\n",
    "\n",
    "def convert_coords(start: int, end: int, strand: int, src_size: int, in_format: str, out_format: str = \"maf\"):\n",
    "    ### !!! other end than half-open is NOT supported!\n",
    "    # assert out_format == \"maf\"\n",
    "    in_coord_system = FORMATS_COORD_SYSTEMS[in_format][\"coord_system\"]\n",
    "    out_coord_system = FORMATS_COORD_SYSTEMS[out_format][\"coord system\"]\n",
    "    in_rev = FORMATS_COORD_SYSTEMS[in_format][\"rev_strand_coords\"]\n",
    "    out_rev = FORMATS_COORD_SYSTEMS[out_format][\"rev_strand_coords\"]\n",
    "    # if in is rev strand and the out is not: reverse if strand is -\n",
    "\n",
    "    # start working on forward strand\n",
    "    if in_rev == \"rev_strand\" and strand < 0:\n",
    "        start, end = invert_coords(start, end, src_size, in_format)\n",
    "              \n",
    "    # then to \"universal\" coord system (0-based, half open, forward strand)\n",
    "\n",
    "    if in_coord_system[0] == \"1-based\":\n",
    "        start += 1\n",
    "\n",
    "    # then to chosen out format \n",
    "\n",
    "    if out_coord_system[0] == \"1-based\":\n",
    "        start -= 1\n",
    "    if out_rev == \"rev_strand\":\n",
    "        start, end = invert_coords(start, end, src_size, out_format)\n",
    "\n",
    "    return start, end\n",
    "\n",
    "    # IS IT POSSIBLE TO REVERSE FIRST IF NECESSERY AND THEN JUST ADJUST THE COORDS???\n",
    "    # CHECK ON EXAMPLES\n",
    "\n",
    "s = \"0123456789\"\n",
    "\n",
    "# CHOOSE AN EXAMPLE SEQ FROM GFF AND MAF, try changing between format and see if it stays the same\n"
   ]
  },
  {
   "cell_type": "code",
   "execution_count": 4,
   "id": "c21d7629-dfe6-40c7-ac5c-f93912b47dde",
   "metadata": {},
   "outputs": [],
   "source": []
  },
  {
   "cell_type": "code",
   "execution_count": null,
   "id": "a8a28278-d09d-408b-91fe-c5bf7c0f2f12",
   "metadata": {},
   "outputs": [],
   "source": []
  }
 ],
 "metadata": {
  "kernelspec": {
   "display_name": "Python 3 (ipykernel)",
   "language": "python",
   "name": "python3"
  },
  "language_info": {
   "codemirror_mode": {
    "name": "ipython",
    "version": 3
   },
   "file_extension": ".py",
   "mimetype": "text/x-python",
   "name": "python",
   "nbconvert_exporter": "python",
   "pygments_lexer": "ipython3",
   "version": "3.10.12"
  }
 },
 "nbformat": 4,
 "nbformat_minor": 5
}
