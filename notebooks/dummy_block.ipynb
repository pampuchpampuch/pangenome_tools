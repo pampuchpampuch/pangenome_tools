{
 "cells": [
  {
   "cell_type": "code",
   "execution_count": 1,
   "id": "da13d69c-2dc9-4902-8b72-f57cd53e8be2",
   "metadata": {},
   "outputs": [],
   "source": [
    "from pgtools import gff_parser"
   ]
  },
  {
   "cell_type": "code",
   "execution_count": 2,
   "id": "74f43382-3646-4d0a-873d-3a19f8760396",
   "metadata": {},
   "outputs": [],
   "source": [
    "gff_dir = \"/home/pampuch/studia/magisterka/test_data/klebsiella_subset_old/gff\""
   ]
  },
  {
   "cell_type": "code",
   "execution_count": 4,
   "id": "a295f0bb-1128-4fb9-82f7-7980dac86024",
   "metadata": {},
   "outputs": [
    {
     "name": "stdout",
     "output_type": "stream",
     "text": [
      "a----\n",
      "-a---\n",
      "--b--\n",
      "---b-\n",
      "----c\n"
     ]
    }
   ],
   "source": [
    "def stairs_gaps(letters):\n",
    "    lines = []\n",
    "    pre_gaps = 0\n",
    "    post_gaps = len(letters) - 1\n",
    "    for i in range(len(letters)):\n",
    "        lines.append(\"-\"*pre_gaps + letters[i] + \"-\"*post_gaps)\n",
    "        pre_gaps += 1\n",
    "        post_gaps -= 1\n",
    "    return lines\n",
    "\n",
    "block = stairs_gaps([\"a\",\"a\",\"b\",\"b\",\"c\"])\n",
    "for i in block: print(i)      "
   ]
  },
  {
   "cell_type": "code",
   "execution_count": 6,
   "id": "ad277d5b-8e60-492c-bc39-a6f26363b3ce",
   "metadata": {},
   "outputs": [],
   "source": [
    "all_contigs =  gff_parser.scaffolds_from_GFFs_dir(gff_dir)"
   ]
  },
  {
   "cell_type": "code",
   "execution_count": 9,
   "id": "cd83e334-c934-42e3-aab4-a517354c9b70",
   "metadata": {},
   "outputs": [
    {
     "name": "stdout",
     "output_type": "stream",
     "text": [
      "5235_5_12.contig00001 G\n"
     ]
    }
   ],
   "source": [
    "for k, v in all_contigs.items():\n",
    "    print(k,v[0])\n",
    "    break"
   ]
  },
  {
   "cell_type": "code",
   "execution_count": 10,
   "id": "fcd8f2e4-da48-4fa8-b32b-106b36f03495",
   "metadata": {},
   "outputs": [],
   "source": [
    "pg_gffs = gff_parser.parse_GFFs_dir(gff_dir, gff_simple=False)"
   ]
  },
  {
   "cell_type": "code",
   "execution_count": 17,
   "id": "6546a81b-c00d-45fe-adb7-6bffb3061479",
   "metadata": {},
   "outputs": [],
   "source": [
    "scaffs = {}\n",
    "for genome, gff in pg_gffs.items():\n",
    "    for scaff in gff.scaffolds:\n",
    "        scaffs[scaff.genome + \".\" + scaff.name] = scaff.length"
   ]
  },
  {
   "cell_type": "code",
   "execution_count": 19,
   "id": "3ff6fda0-e1e6-4331-abc9-0164030b11ce",
   "metadata": {},
   "outputs": [],
   "source": [
    "for scaff in all_contigs:\n",
    "    assert len(all_contigs[scaff]) == scaffs[scaff]"
   ]
  },
  {
   "cell_type": "code",
   "execution_count": 3,
   "id": "92f0d941-ff05-4fda-866f-67563d86ba10",
   "metadata": {},
   "outputs": [],
   "source": [
    "dummy_block_dir = \"/home/pampuch/studia/magisterka/test_data/gappy_block.txt\""
   ]
  },
  {
   "cell_type": "code",
   "execution_count": 4,
   "id": "89f16d1d-6fb4-4964-8236-0c5a3a9f5aba",
   "metadata": {},
   "outputs": [],
   "source": [
    "def all_scaffs_to_gappy_block(gff_dir):\n",
    "    pg_gffs = gff_parser.parse_GFFs_dir(gff_dir, gff_simple=False)\n",
    "    scaffs = {}\n",
    "    for genome, gff in pg_gffs.items():\n",
    "        for scaff in gff.scaffolds:\n",
    "            scaffs[scaff.genome + \".\" + scaff.name] = {\"len\": scaff.length, \"first_pos\": scaff.seq[0]}\n",
    "    # return scaffs\n",
    "    lines = \"a\\n\"\n",
    "    pre_gaps = 0\n",
    "    post_gaps = len(scaffs) - 1\n",
    "    for scaff_name, params in scaffs.items():\n",
    "        line_seq = \"-\"*pre_gaps + params[\"first_pos\"] + \"-\"*post_gaps\n",
    "        pre_gaps += 1\n",
    "        post_gaps -= 1\n",
    "        strand_sign = \"+\"\n",
    "        scaff_len = params[\"len\"]\n",
    "        lines += f\"s\\t{scaff_name}\\t{0}\\t{1}\\t{strand_sign}\\t{scaff_len}\\t{line_seq}\\n\"\n",
    "    return lines\n",
    "    \n",
    "res = all_scaffs_to_gappy_block(gff_dir)"
   ]
  },
  {
   "cell_type": "code",
   "execution_count": 6,
   "id": "d4249dc2-b755-4063-8ddc-b1ff64055533",
   "metadata": {},
   "outputs": [
    {
     "data": {
      "text/plain": [
       "244149799"
      ]
     },
     "execution_count": 6,
     "metadata": {},
     "output_type": "execute_result"
    }
   ],
   "source": [
    "f = open(dummy_block_dir, \"w\")\n",
    "f.write(res)"
   ]
  },
  {
   "cell_type": "code",
   "execution_count": 39,
   "id": "16b00772-a9dd-4d54-84c9-41e72949bcae",
   "metadata": {},
   "outputs": [
    {
     "name": "stdout",
     "output_type": "stream",
     "text": [
      "a\n",
      "s\t5235_5_12.contig00001\t0\t1\t+\t64326\tG-------------------------------------------------------------------------------------------------------------------------------------------------------------------------------------------------------------------------------------------------------------------------------------------------------------------------------------------------------------------------------------------------------------------------------------------------------------------------------------------------------------------------------------------------------------------------------------------------------------------------------------------------------------------------------------------------------------------------------------------------------------------------------------------------------------------------------------------------------------------------------------------------------------------------------------------------------------------------------------------------\n"
     ]
    }
   ],
   "source": [
    "print(res[:1000])"
   ]
  }
 ],
 "metadata": {
  "kernelspec": {
   "display_name": "Python 3 (ipykernel)",
   "language": "python",
   "name": "python3"
  },
  "language_info": {
   "codemirror_mode": {
    "name": "ipython",
    "version": 3
   },
   "file_extension": ".py",
   "mimetype": "text/x-python",
   "name": "python",
   "nbconvert_exporter": "python",
   "pygments_lexer": "ipython3",
   "version": "3.10.12"
  }
 },
 "nbformat": 4,
 "nbformat_minor": 5
}
